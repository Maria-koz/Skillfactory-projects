{
 "cells": [
  {
   "cell_type": "code",
   "execution_count": 14,
   "metadata": {},
   "outputs": [],
   "source": [
    "import numpy as np\n",
    "\n",
    "def score_game(game_core):\n",
    "    '''Запускаем игру 1000 раз, чтобы узнать, как быстро игра угадывает число'''\n",
    "    \n",
    "    count_ls = []\n",
    "    np.random.seed(1)  # фиксируем RANDOM SEED, чтобы ваш эксперимент был воспроизводим!\n",
    "    random_array = np.random.randint(1,101, size=(1000))\n",
    "    for number in random_array:\n",
    "        count_ls.append(game_core(number))\n",
    "    score = int(np.mean(count_ls))\n",
    "    print(f\"Ваш алгоритм угадывает число в среднем за {score} попыток\")\n",
    "    return(score)\n",
    "\n",
    "def game_core_v1(number):\n",
    "    '''Устанавливаем любое random число в интервале от 0 до 100. Далее поэтапно сужаем область поиска, уменьшая \n",
    "    интервал чисел, в котором производится поиск, в 2 раза. Функция принимает загаданное число и возвращает число попыток'''\n",
    "    \n",
    "    predict = np.random.randint(1,101) # предполагаемое число\n",
    "    count = 0 # счетчик\n",
    "    lower_limit = 0 # нижняя граница интервала\n",
    "    upper_limit = 100 # верхняя граница интервала\n",
    "   \n",
    "    while number != predict: \n",
    "        count+=1 # плюсуем попытку, пока не будет найдено число\n",
    "        \n",
    "        if number > predict:\n",
    "            lower_limit = predict # сдвигаем нижнюю границу поиска, если загаданное число больше предполагаемого\n",
    "            predict = round ((predict + upper_limit) / 2) # подбирается новое число в соответствии с областью поиска\n",
    "            \n",
    "        elif number < predict:\n",
    "            upper_limit = predict # сдвигаем верхнюю границу поиска, если загаданное число меньше предполагаемого\n",
    "            predict = round ((predict + lower_limit) / 2) # подбирается новое число в соответствии с областью поиска\n",
    "            \n",
    "    return (count) # выход из цикла, если угадали"
   ]
  },
  {
   "cell_type": "code",
   "execution_count": 16,
   "metadata": {},
   "outputs": [
    {
     "name": "stdout",
     "output_type": "stream",
     "text": [
      "Ваш алгоритм угадывает число в среднем за 5 попыток\n"
     ]
    },
    {
     "data": {
      "text/plain": [
       "5"
      ]
     },
     "execution_count": 16,
     "metadata": {},
     "output_type": "execute_result"
    }
   ],
   "source": [
    "# проверка\n",
    "score_game(game_core_v1)"
   ]
  },
  {
   "cell_type": "code",
   "execution_count": null,
   "metadata": {},
   "outputs": [],
   "source": []
  }
 ],
 "metadata": {
  "kernelspec": {
   "display_name": "Python 3",
   "language": "python",
   "name": "python3"
  },
  "language_info": {
   "codemirror_mode": {
    "name": "ipython",
    "version": 3
   },
   "file_extension": ".py",
   "mimetype": "text/x-python",
   "name": "python",
   "nbconvert_exporter": "python",
   "pygments_lexer": "ipython3",
   "version": "3.8.5"
  }
 },
 "nbformat": 4,
 "nbformat_minor": 4
}
