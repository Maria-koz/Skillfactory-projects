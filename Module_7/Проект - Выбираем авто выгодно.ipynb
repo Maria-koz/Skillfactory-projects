{
 "cells": [
  {
   "cell_type": "markdown",
   "metadata": {},
   "source": [
    "# Импорт библиотек и создание функций"
   ]
  },
  {
   "cell_type": "code",
   "execution_count": 515,
   "metadata": {
    "_cell_guid": "b1076dfc-b9ad-4769-8c92-a6c4dae69d19",
    "_uuid": "8f2839f25d086af736a60e9eeb907d3b93b6e0e5",
    "execution": {
     "iopub.execute_input": "2022-01-11T09:27:53.758845Z",
     "iopub.status.busy": "2022-01-11T09:27:53.758591Z",
     "iopub.status.idle": "2022-01-11T09:27:53.766716Z",
     "shell.execute_reply": "2022-01-11T09:27:53.766106Z",
     "shell.execute_reply.started": "2022-01-11T09:27:53.758813Z"
    },
    "papermill": {
     "duration": 1.219772,
     "end_time": "2020-10-26T12:46:42.581597",
     "exception": false,
     "start_time": "2020-10-26T12:46:41.361825",
     "status": "completed"
    },
    "tags": []
   },
   "outputs": [],
   "source": [
    "import numpy as np\n",
    "import pandas as pd\n",
    "\n",
    "import re\n",
    "import sys\n",
    "import itertools\n",
    "import datetime\n",
    "from tqdm.notebook import tqdm\n",
    "import pandas_profiling\n",
    "\n",
    "from datetime import datetime\n",
    "\n",
    "import seaborn as sns\n",
    "import matplotlib.pyplot as plt\n",
    "\n",
    "from sklearn.preprocessing import LabelEncoder, OneHotEncoder, StandardScaler, PolynomialFeatures\n",
    "from sklearn.feature_selection import f_regression, mutual_info_regression\n",
    "from sklearn.model_selection import train_test_split, KFold, RandomizedSearchCV, cross_val_score\n",
    "from sklearn.ensemble import RandomForestRegressor, BaggingRegressor, ExtraTreesRegressor, AdaBoostRegressor, GradientBoostingRegressor, StackingRegressor\n",
    "from sklearn.linear_model import LinearRegression\n",
    "from sklearn.metrics import mean_squared_error, make_scorer\n",
    "\n",
    "from catboost import CatBoostRegressor\n",
    "import xgboost as xgb\n",
    "\n",
    "from hyperopt import tpe, hp, fmin, STATUS_OK, Trials\n",
    "from hyperopt.pyll.base import scope\n",
    "\n",
    "import warnings\n",
    "warnings.filterwarnings(\"ignore\")"
   ]
  },
  {
   "cell_type": "code",
   "execution_count": 516,
   "metadata": {},
   "outputs": [
    {
     "name": "stdout",
     "output_type": "stream",
     "text": [
      "Python       : 3.8.5 (default, Sep  3 2020, 21:29:08) [MSC v.1916 64 bit (AMD64)]\n",
      "Numpy        : 1.20.0\n"
     ]
    }
   ],
   "source": [
    "print('Python       :', sys.version.split('\\n')[0])\n",
    "print('Numpy        :', np.__version__)"
   ]
  },
  {
   "cell_type": "code",
   "execution_count": 517,
   "metadata": {
    "_kg_hide-input": true,
    "execution": {
     "iopub.execute_input": "2022-01-11T09:27:53.767935Z",
     "iopub.status.busy": "2022-01-11T09:27:53.767745Z",
     "iopub.status.idle": "2022-01-11T09:27:56.272455Z",
     "shell.execute_reply": "2022-01-11T09:27:56.271333Z",
     "shell.execute_reply.started": "2022-01-11T09:27:53.767911Z"
    },
    "papermill": {
     "duration": 5.172536,
     "end_time": "2020-10-26T12:46:47.852593",
     "exception": false,
     "start_time": "2020-10-26T12:46:42.680057",
     "status": "completed"
    },
    "tags": []
   },
   "outputs": [],
   "source": [
    "# зафиксируем версии пакетов, чтобы эксперименты были воспроизводимы:\n",
    "!pip freeze > requirements.txt"
   ]
  },
  {
   "cell_type": "code",
   "execution_count": 518,
   "metadata": {
    "execution": {
     "iopub.execute_input": "2022-01-11T09:27:56.274916Z",
     "iopub.status.busy": "2022-01-11T09:27:56.274655Z",
     "iopub.status.idle": "2022-01-11T09:27:56.279396Z",
     "shell.execute_reply": "2022-01-11T09:27:56.278653Z",
     "shell.execute_reply.started": "2022-01-11T09:27:56.274883Z"
    },
    "papermill": {
     "duration": 0.039842,
     "end_time": "2020-10-26T12:46:47.922434",
     "exception": false,
     "start_time": "2020-10-26T12:46:47.882592",
     "status": "completed"
    },
    "tags": []
   },
   "outputs": [],
   "source": [
    "# зафиксируем RANDOM_SEED, чтобы эксперименты были воспроизводимы:\n",
    "RANDOM_SEED = 42"
   ]
  },
  {
   "cell_type": "markdown",
   "metadata": {},
   "source": [
    "### Функции предобработки"
   ]
  },
  {
   "cell_type": "code",
   "execution_count": 519,
   "metadata": {
    "_kg_hide-input": true,
    "execution": {
     "iopub.execute_input": "2022-01-11T09:27:56.280956Z",
     "iopub.status.busy": "2022-01-11T09:27:56.280772Z",
     "iopub.status.idle": "2022-01-11T09:27:56.300168Z",
     "shell.execute_reply": "2022-01-11T09:27:56.299311Z",
     "shell.execute_reply.started": "2022-01-11T09:27:56.280933Z"
    }
   },
   "outputs": [],
   "source": [
    "# заполнение engineDisplacement числовыми значениями\n",
    "def mape(y_true: np.ndarray,\n",
    "         y_pred: np.ndarray):\n",
    "    return np.mean(np.abs((y_pred-y_true)/y_true))\n",
    "\n",
    "# заполнение owners числовыми значениями\n",
    "def transf_engineDisplacement_to_float(row: str):\n",
    "    extracted_value = re.findall('\\d\\.\\d', str(row))\n",
    "    if extracted_value:\n",
    "        return float(extracted_value[0])\n",
    "    return None\n",
    "\n",
    "# заполнение vehicleTransmission числовыми значениями\n",
    "def transf_owners_to_float(value: str):\n",
    "    if isinstance(value, str):\n",
    "        return float(value.replace('\\xa0', ' ').split()[0])\n",
    "    return value\n",
    "\n",
    "# заполнение enginePower числовыми значениями\n",
    "def transf_vehicleTransmission_to_categ(value: str):\n",
    "    if isinstance(value, str):\n",
    "        if value in ['MECHANICAL', 'механическая']:\n",
    "            return 'mechanical'\n",
    "        else:\n",
    "            return 'automatic'\n",
    "    return value\n",
    "\n",
    "\n",
    "\n",
    "def transf_enginePower_to_float(value: str):\n",
    "    if isinstance(value, str):\n",
    "        if value == 'undefined N12':\n",
    "            return None\n",
    "        else:\n",
    "            return float(value.replace(' N12', ''))\n",
    "    return value\n",
    "\n",
    "\n",
    "def vis_num_feature(data: pd.DataFrame,\n",
    "                    column: str,\n",
    "                    target_column: str,\n",
    "                    query_for_slicing: str):\n",
    "    # построение графиков для численных переменных\n",
    "    plt.style.use('seaborn-paper')\n",
    "    fig, ax = plt.subplots(2, 3, figsize=(15, 9))\n",
    "    data[column].plot.hist(ax=ax[0][0])\n",
    "    ax[0][0].set_title(column)\n",
    "    sns.boxplot(data=data, y=column, ax=ax[0][1], orient='v')\n",
    "    sns.scatterplot(data=data.query(query_for_slicing),\n",
    "                    x=column, y=target_column, ax=ax[0][2])\n",
    "    np.log2(data[column] + 1).plot.hist(ax=ax[1][0])\n",
    "    ax[1][0].set_title(f'log2 transformed {column}')\n",
    "    sns.boxplot(y=np.log2(data[column]), ax=ax[1][1], orient='v')\n",
    "    plt.show()\n",
    "\n",
    "\n",
    "def calculate_stat_outliers(data_initial: pd.DataFrame,\n",
    "                            column: str,\n",
    "                            log: bool = False):\n",
    "\n",
    "    data = data_initial.copy()\n",
    "    if log:\n",
    "        data[column] = np.log2(data[column] + 1)\n",
    "    q1 = data[column].quantile(0.25)\n",
    "    q3 = data[column].quantile(0.75)\n",
    "    IQR = q3 - q1\n",
    "    mask25 = q1 - IQR * 1.5\n",
    "    mask75 = q3 + IQR * 1.5\n",
    "\n",
    "    values = {}\n",
    "    values['borders'] = mask25, mask75\n",
    "    values['# outliers'] = data[(\n",
    "        data[column] < mask25)].shape[0], data[data[column] > mask75].shape[0]\n",
    "    return pd.DataFrame.from_dict(data=values, orient='index', columns=['left', 'right'])\n",
    "\n",
    "\n",
    "def show_boxplot(data: pd.DataFrame,\n",
    "                 column: str,\n",
    "                 target_column: str):\n",
    "    # построение боксплотов для численных признаков\n",
    "    fig, ax = plt.subplots(figsize=(14, 4))\n",
    "    sns.boxplot(x=column, y=target_column,\n",
    "                data=data.loc[data.loc[:, column].isin(\n",
    "                    data.loc[:, column].value_counts().index)],\n",
    "                ax=ax)\n",
    "    plt.xticks(rotation=45)\n",
    "    ax.set_title('Boxplot for ' + column)\n",
    "    plt.show()"
   ]
  },
  {
   "cell_type": "markdown",
   "metadata": {},
   "source": [
    "# DATA"
   ]
  },
  {
   "cell_type": "markdown",
   "metadata": {},
   "source": [
    "### Парсинг"
   ]
  },
  {
   "cell_type": "code",
   "execution_count": 520,
   "metadata": {},
   "outputs": [],
   "source": [
    "# from selenium import webdriver\n",
    "# from selenium.webdriver.chrome.options import Options\n",
    "# from selenium.webdriver.common.by import By\n",
    "# import time\n",
    "# import requests as r\n",
    "# import wget\n",
    "# import gzip\n",
    "# import xml.etree.ElementTree as ET\n",
    "\n",
    "# # Читаем файл robots.txt с сайта https://auto.ru/robots.txt и получаем значение параметра Sitemap\n",
    "# url = \"https://auto.ru/robots.txt\"\n",
    "# response = r.get(url)\n",
    "# url = response.text[response.text.find(\"Sitemap\"):][9:response.text[3625:].find(\"\\n\")]\n",
    "# response = r.get(url)\n",
    "\n",
    "# # Парсим полученный xml\n",
    "# root = ET.fromstring(response.text)\n",
    "\n",
    "# # Добаваляем архивы предложений автомобилей со строками \"offers_cars\" в массив\n",
    "# look_for_string = \"offers_cars\"\n",
    "# offers_arc = []\n",
    "\n",
    "# for element in root:\n",
    "#     if look_for_string in element[1].text: offers_arc.append(element[1].text)\n",
    "\n",
    "# # Скачиваем архивы с объявлениями\n",
    "# for arc in offers_arc:\n",
    "#     wget.download(arc)\n",
    "\n",
    "# # Создадим список ссылок на объявления\n",
    "# pages_url_list=[]\n",
    "\n",
    "# # Открываем и читаем архивы\n",
    "# for arc in offers_arc:\n",
    "#     file_name = arc[arc.find(\"sitemap_offers_cars\"):]\n",
    "\n",
    "#     with gzip.open(file_name, 'rb') as f:\n",
    "#         file_content = f.read()\n",
    "\n",
    "#     # Файл внутри представляет собой XML. парсим его\n",
    "#     root = ET.fromstring(file_content)\n",
    "\n",
    "#     # Ищем строки, содержашие used - авто с пробегом и добавляем их в массив ссылок\n",
    "#     look_for_string = \"used\"\n",
    "#     for element in root:\n",
    "#         if look_for_string in element[0].text: pages_url_list.append(element[0].text)\n",
    "\n",
    "# # Определяем итоговый массив данных\n",
    "# cars = []\n",
    "\n",
    "# # Запускаем Selenium\n",
    "# chrome_options = Options()\n",
    "# driver = webdriver.Chrome(executable_path=r\"chromedriver.exe\",options=chrome_options)\n",
    "\n",
    "# # Открываем каждую ссылку, заносим данные в массив\n",
    "# for url in pages_url_list:\n",
    "#     driver.get(url)\n",
    "#     #Определяем бренд и модель\n",
    "#     elements = driver.find_elements(By.CLASS_NAME,'CardBreadcrumbs__itemText')\n",
    "#     brand = elements[3].text\n",
    "#     model_name = elements[4].text\n",
    "\n",
    "#     # Определяем кузов\n",
    "#     element =  driver.find_elements(By.CLASS_NAME,'CardInfoRow_bodytype')\n",
    "#     bodyType = element[0].text.replace(\"\\n\",\" \")\n",
    "\n",
    "#     # Определяем цвет\n",
    "#     element =  driver.find_elements(By.CLASS_NAME,'CardInfoRow_color')\n",
    "#     color = element[0].text.replace(\"\\n\",\" \").replace(\"Цвет \",\"\")\n",
    "\n",
    "#     # Определяем параметры двигателя\n",
    "#     element =  driver.find_elements(By.CLASS_NAME,'CardInfoRow_engine')\n",
    "#     engine = element[0].text.replace(\"Двигатель\",\"\").split(\"/\")\n",
    "\n",
    "#     # Получаем значение лошадиных сил, мощность и тип топлива\n",
    "#     engineDisplacement = engine[0][1:].replace(\"л \",\"LTR\")\n",
    "#     enginePower = engine[1][1:].replace(\"л.с. \", \"N12\")\n",
    "#     fuelType = engine[2]\n",
    "\n",
    "#     # Определяем пробег\n",
    "#     element =  driver.find_elements(By.CLASS_NAME,'CardInfoRow_kmAge')\n",
    "#     mileage = element[0].text.replace(\"Пробег\\n\",\"\").replace(\" км\",\"\").replace(\" \",\"\")\n",
    "\n",
    "#     # Определяем год выпуска\n",
    "#     element =  driver.find_elements(By.CLASS_NAME,'CardInfoRow_year')\n",
    "#     productionDate = element[0].text.split(\"\\n\")[1]\n",
    "\n",
    "#     # Определяем трансмиссию\n",
    "#     element = driver.find_elements(By.CLASS_NAME,'CardInfoRow_transmission')\n",
    "#     vehicleTransmission = element[0].text.split(\"\\n\")[1]\n",
    "\n",
    "#     # Определяем владельца\n",
    "#     element = driver.find_elements(By.CLASS_NAME,'CardInfoRow_ownersCount')\n",
    "#     owners = element[0].text.split(\"\\n\")[1]\n",
    "\n",
    "#     # Определяем ПТС\n",
    "#     element = driver.find_elements(By.CLASS_NAME,'CardInfoRow_pts')\n",
    "#     pts = element[0].text.split(\"\\n\")[1]\n",
    "\n",
    "#     # Определяем привод\n",
    "#     element = driver.find_elements(By.CLASS_NAME,'CardInfoRow_drive')\n",
    "#     wd = element[0].text.split(\"\\n\")[1]\n",
    "\n",
    "#     # Определяем руль\n",
    "#     element = driver.find_elements(By.CLASS_NAME,'CardInfoRow_wheel')\n",
    "#     weel = element[0].text.split(\"\\n\")[1]\n",
    "\n",
    "#     # Определяем состояние\n",
    "#     element = driver.find_elements(By.CLASS_NAME,'CardInfoRow_state')\n",
    "#     state = element[0].text.split(\"\\n\")[1]\n",
    "\n",
    "#     # Определяем цену\n",
    "#     element = driver.find_elements(By.CLASS_NAME,'OfferPriceCaption')\n",
    "#     price = element[0].text[:-2:].replace(\" \",\"\")\n",
    "\n",
    "#     cars.append({\"brand\": brand, \"model_name\": model_name, \"bodyType\":bodyType, \"color\":color,\\\n",
    "#         \"engineDisplacement\":engineDisplacement,'enginePower':enginePower,\"fuelType\":fuelType,\\\n",
    "#           \"mileage\":mileage,\"productionDate\":productionDate,\"vehicleTransmission\":vehicleTransmission,\\\n",
    "#           \"owners\":owners,\"pts\":pts,\"wd\":wd,\"weel\":weel,\"state\":state,\"price\":price})\n",
    "\n",
    "#     time.sleep(1)"
   ]
  },
  {
   "cell_type": "code",
   "execution_count": 521,
   "metadata": {},
   "outputs": [],
   "source": [
    "# DIR_TRAIN  = '../input/all_auto_ru/' # подключаем удаленный датасет к ноутбуку\n",
    "# DIR_TRAIN_2021  = '../input/parsed_df/' # подключаем спарсенный датасет с auto.ru\n",
    "# DIR_TEST   = '../input/test_df/'"
   ]
  },
  {
   "cell_type": "code",
   "execution_count": 522,
   "metadata": {},
   "outputs": [],
   "source": [
    "VAL_SIZE= 0.20  \n",
    "cols_to_remove = []"
   ]
  },
  {
   "cell_type": "code",
   "execution_count": 523,
   "metadata": {
    "execution": {
     "iopub.execute_input": "2022-01-11T09:28:33.035442Z",
     "iopub.status.busy": "2022-01-11T09:28:33.03514Z",
     "iopub.status.idle": "2022-01-11T09:28:33.83454Z",
     "shell.execute_reply": "2022-01-11T09:28:33.83335Z",
     "shell.execute_reply.started": "2022-01-11T09:28:33.035404Z"
    },
    "papermill": {
     "duration": 0.783211,
     "end_time": "2020-10-26T12:46:48.925418",
     "exception": false,
     "start_time": "2020-10-26T12:46:48.142207",
     "status": "completed"
    },
    "tags": []
   },
   "outputs": [
    {
     "name": "stderr",
     "output_type": "stream",
     "text": [
      "\"ls\" ­Ґ пў«пҐвбп ў­гваҐ­­Ґ© Ё«Ё ў­Ґи­Ґ©\n",
      "Є®¬ ­¤®©, ЁбЇ®«­пҐ¬®© Їа®Ја ¬¬®© Ё«Ё Ї ЄҐв­л¬ д ©«®¬.\n"
     ]
    }
   ],
   "source": [
    "!ls '../input'"
   ]
  },
  {
   "cell_type": "code",
   "execution_count": 524,
   "metadata": {
    "_cell_guid": "79c7e3d0-c299-4dcb-8224-4455121ee9b0",
    "_uuid": "d629ff2d2480ee46fbb7e2d37f6b5fab8052498a",
    "execution": {
     "iopub.execute_input": "2022-01-11T09:28:40.901378Z",
     "iopub.status.busy": "2022-01-11T09:28:40.90103Z",
     "iopub.status.idle": "2022-01-11T09:28:47.432118Z",
     "shell.execute_reply": "2022-01-11T09:28:47.431182Z",
     "shell.execute_reply.started": "2022-01-11T09:28:40.901331Z"
    },
    "papermill": {
     "duration": 13.16556,
     "end_time": "2020-10-26T12:47:02.12133",
     "exception": false,
     "start_time": "2020-10-26T12:46:48.95577",
     "status": "completed"
    },
    "tags": []
   },
   "outputs": [],
   "source": [
    "train = pd.read_csv('all_auto_ru.csv')  # датасет для обучения модели\n",
    "test = pd.read_csv('test.csv')\n",
    "sample_submission = pd.read_csv('sample_submission.csv')"
   ]
  },
  {
   "cell_type": "code",
   "execution_count": 525,
   "metadata": {
    "execution": {
     "iopub.execute_input": "2022-01-11T09:28:47.4342Z",
     "iopub.status.busy": "2022-01-11T09:28:47.433856Z",
     "iopub.status.idle": "2022-01-11T09:28:47.43829Z",
     "shell.execute_reply": "2022-01-11T09:28:47.437249Z",
     "shell.execute_reply.started": "2022-01-11T09:28:47.434163Z"
    }
   },
   "outputs": [],
   "source": [
    "pd.options.display.max_columns = None"
   ]
  },
  {
   "cell_type": "code",
   "execution_count": 526,
   "metadata": {
    "execution": {
     "iopub.execute_input": "2022-01-11T09:28:47.440128Z",
     "iopub.status.busy": "2022-01-11T09:28:47.439511Z",
     "iopub.status.idle": "2022-01-11T09:28:47.48336Z",
     "shell.execute_reply": "2022-01-11T09:28:47.48237Z",
     "shell.execute_reply.started": "2022-01-11T09:28:47.440079Z"
    },
    "papermill": {
     "duration": 0.09378,
     "end_time": "2020-10-26T12:47:02.246755",
     "exception": false,
     "start_time": "2020-10-26T12:47:02.152975",
     "status": "completed"
    },
    "tags": []
   },
   "outputs": [
    {
     "data": {
      "text/html": [
       "<div>\n",
       "<style scoped>\n",
       "    .dataframe tbody tr th:only-of-type {\n",
       "        vertical-align: middle;\n",
       "    }\n",
       "\n",
       "    .dataframe tbody tr th {\n",
       "        vertical-align: top;\n",
       "    }\n",
       "\n",
       "    .dataframe thead th {\n",
       "        text-align: right;\n",
       "    }\n",
       "</style>\n",
       "<table border=\"1\" class=\"dataframe\">\n",
       "  <thead>\n",
       "    <tr style=\"text-align: right;\">\n",
       "      <th></th>\n",
       "      <th>bodyType</th>\n",
       "      <th>brand</th>\n",
       "      <th>color</th>\n",
       "      <th>fuelType</th>\n",
       "      <th>modelDate</th>\n",
       "      <th>name</th>\n",
       "      <th>numberOfDoors</th>\n",
       "      <th>productionDate</th>\n",
       "      <th>vehicleConfiguration</th>\n",
       "      <th>vehicleTransmission</th>\n",
       "      <th>engineDisplacement</th>\n",
       "      <th>enginePower</th>\n",
       "      <th>description</th>\n",
       "      <th>mileage</th>\n",
       "      <th>Комплектация</th>\n",
       "      <th>Привод</th>\n",
       "      <th>Руль</th>\n",
       "      <th>Состояние</th>\n",
       "      <th>Владельцы</th>\n",
       "      <th>ПТС</th>\n",
       "      <th>Таможня</th>\n",
       "      <th>Владение</th>\n",
       "      <th>price</th>\n",
       "      <th>start_date</th>\n",
       "      <th>hidden</th>\n",
       "      <th>model</th>\n",
       "    </tr>\n",
       "  </thead>\n",
       "  <tbody>\n",
       "    <tr>\n",
       "      <th>62911</th>\n",
       "      <td>Внедорожник 5 дв.</td>\n",
       "      <td>SUBARU</td>\n",
       "      <td>0000CC</td>\n",
       "      <td>бензин</td>\n",
       "      <td>2011.0</td>\n",
       "      <td>S-Edition 2.5 AT (263 л.с.) 4WD</td>\n",
       "      <td>5.0</td>\n",
       "      <td>2011</td>\n",
       "      <td>ALLROAD_5_DOORS AUTOMATIC S-Edition</td>\n",
       "      <td>AUTOMATIC</td>\n",
       "      <td>S-Edition</td>\n",
       "      <td>263.0</td>\n",
       "      <td>Авто в эксплуатации с 05.2012 года. Я брал его...</td>\n",
       "      <td>186000</td>\n",
       "      <td>{'id': '7076515', 'name': 'RU', 'available_opt...</td>\n",
       "      <td>полный</td>\n",
       "      <td>LEFT</td>\n",
       "      <td>NaN</td>\n",
       "      <td>3.0</td>\n",
       "      <td>ORIGINAL</td>\n",
       "      <td>True</td>\n",
       "      <td>{'year': 2017, 'month': 8}</td>\n",
       "      <td>800000.0</td>\n",
       "      <td>2020-07-01T16:25:04Z</td>\n",
       "      <td>NaN</td>\n",
       "      <td>FORESTER</td>\n",
       "    </tr>\n",
       "    <tr>\n",
       "      <th>88865</th>\n",
       "      <td>Внедорожник 5 дв.</td>\n",
       "      <td>SSANG_YONG</td>\n",
       "      <td>EE1D19</td>\n",
       "      <td>дизель</td>\n",
       "      <td>2010.0</td>\n",
       "      <td>2.0d AT (149 л.с.)</td>\n",
       "      <td>5.0</td>\n",
       "      <td>2011</td>\n",
       "      <td>ALLROAD_5_DOORS AUTOMATIC 2.0d</td>\n",
       "      <td>AUTOMATIC</td>\n",
       "      <td>2.0d</td>\n",
       "      <td>149.0</td>\n",
       "      <td>Машина ухоженная, родной окрас, без дтп, в сал...</td>\n",
       "      <td>174400</td>\n",
       "      <td>{'id': '8519015', 'name': 'Original', 'availab...</td>\n",
       "      <td>передний</td>\n",
       "      <td>LEFT</td>\n",
       "      <td>NaN</td>\n",
       "      <td>2.0</td>\n",
       "      <td>ORIGINAL</td>\n",
       "      <td>True</td>\n",
       "      <td>{'year': 2017, 'month': 2}</td>\n",
       "      <td>480000.0</td>\n",
       "      <td>2020-07-26T10:49:11Z</td>\n",
       "      <td>NaN</td>\n",
       "      <td>ACTYON</td>\n",
       "    </tr>\n",
       "    <tr>\n",
       "      <th>6940</th>\n",
       "      <td>Седан</td>\n",
       "      <td>BMW</td>\n",
       "      <td>040001</td>\n",
       "      <td>бензин</td>\n",
       "      <td>2009.0</td>\n",
       "      <td>528i 3.0 AT (258 л.с.)</td>\n",
       "      <td>4.0</td>\n",
       "      <td>2011</td>\n",
       "      <td>SEDAN AUTOMATIC 528i</td>\n",
       "      <td>AUTOMATIC</td>\n",
       "      <td>528i</td>\n",
       "      <td>258.0</td>\n",
       "      <td>Продаю любимый автомобиль. BMW 5-серия в кузов...</td>\n",
       "      <td>134000</td>\n",
       "      <td>{'id': '0'}</td>\n",
       "      <td>задний</td>\n",
       "      <td>LEFT</td>\n",
       "      <td>NaN</td>\n",
       "      <td>3.0</td>\n",
       "      <td>ORIGINAL</td>\n",
       "      <td>True</td>\n",
       "      <td>NaN</td>\n",
       "      <td>1250000.0</td>\n",
       "      <td>2020-06-14T20:13:30Z</td>\n",
       "      <td>NaN</td>\n",
       "      <td>5ER</td>\n",
       "    </tr>\n",
       "  </tbody>\n",
       "</table>\n",
       "</div>"
      ],
      "text/plain": [
       "                bodyType       brand   color fuelType  modelDate  \\\n",
       "62911  Внедорожник 5 дв.      SUBARU  0000CC   бензин     2011.0   \n",
       "88865  Внедорожник 5 дв.  SSANG_YONG  EE1D19   дизель     2010.0   \n",
       "6940               Седан         BMW  040001   бензин     2009.0   \n",
       "\n",
       "                                  name  numberOfDoors  productionDate  \\\n",
       "62911  S-Edition 2.5 AT (263 л.с.) 4WD            5.0            2011   \n",
       "88865               2.0d AT (149 л.с.)            5.0            2011   \n",
       "6940            528i 3.0 AT (258 л.с.)            4.0            2011   \n",
       "\n",
       "                      vehicleConfiguration vehicleTransmission  \\\n",
       "62911  ALLROAD_5_DOORS AUTOMATIC S-Edition           AUTOMATIC   \n",
       "88865       ALLROAD_5_DOORS AUTOMATIC 2.0d           AUTOMATIC   \n",
       "6940                  SEDAN AUTOMATIC 528i           AUTOMATIC   \n",
       "\n",
       "      engineDisplacement  enginePower  \\\n",
       "62911          S-Edition        263.0   \n",
       "88865               2.0d        149.0   \n",
       "6940                528i        258.0   \n",
       "\n",
       "                                             description  mileage  \\\n",
       "62911  Авто в эксплуатации с 05.2012 года. Я брал его...   186000   \n",
       "88865  Машина ухоженная, родной окрас, без дтп, в сал...   174400   \n",
       "6940   Продаю любимый автомобиль. BMW 5-серия в кузов...   134000   \n",
       "\n",
       "                                            Комплектация    Привод  Руль  \\\n",
       "62911  {'id': '7076515', 'name': 'RU', 'available_opt...    полный  LEFT   \n",
       "88865  {'id': '8519015', 'name': 'Original', 'availab...  передний  LEFT   \n",
       "6940                                         {'id': '0'}    задний  LEFT   \n",
       "\n",
       "       Состояние  Владельцы       ПТС  Таможня                    Владение  \\\n",
       "62911        NaN        3.0  ORIGINAL     True  {'year': 2017, 'month': 8}   \n",
       "88865        NaN        2.0  ORIGINAL     True  {'year': 2017, 'month': 2}   \n",
       "6940         NaN        3.0  ORIGINAL     True                         NaN   \n",
       "\n",
       "           price            start_date  hidden     model  \n",
       "62911   800000.0  2020-07-01T16:25:04Z     NaN  FORESTER  \n",
       "88865   480000.0  2020-07-26T10:49:11Z     NaN    ACTYON  \n",
       "6940   1250000.0  2020-06-14T20:13:30Z     NaN       5ER  "
      ]
     },
     "execution_count": 526,
     "metadata": {},
     "output_type": "execute_result"
    }
   ],
   "source": [
    "train.sample(3)"
   ]
  },
  {
   "cell_type": "code",
   "execution_count": 527,
   "metadata": {
    "execution": {
     "iopub.execute_input": "2022-01-11T09:29:29.107224Z",
     "iopub.status.busy": "2022-01-11T09:29:29.106923Z",
     "iopub.status.idle": "2022-01-11T09:29:29.136298Z",
     "shell.execute_reply": "2022-01-11T09:29:29.135436Z",
     "shell.execute_reply.started": "2022-01-11T09:29:29.107192Z"
    },
    "papermill": {
     "duration": 0.069985,
     "end_time": "2020-10-26T12:47:02.604497",
     "exception": false,
     "start_time": "2020-10-26T12:47:02.534512",
     "status": "completed"
    },
    "tags": []
   },
   "outputs": [
    {
     "data": {
      "text/html": [
       "<div>\n",
       "<style scoped>\n",
       "    .dataframe tbody tr th:only-of-type {\n",
       "        vertical-align: middle;\n",
       "    }\n",
       "\n",
       "    .dataframe tbody tr th {\n",
       "        vertical-align: top;\n",
       "    }\n",
       "\n",
       "    .dataframe thead th {\n",
       "        text-align: right;\n",
       "    }\n",
       "</style>\n",
       "<table border=\"1\" class=\"dataframe\">\n",
       "  <thead>\n",
       "    <tr style=\"text-align: right;\">\n",
       "      <th></th>\n",
       "      <th>bodyType</th>\n",
       "      <th>brand</th>\n",
       "      <th>car_url</th>\n",
       "      <th>color</th>\n",
       "      <th>complectation_dict</th>\n",
       "      <th>description</th>\n",
       "      <th>engineDisplacement</th>\n",
       "      <th>enginePower</th>\n",
       "      <th>equipment_dict</th>\n",
       "      <th>fuelType</th>\n",
       "      <th>image</th>\n",
       "      <th>mileage</th>\n",
       "      <th>modelDate</th>\n",
       "      <th>model_info</th>\n",
       "      <th>model_name</th>\n",
       "      <th>name</th>\n",
       "      <th>numberOfDoors</th>\n",
       "      <th>parsing_unixtime</th>\n",
       "      <th>priceCurrency</th>\n",
       "      <th>productionDate</th>\n",
       "      <th>sell_id</th>\n",
       "      <th>super_gen</th>\n",
       "      <th>vehicleConfiguration</th>\n",
       "      <th>vehicleTransmission</th>\n",
       "      <th>vendor</th>\n",
       "      <th>Владельцы</th>\n",
       "      <th>Владение</th>\n",
       "      <th>ПТС</th>\n",
       "      <th>Привод</th>\n",
       "      <th>Руль</th>\n",
       "      <th>Состояние</th>\n",
       "      <th>Таможня</th>\n",
       "    </tr>\n",
       "  </thead>\n",
       "  <tbody>\n",
       "    <tr>\n",
       "      <th>30204</th>\n",
       "      <td>внедорожник 5 дв.</td>\n",
       "      <td>AUDI</td>\n",
       "      <td>https://auto.ru/cars/used/sale/audi/q5/1101307...</td>\n",
       "      <td>красный</td>\n",
       "      <td>NaN</td>\n",
       "      <td>Приобретался автомобиль в Major Audi Строгино,...</td>\n",
       "      <td>2.0 LTR</td>\n",
       "      <td>225 N12</td>\n",
       "      <td>{\"cruise-control\":true,\"tinted-glass\":true,\"pt...</td>\n",
       "      <td>бензин</td>\n",
       "      <td>https://avatars.mds.yandex.net/get-autoru-vos/...</td>\n",
       "      <td>96881</td>\n",
       "      <td>2012</td>\n",
       "      <td>{\"code\":\"Q5\",\"name\":\"Q5\",\"ru_name\":\"Ку5\",\"morp...</td>\n",
       "      <td>Q5</td>\n",
       "      <td>2.0 AT (225 л.с.) 4WD</td>\n",
       "      <td>5</td>\n",
       "      <td>1603569404</td>\n",
       "      <td>RUB</td>\n",
       "      <td>2013</td>\n",
       "      <td>1101307778</td>\n",
       "      <td>{\"id\":\"8351307\",\"displacement\":1984,\"engine_ty...</td>\n",
       "      <td>ALLROAD_5_DOORS AUTOMATIC 2.0</td>\n",
       "      <td>автоматическая</td>\n",
       "      <td>EUROPEAN</td>\n",
       "      <td>3 или более</td>\n",
       "      <td>NaN</td>\n",
       "      <td>Оригинал</td>\n",
       "      <td>полный</td>\n",
       "      <td>Левый</td>\n",
       "      <td>Не требует ремонта</td>\n",
       "      <td>Растаможен</td>\n",
       "    </tr>\n",
       "    <tr>\n",
       "      <th>4543</th>\n",
       "      <td>седан</td>\n",
       "      <td>AUDI</td>\n",
       "      <td>https://auto.ru/cars/used/sale/audi/a4/1097323...</td>\n",
       "      <td>белый</td>\n",
       "      <td>NaN</td>\n",
       "      <td>Продаю в связи с покупкой нового автомобиля. П...</td>\n",
       "      <td>2.0 LTR</td>\n",
       "      <td>225 N12</td>\n",
       "      <td>{\"18-inch-wheels\":true,\"lock\":true}</td>\n",
       "      <td>бензин</td>\n",
       "      <td>https://autoru.naydex.net/ys1kR7800/fbd964zfcB...</td>\n",
       "      <td>72000</td>\n",
       "      <td>2011</td>\n",
       "      <td>{\"code\":\"A4\",\"name\":\"A4\",\"ru_name\":\"А4\",\"morph...</td>\n",
       "      <td>A4</td>\n",
       "      <td>2.0 AMT (225 л.с.) 4WD</td>\n",
       "      <td>4</td>\n",
       "      <td>1603130065</td>\n",
       "      <td>RUB</td>\n",
       "      <td>2015</td>\n",
       "      <td>1097323414</td>\n",
       "      <td>{\"id\":\"20033124\",\"displacement\":1984,\"engine_t...</td>\n",
       "      <td>SEDAN ROBOT 2.0</td>\n",
       "      <td>роботизированная</td>\n",
       "      <td>EUROPEAN</td>\n",
       "      <td>2 владельца</td>\n",
       "      <td>4 года и 6 месяцев</td>\n",
       "      <td>Оригинал</td>\n",
       "      <td>полный</td>\n",
       "      <td>Левый</td>\n",
       "      <td>Не требует ремонта</td>\n",
       "      <td>Растаможен</td>\n",
       "    </tr>\n",
       "    <tr>\n",
       "      <th>15748</th>\n",
       "      <td>внедорожник 5 дв.</td>\n",
       "      <td>MERCEDES</td>\n",
       "      <td>https://auto.ru/cars/used/sale/mercedes/gl_kla...</td>\n",
       "      <td>синий</td>\n",
       "      <td>NaN</td>\n",
       "      <td>Автомобил от официалного дилера, салон не прок...</td>\n",
       "      <td>3.0 LTR</td>\n",
       "      <td>258 N12</td>\n",
       "      <td>{\"cruise-control\":true,\"asr\":true,\"tinted-glas...</td>\n",
       "      <td>дизель</td>\n",
       "      <td>https://avatars.mds.yandex.net/get-autoru-vos/...</td>\n",
       "      <td>95000</td>\n",
       "      <td>2012</td>\n",
       "      <td>{\"code\":\"GL_KLASSE\",\"name\":\"GL-Класс\",\"ru_name...</td>\n",
       "      <td>GL_KLASSE</td>\n",
       "      <td>350 CDI BlueTEC 3.0d AT (258 л.с.) 4WD</td>\n",
       "      <td>5</td>\n",
       "      <td>1603241325</td>\n",
       "      <td>RUB</td>\n",
       "      <td>2013</td>\n",
       "      <td>1101259222</td>\n",
       "      <td>{\"id\":\"8429261\",\"name\":\"350\",\"nameplate\":\"350 ...</td>\n",
       "      <td>ALLROAD_5_DOORS AUTOMATIC 3.0</td>\n",
       "      <td>автоматическая</td>\n",
       "      <td>EUROPEAN</td>\n",
       "      <td>3 или более</td>\n",
       "      <td>NaN</td>\n",
       "      <td>Оригинал</td>\n",
       "      <td>полный</td>\n",
       "      <td>Левый</td>\n",
       "      <td>Не требует ремонта</td>\n",
       "      <td>Растаможен</td>\n",
       "    </tr>\n",
       "  </tbody>\n",
       "</table>\n",
       "</div>"
      ],
      "text/plain": [
       "                bodyType     brand  \\\n",
       "30204  внедорожник 5 дв.      AUDI   \n",
       "4543               седан      AUDI   \n",
       "15748  внедорожник 5 дв.  MERCEDES   \n",
       "\n",
       "                                                 car_url    color  \\\n",
       "30204  https://auto.ru/cars/used/sale/audi/q5/1101307...  красный   \n",
       "4543   https://auto.ru/cars/used/sale/audi/a4/1097323...    белый   \n",
       "15748  https://auto.ru/cars/used/sale/mercedes/gl_kla...    синий   \n",
       "\n",
       "      complectation_dict                                        description  \\\n",
       "30204                NaN  Приобретался автомобиль в Major Audi Строгино,...   \n",
       "4543                 NaN  Продаю в связи с покупкой нового автомобиля. П...   \n",
       "15748                NaN  Автомобил от официалного дилера, салон не прок...   \n",
       "\n",
       "      engineDisplacement enginePower  \\\n",
       "30204            2.0 LTR     225 N12   \n",
       "4543             2.0 LTR     225 N12   \n",
       "15748            3.0 LTR     258 N12   \n",
       "\n",
       "                                          equipment_dict fuelType  \\\n",
       "30204  {\"cruise-control\":true,\"tinted-glass\":true,\"pt...   бензин   \n",
       "4543                 {\"18-inch-wheels\":true,\"lock\":true}   бензин   \n",
       "15748  {\"cruise-control\":true,\"asr\":true,\"tinted-glas...   дизель   \n",
       "\n",
       "                                                   image  mileage  modelDate  \\\n",
       "30204  https://avatars.mds.yandex.net/get-autoru-vos/...    96881       2012   \n",
       "4543   https://autoru.naydex.net/ys1kR7800/fbd964zfcB...    72000       2011   \n",
       "15748  https://avatars.mds.yandex.net/get-autoru-vos/...    95000       2012   \n",
       "\n",
       "                                              model_info model_name  \\\n",
       "30204  {\"code\":\"Q5\",\"name\":\"Q5\",\"ru_name\":\"Ку5\",\"morp...         Q5   \n",
       "4543   {\"code\":\"A4\",\"name\":\"A4\",\"ru_name\":\"А4\",\"morph...         A4   \n",
       "15748  {\"code\":\"GL_KLASSE\",\"name\":\"GL-Класс\",\"ru_name...  GL_KLASSE   \n",
       "\n",
       "                                         name  numberOfDoors  \\\n",
       "30204                   2.0 AT (225 л.с.) 4WD              5   \n",
       "4543                   2.0 AMT (225 л.с.) 4WD              4   \n",
       "15748  350 CDI BlueTEC 3.0d AT (258 л.с.) 4WD              5   \n",
       "\n",
       "       parsing_unixtime priceCurrency  productionDate     sell_id  \\\n",
       "30204        1603569404           RUB            2013  1101307778   \n",
       "4543         1603130065           RUB            2015  1097323414   \n",
       "15748        1603241325           RUB            2013  1101259222   \n",
       "\n",
       "                                               super_gen  \\\n",
       "30204  {\"id\":\"8351307\",\"displacement\":1984,\"engine_ty...   \n",
       "4543   {\"id\":\"20033124\",\"displacement\":1984,\"engine_t...   \n",
       "15748  {\"id\":\"8429261\",\"name\":\"350\",\"nameplate\":\"350 ...   \n",
       "\n",
       "                vehicleConfiguration vehicleTransmission    vendor  \\\n",
       "30204  ALLROAD_5_DOORS AUTOMATIC 2.0      автоматическая  EUROPEAN   \n",
       "4543                 SEDAN ROBOT 2.0    роботизированная  EUROPEAN   \n",
       "15748  ALLROAD_5_DOORS AUTOMATIC 3.0      автоматическая  EUROPEAN   \n",
       "\n",
       "         Владельцы            Владение       ПТС  Привод   Руль  \\\n",
       "30204  3 или более                 NaN  Оригинал  полный  Левый   \n",
       "4543   2 владельца  4 года и 6 месяцев  Оригинал  полный  Левый   \n",
       "15748  3 или более                 NaN  Оригинал  полный  Левый   \n",
       "\n",
       "                Состояние     Таможня  \n",
       "30204  Не требует ремонта  Растаможен  \n",
       "4543   Не требует ремонта  Растаможен  \n",
       "15748  Не требует ремонта  Растаможен  "
      ]
     },
     "execution_count": 527,
     "metadata": {},
     "output_type": "execute_result"
    }
   ],
   "source": [
    "test.sample(3)"
   ]
  },
  {
   "cell_type": "code",
   "execution_count": 528,
   "metadata": {
    "execution": {
     "iopub.execute_input": "2022-01-11T09:29:37.988303Z",
     "iopub.status.busy": "2022-01-11T09:29:37.988011Z",
     "iopub.status.idle": "2022-01-11T09:29:38.084051Z",
     "shell.execute_reply": "2022-01-11T09:29:38.08342Z",
     "shell.execute_reply.started": "2022-01-11T09:29:37.988268Z"
    },
    "papermill": {
     "duration": 0.22352,
     "end_time": "2020-10-26T12:47:02.502166",
     "exception": false,
     "start_time": "2020-10-26T12:47:02.278646",
     "status": "completed"
    },
    "tags": []
   },
   "outputs": [
    {
     "name": "stdout",
     "output_type": "stream",
     "text": [
      "<class 'pandas.core.frame.DataFrame'>\n",
      "RangeIndex: 89378 entries, 0 to 89377\n",
      "Data columns (total 26 columns):\n",
      " #   Column                Non-Null Count  Dtype  \n",
      "---  ------                --------------  -----  \n",
      " 0   bodyType              89377 non-null  object \n",
      " 1   brand                 89378 non-null  object \n",
      " 2   color                 89378 non-null  object \n",
      " 3   fuelType              89378 non-null  object \n",
      " 4   modelDate             89377 non-null  float64\n",
      " 5   name                  89377 non-null  object \n",
      " 6   numberOfDoors         89377 non-null  float64\n",
      " 7   productionDate        89378 non-null  int64  \n",
      " 8   vehicleConfiguration  89377 non-null  object \n",
      " 9   vehicleTransmission   89377 non-null  object \n",
      " 10  engineDisplacement    89377 non-null  object \n",
      " 11  enginePower           89377 non-null  float64\n",
      " 12  description           86124 non-null  object \n",
      " 13  mileage               89378 non-null  int64  \n",
      " 14  Комплектация          89378 non-null  object \n",
      " 15  Привод                89377 non-null  object \n",
      " 16  Руль                  89378 non-null  object \n",
      " 17  Состояние             0 non-null      float64\n",
      " 18  Владельцы             75790 non-null  float64\n",
      " 19  ПТС                   89017 non-null  object \n",
      " 20  Таможня               89378 non-null  bool   \n",
      " 21  Владение              29201 non-null  object \n",
      " 22  price                 88968 non-null  float64\n",
      " 23  start_date            89378 non-null  object \n",
      " 24  hidden                0 non-null      float64\n",
      " 25  model                 89378 non-null  object \n",
      "dtypes: bool(1), float64(7), int64(2), object(16)\n",
      "memory usage: 17.1+ MB\n"
     ]
    }
   ],
   "source": [
    "train.info()"
   ]
  },
  {
   "cell_type": "code",
   "execution_count": 529,
   "metadata": {
    "execution": {
     "iopub.execute_input": "2022-01-11T09:29:40.929319Z",
     "iopub.status.busy": "2022-01-11T09:29:40.928794Z",
     "iopub.status.idle": "2022-01-11T09:29:40.993461Z",
     "shell.execute_reply": "2022-01-11T09:29:40.9925Z",
     "shell.execute_reply.started": "2022-01-11T09:29:40.92928Z"
    },
    "papermill": {
     "duration": 0.160401,
     "end_time": "2020-10-26T12:47:02.798587",
     "exception": false,
     "start_time": "2020-10-26T12:47:02.638186",
     "status": "completed"
    },
    "tags": []
   },
   "outputs": [
    {
     "name": "stdout",
     "output_type": "stream",
     "text": [
      "<class 'pandas.core.frame.DataFrame'>\n",
      "RangeIndex: 34686 entries, 0 to 34685\n",
      "Data columns (total 32 columns):\n",
      " #   Column                Non-Null Count  Dtype \n",
      "---  ------                --------------  ----- \n",
      " 0   bodyType              34686 non-null  object\n",
      " 1   brand                 34686 non-null  object\n",
      " 2   car_url               34686 non-null  object\n",
      " 3   color                 34686 non-null  object\n",
      " 4   complectation_dict    6418 non-null   object\n",
      " 5   description           34686 non-null  object\n",
      " 6   engineDisplacement    34686 non-null  object\n",
      " 7   enginePower           34686 non-null  object\n",
      " 8   equipment_dict        24690 non-null  object\n",
      " 9   fuelType              34686 non-null  object\n",
      " 10  image                 34686 non-null  object\n",
      " 11  mileage               34686 non-null  int64 \n",
      " 12  modelDate             34686 non-null  int64 \n",
      " 13  model_info            34686 non-null  object\n",
      " 14  model_name            34686 non-null  object\n",
      " 15  name                  34686 non-null  object\n",
      " 16  numberOfDoors         34686 non-null  int64 \n",
      " 17  parsing_unixtime      34686 non-null  int64 \n",
      " 18  priceCurrency         34686 non-null  object\n",
      " 19  productionDate        34686 non-null  int64 \n",
      " 20  sell_id               34686 non-null  int64 \n",
      " 21  super_gen             34686 non-null  object\n",
      " 22  vehicleConfiguration  34686 non-null  object\n",
      " 23  vehicleTransmission   34686 non-null  object\n",
      " 24  vendor                34686 non-null  object\n",
      " 25  Владельцы             34686 non-null  object\n",
      " 26  Владение              11995 non-null  object\n",
      " 27  ПТС                   34685 non-null  object\n",
      " 28  Привод                34686 non-null  object\n",
      " 29  Руль                  34686 non-null  object\n",
      " 30  Состояние             34686 non-null  object\n",
      " 31  Таможня               34686 non-null  object\n",
      "dtypes: int64(6), object(26)\n",
      "memory usage: 8.5+ MB\n"
     ]
    }
   ],
   "source": [
    "test.info()"
   ]
  },
  {
   "cell_type": "code",
   "execution_count": 530,
   "metadata": {
    "execution": {
     "iopub.execute_input": "2022-01-11T09:29:45.879847Z",
     "iopub.status.busy": "2022-01-11T09:29:45.87924Z",
     "iopub.status.idle": "2022-01-11T09:29:45.886914Z",
     "shell.execute_reply": "2022-01-11T09:29:45.88594Z",
     "shell.execute_reply.started": "2022-01-11T09:29:45.879795Z"
    }
   },
   "outputs": [
    {
     "data": {
      "text/plain": [
       "{'car_url',\n",
       " 'complectation_dict',\n",
       " 'equipment_dict',\n",
       " 'image',\n",
       " 'model_info',\n",
       " 'model_name',\n",
       " 'parsing_unixtime',\n",
       " 'priceCurrency',\n",
       " 'sell_id',\n",
       " 'super_gen',\n",
       " 'vendor'}"
      ]
     },
     "execution_count": 530,
     "metadata": {},
     "output_type": "execute_result"
    }
   ],
   "source": [
    "# проанализируем отличие признаков между тестовой и тренировочной выборкой\n",
    "set(test.columns).difference(train.columns)"
   ]
  },
  {
   "cell_type": "code",
   "execution_count": 531,
   "metadata": {
    "execution": {
     "iopub.execute_input": "2022-01-11T09:29:48.114572Z",
     "iopub.status.busy": "2022-01-11T09:29:48.114248Z",
     "iopub.status.idle": "2022-01-11T09:29:48.120484Z",
     "shell.execute_reply": "2022-01-11T09:29:48.119873Z",
     "shell.execute_reply.started": "2022-01-11T09:29:48.114543Z"
    }
   },
   "outputs": [
    {
     "data": {
      "text/plain": [
       "{'hidden', 'model', 'price', 'start_date', 'Комплектация'}"
      ]
     },
     "execution_count": 531,
     "metadata": {},
     "output_type": "execute_result"
    }
   ],
   "source": [
    "set(train.columns).difference(test.columns)"
   ]
  },
  {
   "cell_type": "markdown",
   "metadata": {},
   "source": [
    "Видно, что в данных train есть 4 признака ('hidden', 'model', 'start_date', 'Комплектация') , которых нет в тестовой выборке.\n",
    "И наоборот в тестовой есть 11 признаков, которых нет в train"
   ]
  },
  {
   "cell_type": "markdown",
   "metadata": {},
   "source": [
    "### Проанализируем эти признаки для унификации:"
   ]
  },
  {
   "cell_type": "markdown",
   "metadata": {},
   "source": [
    "#### параметры 'model_info', 'model_name', 'model'"
   ]
  },
  {
   "cell_type": "markdown",
   "metadata": {
    "execution": {
     "iopub.execute_input": "2021-12-27T11:44:08.168146Z",
     "iopub.status.busy": "2021-12-27T11:44:08.167827Z",
     "iopub.status.idle": "2021-12-27T11:44:08.174101Z",
     "shell.execute_reply": "2021-12-27T11:44:08.172775Z",
     "shell.execute_reply.started": "2021-12-27T11:44:08.168111Z"
    }
   },
   "source": [
    "Как видно из таблиц, train.model содержит ту же информацию, что и в test.model_name, поэтому просто переименуем признак.\n",
    "А признак model_info дублирует model_name, удалим test.model_info."
   ]
  },
  {
   "cell_type": "code",
   "execution_count": 532,
   "metadata": {
    "execution": {
     "iopub.execute_input": "2022-01-11T09:29:58.715586Z",
     "iopub.status.busy": "2022-01-11T09:29:58.714507Z",
     "iopub.status.idle": "2022-01-11T09:29:58.721741Z",
     "shell.execute_reply": "2022-01-11T09:29:58.720712Z",
     "shell.execute_reply.started": "2022-01-11T09:29:58.715534Z"
    }
   },
   "outputs": [],
   "source": [
    "train.rename(columns={'model': 'model_name'}, inplace=True)\n",
    "test.drop('model_info', axis=1, inplace=True)"
   ]
  },
  {
   "cell_type": "markdown",
   "metadata": {},
   "source": [
    "#### параметры 'complectation_dict', 'Комплектация'"
   ]
  },
  {
   "cell_type": "markdown",
   "metadata": {},
   "source": [
    "Видим, что test.complectation_dict содержит ту же информацию, что и train['Комплектация'], поэтому просто переименуем название признака."
   ]
  },
  {
   "cell_type": "code",
   "execution_count": 533,
   "metadata": {
    "execution": {
     "iopub.execute_input": "2022-01-11T09:30:07.338245Z",
     "iopub.status.busy": "2022-01-11T09:30:07.337226Z",
     "iopub.status.idle": "2022-01-11T09:30:07.343758Z",
     "shell.execute_reply": "2022-01-11T09:30:07.34318Z",
     "shell.execute_reply.started": "2022-01-11T09:30:07.338196Z"
    }
   },
   "outputs": [],
   "source": [
    "train.rename(columns={'Комплектация': 'complectation_dict'}, inplace=True)"
   ]
  },
  {
   "cell_type": "markdown",
   "metadata": {},
   "source": [
    "#### параметр 'priceCurrency'"
   ]
  },
  {
   "cell_type": "markdown",
   "metadata": {},
   "source": [
    "Поскольку признак не несет никакой информации, то его можно удалить."
   ]
  },
  {
   "cell_type": "code",
   "execution_count": 534,
   "metadata": {
    "execution": {
     "iopub.execute_input": "2022-01-11T09:30:10.372234Z",
     "iopub.status.busy": "2022-01-11T09:30:10.371942Z",
     "iopub.status.idle": "2022-01-11T09:30:10.393242Z",
     "shell.execute_reply": "2022-01-11T09:30:10.392588Z",
     "shell.execute_reply.started": "2022-01-11T09:30:10.372201Z"
    }
   },
   "outputs": [],
   "source": [
    "test.drop('priceCurrency', axis=1, inplace=True)"
   ]
  },
  {
   "cell_type": "markdown",
   "metadata": {},
   "source": [
    "#### параметр 'parsing_unixtime'"
   ]
  },
  {
   "cell_type": "markdown",
   "metadata": {},
   "source": [
    "Данный признак содержит даты в диапазоне от 19/10/20 до 26/10/20. Удалим признак, поскольку он не имеет влияния на цену на наш взгляд"
   ]
  },
  {
   "cell_type": "code",
   "execution_count": 535,
   "metadata": {
    "execution": {
     "iopub.execute_input": "2022-01-11T09:30:13.498044Z",
     "iopub.status.busy": "2022-01-11T09:30:13.497297Z",
     "iopub.status.idle": "2022-01-11T09:30:13.519945Z",
     "shell.execute_reply": "2022-01-11T09:30:13.518869Z",
     "shell.execute_reply.started": "2022-01-11T09:30:13.497999Z"
    }
   },
   "outputs": [],
   "source": [
    "test.drop('parsing_unixtime', axis=1, inplace=True)"
   ]
  },
  {
   "cell_type": "markdown",
   "metadata": {},
   "source": [
    "#### параметры 'sell_id', 'price' "
   ]
  },
  {
   "cell_type": "markdown",
   "metadata": {},
   "source": [
    "Добавим нулевые значения в train и test"
   ]
  },
  {
   "cell_type": "code",
   "execution_count": 536,
   "metadata": {
    "execution": {
     "iopub.execute_input": "2022-01-11T09:30:16.430752Z",
     "iopub.status.busy": "2022-01-11T09:30:16.43044Z",
     "iopub.status.idle": "2022-01-11T09:30:16.437964Z",
     "shell.execute_reply": "2022-01-11T09:30:16.436945Z",
     "shell.execute_reply.started": "2022-01-11T09:30:16.430721Z"
    }
   },
   "outputs": [],
   "source": [
    "test['price'] = 0\n",
    "train['sell_id'] = 0"
   ]
  },
  {
   "cell_type": "markdown",
   "metadata": {},
   "source": [
    "Удалим оставшиеся признаки, которые есть только в одной из выборок, поскольку они не имееют влияния на цену:"
   ]
  },
  {
   "cell_type": "code",
   "execution_count": 537,
   "metadata": {
    "execution": {
     "iopub.execute_input": "2022-01-11T09:30:18.874062Z",
     "iopub.status.busy": "2022-01-11T09:30:18.873596Z",
     "iopub.status.idle": "2022-01-11T09:30:18.928683Z",
     "shell.execute_reply": "2022-01-11T09:30:18.927692Z",
     "shell.execute_reply.started": "2022-01-11T09:30:18.874026Z"
    }
   },
   "outputs": [],
   "source": [
    "test.drop(['car_url', 'equipment_dict', 'image',\n",
    "           'super_gen', 'vendor'], axis=1, inplace=True)\n",
    "train.drop(['hidden', 'start_date'], axis=1, inplace=True)"
   ]
  },
  {
   "cell_type": "code",
   "execution_count": 538,
   "metadata": {
    "execution": {
     "iopub.execute_input": "2022-01-11T09:30:21.979496Z",
     "iopub.status.busy": "2022-01-11T09:30:21.977458Z",
     "iopub.status.idle": "2022-01-11T09:30:22.045668Z",
     "shell.execute_reply": "2022-01-11T09:30:22.04473Z",
     "shell.execute_reply.started": "2022-01-11T09:30:21.979417Z"
    }
   },
   "outputs": [
    {
     "name": "stdout",
     "output_type": "stream",
     "text": [
      "<class 'pandas.core.frame.DataFrame'>\n",
      "RangeIndex: 34686 entries, 0 to 34685\n",
      "Data columns (total 25 columns):\n",
      " #   Column                Non-Null Count  Dtype \n",
      "---  ------                --------------  ----- \n",
      " 0   bodyType              34686 non-null  object\n",
      " 1   brand                 34686 non-null  object\n",
      " 2   color                 34686 non-null  object\n",
      " 3   complectation_dict    6418 non-null   object\n",
      " 4   description           34686 non-null  object\n",
      " 5   engineDisplacement    34686 non-null  object\n",
      " 6   enginePower           34686 non-null  object\n",
      " 7   fuelType              34686 non-null  object\n",
      " 8   mileage               34686 non-null  int64 \n",
      " 9   modelDate             34686 non-null  int64 \n",
      " 10  model_name            34686 non-null  object\n",
      " 11  name                  34686 non-null  object\n",
      " 12  numberOfDoors         34686 non-null  int64 \n",
      " 13  productionDate        34686 non-null  int64 \n",
      " 14  sell_id               34686 non-null  int64 \n",
      " 15  vehicleConfiguration  34686 non-null  object\n",
      " 16  vehicleTransmission   34686 non-null  object\n",
      " 17  Владельцы             34686 non-null  object\n",
      " 18  Владение              11995 non-null  object\n",
      " 19  ПТС                   34685 non-null  object\n",
      " 20  Привод                34686 non-null  object\n",
      " 21  Руль                  34686 non-null  object\n",
      " 22  Состояние             34686 non-null  object\n",
      " 23  Таможня               34686 non-null  object\n",
      " 24  price                 34686 non-null  int64 \n",
      "dtypes: int64(6), object(19)\n",
      "memory usage: 6.6+ MB\n"
     ]
    }
   ],
   "source": [
    "test.info()"
   ]
  },
  {
   "cell_type": "markdown",
   "metadata": {
    "execution": {
     "iopub.execute_input": "2021-12-27T12:49:19.045123Z",
     "iopub.status.busy": "2021-12-27T12:49:19.044833Z",
     "iopub.status.idle": "2021-12-27T12:49:19.054905Z",
     "shell.execute_reply": "2021-12-27T12:49:19.054108Z",
     "shell.execute_reply.started": "2021-12-27T12:49:19.045088Z"
    }
   },
   "source": [
    "Признаки 'Владение'  и 'complectation_dict' имеют большое количество пропусков. Удалим эти столбцы                            "
   ]
  },
  {
   "cell_type": "code",
   "execution_count": 539,
   "metadata": {
    "execution": {
     "iopub.execute_input": "2022-01-11T09:30:25.578818Z",
     "iopub.status.busy": "2022-01-11T09:30:25.578217Z",
     "iopub.status.idle": "2022-01-11T09:30:25.610988Z",
     "shell.execute_reply": "2022-01-11T09:30:25.610138Z",
     "shell.execute_reply.started": "2022-01-11T09:30:25.578739Z"
    }
   },
   "outputs": [],
   "source": [
    "test.drop(['complectation_dict', 'Владение'], axis=1, inplace=True)\n",
    "train.drop(['complectation_dict', 'Владение'], axis=1, inplace=True)"
   ]
  },
  {
   "cell_type": "markdown",
   "metadata": {},
   "source": [
    "Рассмотрим, сколько брендов представлено в нашей выборке:"
   ]
  },
  {
   "cell_type": "code",
   "execution_count": 540,
   "metadata": {
    "execution": {
     "iopub.execute_input": "2022-01-11T09:30:28.240733Z",
     "iopub.status.busy": "2022-01-11T09:30:28.240422Z",
     "iopub.status.idle": "2022-01-11T09:30:28.320964Z",
     "shell.execute_reply": "2022-01-11T09:30:28.320373Z",
     "shell.execute_reply.started": "2022-01-11T09:30:28.240699Z"
    }
   },
   "outputs": [
    {
     "data": {
      "text/plain": [
       "(array(['AUDI', 'BMW', 'CADILLAC', 'CHERY', 'CHEVROLET', 'CHRYSLER',\n",
       "        'CITROEN', 'DAEWOO', 'DODGE', 'FORD', 'GEELY', 'GREAT_WALL',\n",
       "        'HONDA', 'HYUNDAI', 'INFINITI', 'JAGUAR', 'JEEP', 'KIA',\n",
       "        'LAND_ROVER', 'LEXUS', 'MAZDA', 'MERCEDES', 'MINI', 'MITSUBISHI',\n",
       "        'NISSAN', 'OPEL', 'PEUGEOT', 'PORSCHE', 'RENAULT', 'SKODA',\n",
       "        'SSANG_YONG', 'SUBARU', 'SUZUKI', 'TOYOTA', 'VOLKSWAGEN', 'VOLVO'],\n",
       "       dtype=object),\n",
       " array(['AUDI', 'BMW', 'HONDA', 'INFINITI', 'LEXUS', 'MERCEDES',\n",
       "        'MITSUBISHI', 'NISSAN', 'SKODA', 'TOYOTA', 'VOLKSWAGEN', 'VOLVO'],\n",
       "       dtype=object))"
      ]
     },
     "execution_count": 540,
     "metadata": {},
     "output_type": "execute_result"
    }
   ],
   "source": [
    "train.brand.sort_values().unique(), test.brand.sort_values().unique()"
   ]
  },
  {
   "cell_type": "markdown",
   "metadata": {},
   "source": [
    "Поскольку в тестовой выборке всего 12 брендов, уберем лишние бренды из train"
   ]
  },
  {
   "cell_type": "code",
   "execution_count": 541,
   "metadata": {
    "execution": {
     "iopub.execute_input": "2022-01-11T09:30:31.577169Z",
     "iopub.status.busy": "2022-01-11T09:30:31.576637Z",
     "iopub.status.idle": "2022-01-11T09:30:31.606523Z",
     "shell.execute_reply": "2022-01-11T09:30:31.605612Z",
     "shell.execute_reply.started": "2022-01-11T09:30:31.577119Z"
    }
   },
   "outputs": [],
   "source": [
    "train = train[train.brand.isin(test.brand.unique())]"
   ]
  },
  {
   "cell_type": "markdown",
   "metadata": {
    "execution": {
     "iopub.execute_input": "2021-12-27T12:56:05.853776Z",
     "iopub.status.busy": "2021-12-27T12:56:05.852796Z",
     "iopub.status.idle": "2021-12-27T12:56:05.864347Z",
     "shell.execute_reply": "2021-12-27T12:56:05.863505Z",
     "shell.execute_reply.started": "2021-12-27T12:56:05.853734Z"
    }
   },
   "source": [
    "Признак 'Состояние' содержит только 1 значение, поэтому его можно удалить"
   ]
  },
  {
   "cell_type": "code",
   "execution_count": 542,
   "metadata": {
    "execution": {
     "iopub.execute_input": "2022-01-11T09:30:35.995676Z",
     "iopub.status.busy": "2022-01-11T09:30:35.994968Z",
     "iopub.status.idle": "2022-01-11T09:30:36.017144Z",
     "shell.execute_reply": "2022-01-11T09:30:36.016527Z",
     "shell.execute_reply.started": "2022-01-11T09:30:35.995621Z"
    }
   },
   "outputs": [],
   "source": [
    "test.drop('Состояние', axis=1, inplace=True)\n",
    "train.drop('Состояние', axis=1, inplace=True)"
   ]
  },
  {
   "cell_type": "markdown",
   "metadata": {},
   "source": [
    "### Работа с пропусками"
   ]
  },
  {
   "cell_type": "code",
   "execution_count": 543,
   "metadata": {
    "execution": {
     "iopub.execute_input": "2022-01-11T09:30:39.229151Z",
     "iopub.status.busy": "2022-01-11T09:30:39.228163Z",
     "iopub.status.idle": "2022-01-11T09:30:39.284073Z",
     "shell.execute_reply": "2022-01-11T09:30:39.282882Z",
     "shell.execute_reply.started": "2022-01-11T09:30:39.229094Z"
    }
   },
   "outputs": [
    {
     "name": "stdout",
     "output_type": "stream",
     "text": [
      "<class 'pandas.core.frame.DataFrame'>\n",
      "Int64Index: 49309 entries, 0 to 88660\n",
      "Data columns (total 22 columns):\n",
      " #   Column                Non-Null Count  Dtype  \n",
      "---  ------                --------------  -----  \n",
      " 0   bodyType              49308 non-null  object \n",
      " 1   brand                 49309 non-null  object \n",
      " 2   color                 49309 non-null  object \n",
      " 3   fuelType              49309 non-null  object \n",
      " 4   modelDate             49308 non-null  float64\n",
      " 5   name                  49308 non-null  object \n",
      " 6   numberOfDoors         49308 non-null  float64\n",
      " 7   productionDate        49309 non-null  int64  \n",
      " 8   vehicleConfiguration  49308 non-null  object \n",
      " 9   vehicleTransmission   49308 non-null  object \n",
      " 10  engineDisplacement    49308 non-null  object \n",
      " 11  enginePower           49308 non-null  float64\n",
      " 12  description           47721 non-null  object \n",
      " 13  mileage               49309 non-null  int64  \n",
      " 14  Привод                49308 non-null  object \n",
      " 15  Руль                  49309 non-null  object \n",
      " 16  Владельцы             38339 non-null  float64\n",
      " 17  ПТС                   49047 non-null  object \n",
      " 18  Таможня               49309 non-null  bool   \n",
      " 19  price                 49101 non-null  float64\n",
      " 20  model_name            49309 non-null  object \n",
      " 21  sell_id               49309 non-null  int64  \n",
      "dtypes: bool(1), float64(5), int64(3), object(13)\n",
      "memory usage: 8.3+ MB\n"
     ]
    }
   ],
   "source": [
    "train.info()"
   ]
  },
  {
   "cell_type": "code",
   "execution_count": 544,
   "metadata": {},
   "outputs": [
    {
     "data": {
      "text/plain": [
       "3.0    19107\n",
       "2.0    10270\n",
       "1.0     8962\n",
       "Name: Владельцы, dtype: int64"
      ]
     },
     "execution_count": 544,
     "metadata": {},
     "output_type": "execute_result"
    }
   ],
   "source": [
    "# пропуски в графе 'Владельцы' можно заменить на наиболее часто повторяющееся значение\n",
    "train['Владельцы'].value_counts()"
   ]
  },
  {
   "cell_type": "code",
   "execution_count": 545,
   "metadata": {
    "execution": {
     "iopub.execute_input": "2022-01-11T09:30:42.532547Z",
     "iopub.status.busy": "2022-01-11T09:30:42.531701Z",
     "iopub.status.idle": "2022-01-11T09:30:42.537859Z",
     "shell.execute_reply": "2022-01-11T09:30:42.537086Z",
     "shell.execute_reply.started": "2022-01-11T09:30:42.532506Z"
    }
   },
   "outputs": [],
   "source": [
    "train['Владельцы'].fillna(3, inplace=True)"
   ]
  },
  {
   "cell_type": "code",
   "execution_count": 546,
   "metadata": {
    "execution": {
     "iopub.execute_input": "2022-01-11T09:30:44.778127Z",
     "iopub.status.busy": "2022-01-11T09:30:44.777193Z",
     "iopub.status.idle": "2022-01-11T09:30:44.810984Z",
     "shell.execute_reply": "2022-01-11T09:30:44.810019Z",
     "shell.execute_reply.started": "2022-01-11T09:30:44.778078Z"
    }
   },
   "outputs": [],
   "source": [
    "# удалим признак description\n",
    "test.drop('description', axis=1, inplace=True)\n",
    "train.drop('description', axis=1, inplace=True)"
   ]
  },
  {
   "cell_type": "code",
   "execution_count": 547,
   "metadata": {
    "execution": {
     "iopub.execute_input": "2022-01-11T09:30:48.405047Z",
     "iopub.status.busy": "2022-01-11T09:30:48.404324Z",
     "iopub.status.idle": "2022-01-11T09:30:48.420765Z",
     "shell.execute_reply": "2022-01-11T09:30:48.419438Z",
     "shell.execute_reply.started": "2022-01-11T09:30:48.404994Z"
    }
   },
   "outputs": [],
   "source": [
    "train.dropna(subset=['price'], inplace=True)"
   ]
  },
  {
   "cell_type": "code",
   "execution_count": 548,
   "metadata": {
    "execution": {
     "iopub.execute_input": "2022-01-11T09:30:51.331463Z",
     "iopub.status.busy": "2022-01-11T09:30:51.330452Z",
     "iopub.status.idle": "2022-01-11T09:30:51.339781Z",
     "shell.execute_reply": "2022-01-11T09:30:51.338962Z",
     "shell.execute_reply.started": "2022-01-11T09:30:51.331413Z"
    }
   },
   "outputs": [],
   "source": [
    "# заменим пропуски в 'ПТС' на 'Оригинал'\n",
    "train['ПТС'].fillna('Оригинал', inplace=True)"
   ]
  },
  {
   "cell_type": "code",
   "execution_count": 549,
   "metadata": {
    "execution": {
     "iopub.execute_input": "2022-01-11T09:30:53.777846Z",
     "iopub.status.busy": "2022-01-11T09:30:53.777295Z",
     "iopub.status.idle": "2022-01-11T09:30:53.823969Z",
     "shell.execute_reply": "2022-01-11T09:30:53.823056Z",
     "shell.execute_reply.started": "2022-01-11T09:30:53.777794Z"
    }
   },
   "outputs": [],
   "source": [
    "train.dropna(inplace=True)"
   ]
  },
  {
   "cell_type": "code",
   "execution_count": 550,
   "metadata": {
    "execution": {
     "iopub.execute_input": "2022-01-11T09:30:55.126652Z",
     "iopub.status.busy": "2022-01-11T09:30:55.126359Z",
     "iopub.status.idle": "2022-01-11T09:30:55.171Z",
     "shell.execute_reply": "2022-01-11T09:30:55.169958Z",
     "shell.execute_reply.started": "2022-01-11T09:30:55.126621Z"
    }
   },
   "outputs": [
    {
     "name": "stdout",
     "output_type": "stream",
     "text": [
      "<class 'pandas.core.frame.DataFrame'>\n",
      "Int64Index: 49100 entries, 0 to 88660\n",
      "Data columns (total 21 columns):\n",
      " #   Column                Non-Null Count  Dtype  \n",
      "---  ------                --------------  -----  \n",
      " 0   bodyType              49100 non-null  object \n",
      " 1   brand                 49100 non-null  object \n",
      " 2   color                 49100 non-null  object \n",
      " 3   fuelType              49100 non-null  object \n",
      " 4   modelDate             49100 non-null  float64\n",
      " 5   name                  49100 non-null  object \n",
      " 6   numberOfDoors         49100 non-null  float64\n",
      " 7   productionDate        49100 non-null  int64  \n",
      " 8   vehicleConfiguration  49100 non-null  object \n",
      " 9   vehicleTransmission   49100 non-null  object \n",
      " 10  engineDisplacement    49100 non-null  object \n",
      " 11  enginePower           49100 non-null  float64\n",
      " 12  mileage               49100 non-null  int64  \n",
      " 13  Привод                49100 non-null  object \n",
      " 14  Руль                  49100 non-null  object \n",
      " 15  Владельцы             49100 non-null  float64\n",
      " 16  ПТС                   49100 non-null  object \n",
      " 17  Таможня               49100 non-null  bool   \n",
      " 18  price                 49100 non-null  float64\n",
      " 19  model_name            49100 non-null  object \n",
      " 20  sell_id               49100 non-null  int64  \n",
      "dtypes: bool(1), float64(5), int64(3), object(12)\n",
      "memory usage: 7.9+ MB\n"
     ]
    }
   ],
   "source": [
    "train.info()"
   ]
  },
  {
   "cell_type": "code",
   "execution_count": 551,
   "metadata": {
    "execution": {
     "iopub.execute_input": "2022-01-11T09:30:59.436729Z",
     "iopub.status.busy": "2022-01-11T09:30:59.436383Z",
     "iopub.status.idle": "2022-01-11T09:30:59.479Z",
     "shell.execute_reply": "2022-01-11T09:30:59.477679Z",
     "shell.execute_reply.started": "2022-01-11T09:30:59.436692Z"
    }
   },
   "outputs": [
    {
     "name": "stdout",
     "output_type": "stream",
     "text": [
      "<class 'pandas.core.frame.DataFrame'>\n",
      "RangeIndex: 34686 entries, 0 to 34685\n",
      "Data columns (total 21 columns):\n",
      " #   Column                Non-Null Count  Dtype \n",
      "---  ------                --------------  ----- \n",
      " 0   bodyType              34686 non-null  object\n",
      " 1   brand                 34686 non-null  object\n",
      " 2   color                 34686 non-null  object\n",
      " 3   engineDisplacement    34686 non-null  object\n",
      " 4   enginePower           34686 non-null  object\n",
      " 5   fuelType              34686 non-null  object\n",
      " 6   mileage               34686 non-null  int64 \n",
      " 7   modelDate             34686 non-null  int64 \n",
      " 8   model_name            34686 non-null  object\n",
      " 9   name                  34686 non-null  object\n",
      " 10  numberOfDoors         34686 non-null  int64 \n",
      " 11  productionDate        34686 non-null  int64 \n",
      " 12  sell_id               34686 non-null  int64 \n",
      " 13  vehicleConfiguration  34686 non-null  object\n",
      " 14  vehicleTransmission   34686 non-null  object\n",
      " 15  Владельцы             34686 non-null  object\n",
      " 16  ПТС                   34685 non-null  object\n",
      " 17  Привод                34686 non-null  object\n",
      " 18  Руль                  34686 non-null  object\n",
      " 19  Таможня               34686 non-null  object\n",
      " 20  price                 34686 non-null  int64 \n",
      "dtypes: int64(6), object(15)\n",
      "memory usage: 5.6+ MB\n"
     ]
    }
   ],
   "source": [
    "test.info()"
   ]
  },
  {
   "cell_type": "markdown",
   "metadata": {},
   "source": [
    "Добавим в выборку файл с собранными данными"
   ]
  },
  {
   "cell_type": "code",
   "execution_count": 552,
   "metadata": {
    "execution": {
     "iopub.execute_input": "2022-01-11T09:31:03.690819Z",
     "iopub.status.busy": "2022-01-11T09:31:03.690526Z",
     "iopub.status.idle": "2022-01-11T09:31:05.40725Z",
     "shell.execute_reply": "2022-01-11T09:31:05.406422Z",
     "shell.execute_reply.started": "2022-01-11T09:31:03.690774Z"
    }
   },
   "outputs": [
    {
     "data": {
      "text/html": [
       "<div>\n",
       "<style scoped>\n",
       "    .dataframe tbody tr th:only-of-type {\n",
       "        vertical-align: middle;\n",
       "    }\n",
       "\n",
       "    .dataframe tbody tr th {\n",
       "        vertical-align: top;\n",
       "    }\n",
       "\n",
       "    .dataframe thead th {\n",
       "        text-align: right;\n",
       "    }\n",
       "</style>\n",
       "<table border=\"1\" class=\"dataframe\">\n",
       "  <thead>\n",
       "    <tr style=\"text-align: right;\">\n",
       "      <th></th>\n",
       "      <th>bodyType</th>\n",
       "      <th>brand</th>\n",
       "      <th>car_url</th>\n",
       "      <th>color</th>\n",
       "      <th>complectation_dict</th>\n",
       "      <th>description</th>\n",
       "      <th>engineDisplacement</th>\n",
       "      <th>enginePower</th>\n",
       "      <th>equipment_dict</th>\n",
       "      <th>fuelType</th>\n",
       "      <th>image</th>\n",
       "      <th>mileage</th>\n",
       "      <th>model_name</th>\n",
       "      <th>name</th>\n",
       "      <th>numberOfDoors</th>\n",
       "      <th>parsing_unixtime</th>\n",
       "      <th>priceCurrency</th>\n",
       "      <th>productionDate</th>\n",
       "      <th>sell_id</th>\n",
       "      <th>super_gen</th>\n",
       "      <th>vehicleTransmission</th>\n",
       "      <th>Владельцы</th>\n",
       "      <th>Владение</th>\n",
       "      <th>ПТС</th>\n",
       "      <th>Привод</th>\n",
       "      <th>Руль</th>\n",
       "      <th>Состояние</th>\n",
       "      <th>Таможня</th>\n",
       "      <th>views</th>\n",
       "      <th>date_added</th>\n",
       "      <th>region</th>\n",
       "      <th>price</th>\n",
       "    </tr>\n",
       "  </thead>\n",
       "  <tbody>\n",
       "    <tr>\n",
       "      <th>20495</th>\n",
       "      <td>седан</td>\n",
       "      <td>MERCEDES</td>\n",
       "      <td>https://auto.ru/cars/used/sale/mercedes/s_clas...</td>\n",
       "      <td>чёрный</td>\n",
       "      <td>['cruise-control', 'multi-wheel', 'heated-wash...</td>\n",
       "      <td>Выгода до 100 000 рублей при покупке в кредит...</td>\n",
       "      <td>4.7</td>\n",
       "      <td>455.0</td>\n",
       "      <td>{'e-adjustment-wheel': True, 'multi-wheel': Tr...</td>\n",
       "      <td>Бензин</td>\n",
       "      <td>https://avatars.mds.yandex.net/get-autoru-vos/...</td>\n",
       "      <td>102000.0</td>\n",
       "      <td>Maybach S-Класс</td>\n",
       "      <td>Mercedes-Benz Maybach S-Класс 500 I (X222)</td>\n",
       "      <td>4.0</td>\n",
       "      <td>1.640236e+09</td>\n",
       "      <td>RUB</td>\n",
       "      <td>2016.0</td>\n",
       "      <td>1.106337e+09</td>\n",
       "      <td>{'sale-data-attributes': {'asciiCat': 'cars', ...</td>\n",
       "      <td>AUTOMATIC</td>\n",
       "      <td>2 владельца</td>\n",
       "      <td>NaN</td>\n",
       "      <td>Оригинал</td>\n",
       "      <td>полный</td>\n",
       "      <td>Левый</td>\n",
       "      <td>Не требует ремонта</td>\n",
       "      <td>Растаможен</td>\n",
       "      <td>182.0</td>\n",
       "      <td>17 декабря</td>\n",
       "      <td>в Москве</td>\n",
       "      <td>6050000.0</td>\n",
       "    </tr>\n",
       "    <tr>\n",
       "      <th>10371</th>\n",
       "      <td>внедорожник</td>\n",
       "      <td>MERCEDES</td>\n",
       "      <td>https://auto.ru/cars/used/sale/mercedes/m_klas...</td>\n",
       "      <td>чёрный</td>\n",
       "      <td>NaN</td>\n",
       "      <td>Ваш выбор и Ваше время наши главные приоритеты...</td>\n",
       "      <td>3.2</td>\n",
       "      <td>218.0</td>\n",
       "      <td>{'cruise-control': True, 'asr': True, 'airbag-...</td>\n",
       "      <td>Бензин</td>\n",
       "      <td>https://autoru.naydex.net/a1cC78K01/f6f2b5RS/Q...</td>\n",
       "      <td>290000.0</td>\n",
       "      <td>M-Класс</td>\n",
       "      <td>Mercedes-Benz M-Класс 320 I (W163) Рестайлинг</td>\n",
       "      <td>5.0</td>\n",
       "      <td>1.640222e+09</td>\n",
       "      <td>RUB</td>\n",
       "      <td>2002.0</td>\n",
       "      <td>1.105823e+09</td>\n",
       "      <td>{'sale-data-attributes': {'asciiCat': 'cars', ...</td>\n",
       "      <td>AUTOMATIC</td>\n",
       "      <td>2 владельца</td>\n",
       "      <td>NaN</td>\n",
       "      <td>Оригинал</td>\n",
       "      <td>полный</td>\n",
       "      <td>Левый</td>\n",
       "      <td>Не требует ремонта</td>\n",
       "      <td>Растаможен</td>\n",
       "      <td>390.0</td>\n",
       "      <td>22 декабря</td>\n",
       "      <td>в Москве</td>\n",
       "      <td>560000.0</td>\n",
       "    </tr>\n",
       "    <tr>\n",
       "      <th>26952</th>\n",
       "      <td>купе-хардтоп</td>\n",
       "      <td>MERCEDES</td>\n",
       "      <td>https://auto.ru/cars/used/sale/mercedes/e_klas...</td>\n",
       "      <td>белый</td>\n",
       "      <td>['cruise-control', 'multi-wheel', 'auto-park',...</td>\n",
       "      <td>Продаю свой автомобиль технически всё в идеале...</td>\n",
       "      <td>2.0</td>\n",
       "      <td>184.0</td>\n",
       "      <td>{'cruise-control': True, 'esp': True, 'adaptiv...</td>\n",
       "      <td>Бензин</td>\n",
       "      <td>https://autoru.naydex.net/1KpQ7K631/e24d99_tl/...</td>\n",
       "      <td>117000.0</td>\n",
       "      <td>E-Класс</td>\n",
       "      <td>Mercedes-Benz E-Класс 200 IV (W212, S212, C207...</td>\n",
       "      <td>2.0</td>\n",
       "      <td>1.640245e+09</td>\n",
       "      <td>RUB</td>\n",
       "      <td>2014.0</td>\n",
       "      <td>1.106369e+09</td>\n",
       "      <td>{'sale-data-attributes': {'asciiCat': 'cars', ...</td>\n",
       "      <td>AUTOMATIC</td>\n",
       "      <td>3 или более</td>\n",
       "      <td>1 год и 7 месяцев</td>\n",
       "      <td>Дубликат</td>\n",
       "      <td>задний</td>\n",
       "      <td>Левый</td>\n",
       "      <td>Не требует ремонта</td>\n",
       "      <td>Растаможен</td>\n",
       "      <td>233.0</td>\n",
       "      <td>21 декабря</td>\n",
       "      <td>в Москве</td>\n",
       "      <td>1960000.0</td>\n",
       "    </tr>\n",
       "  </tbody>\n",
       "</table>\n",
       "</div>"
      ],
      "text/plain": [
       "           bodyType     brand  \\\n",
       "20495         седан  MERCEDES   \n",
       "10371   внедорожник  MERCEDES   \n",
       "26952  купе-хардтоп  MERCEDES   \n",
       "\n",
       "                                                 car_url   color  \\\n",
       "20495  https://auto.ru/cars/used/sale/mercedes/s_clas...  чёрный   \n",
       "10371  https://auto.ru/cars/used/sale/mercedes/m_klas...  чёрный   \n",
       "26952  https://auto.ru/cars/used/sale/mercedes/e_klas...   белый   \n",
       "\n",
       "                                      complectation_dict  \\\n",
       "20495  ['cruise-control', 'multi-wheel', 'heated-wash...   \n",
       "10371                                                NaN   \n",
       "26952  ['cruise-control', 'multi-wheel', 'auto-park',...   \n",
       "\n",
       "                                             description engineDisplacement  \\\n",
       "20495   Выгода до 100 000 рублей при покупке в кредит...                4.7   \n",
       "10371  Ваш выбор и Ваше время наши главные приоритеты...                3.2   \n",
       "26952  Продаю свой автомобиль технически всё в идеале...                2.0   \n",
       "\n",
       "       enginePower                                     equipment_dict  \\\n",
       "20495        455.0  {'e-adjustment-wheel': True, 'multi-wheel': Tr...   \n",
       "10371        218.0  {'cruise-control': True, 'asr': True, 'airbag-...   \n",
       "26952        184.0  {'cruise-control': True, 'esp': True, 'adaptiv...   \n",
       "\n",
       "      fuelType                                              image   mileage  \\\n",
       "20495   Бензин  https://avatars.mds.yandex.net/get-autoru-vos/...  102000.0   \n",
       "10371   Бензин  https://autoru.naydex.net/a1cC78K01/f6f2b5RS/Q...  290000.0   \n",
       "26952   Бензин  https://autoru.naydex.net/1KpQ7K631/e24d99_tl/...  117000.0   \n",
       "\n",
       "            model_name                                               name  \\\n",
       "20495  Maybach S-Класс         Mercedes-Benz Maybach S-Класс 500 I (X222)   \n",
       "10371          M-Класс      Mercedes-Benz M-Класс 320 I (W163) Рестайлинг   \n",
       "26952          E-Класс  Mercedes-Benz E-Класс 200 IV (W212, S212, C207...   \n",
       "\n",
       "       numberOfDoors  parsing_unixtime priceCurrency  productionDate  \\\n",
       "20495            4.0      1.640236e+09           RUB          2016.0   \n",
       "10371            5.0      1.640222e+09           RUB          2002.0   \n",
       "26952            2.0      1.640245e+09           RUB          2014.0   \n",
       "\n",
       "            sell_id                                          super_gen  \\\n",
       "20495  1.106337e+09  {'sale-data-attributes': {'asciiCat': 'cars', ...   \n",
       "10371  1.105823e+09  {'sale-data-attributes': {'asciiCat': 'cars', ...   \n",
       "26952  1.106369e+09  {'sale-data-attributes': {'asciiCat': 'cars', ...   \n",
       "\n",
       "      vehicleTransmission    Владельцы           Владение       ПТС  Привод  \\\n",
       "20495           AUTOMATIC  2 владельца                NaN  Оригинал  полный   \n",
       "10371           AUTOMATIC  2 владельца                NaN  Оригинал  полный   \n",
       "26952           AUTOMATIC  3 или более  1 год и 7 месяцев  Дубликат  задний   \n",
       "\n",
       "        Руль           Состояние     Таможня  views  date_added     region  \\\n",
       "20495  Левый  Не требует ремонта  Растаможен  182.0  17 декабря   в Москве   \n",
       "10371  Левый  Не требует ремонта  Растаможен  390.0  22 декабря   в Москве   \n",
       "26952  Левый  Не требует ремонта  Растаможен  233.0  21 декабря   в Москве   \n",
       "\n",
       "           price  \n",
       "20495  6050000.0  \n",
       "10371   560000.0  \n",
       "26952  1960000.0  "
      ]
     },
     "execution_count": 552,
     "metadata": {},
     "output_type": "execute_result"
    }
   ],
   "source": [
    "train_2021 = pd.read_csv('parsed_df.csv')\n",
    "train_2021.sample(3)"
   ]
  },
  {
   "cell_type": "markdown",
   "metadata": {},
   "source": [
    "Найдем отличия с тестовой таблицей"
   ]
  },
  {
   "cell_type": "code",
   "execution_count": 553,
   "metadata": {
    "execution": {
     "iopub.execute_input": "2022-01-11T09:31:15.403975Z",
     "iopub.status.busy": "2022-01-11T09:31:15.403173Z",
     "iopub.status.idle": "2022-01-11T09:31:15.409883Z",
     "shell.execute_reply": "2022-01-11T09:31:15.408899Z",
     "shell.execute_reply.started": "2022-01-11T09:31:15.403933Z"
    },
    "scrolled": true
   },
   "outputs": [
    {
     "data": {
      "text/plain": [
       "{'modelDate', 'vehicleConfiguration'}"
      ]
     },
     "execution_count": 553,
     "metadata": {},
     "output_type": "execute_result"
    }
   ],
   "source": [
    "set(test.columns).difference(train_2021.columns)"
   ]
  },
  {
   "cell_type": "code",
   "execution_count": 554,
   "metadata": {
    "execution": {
     "iopub.execute_input": "2022-01-11T09:31:18.324523Z",
     "iopub.status.busy": "2022-01-11T09:31:18.32421Z",
     "iopub.status.idle": "2022-01-11T09:31:18.34689Z",
     "shell.execute_reply": "2022-01-11T09:31:18.345704Z",
     "shell.execute_reply.started": "2022-01-11T09:31:18.324488Z"
    }
   },
   "outputs": [],
   "source": [
    "pars = train_2021.copy()\n",
    "pars.drop(['car_url', 'equipment_dict', 'image', 'super_gen', 'priceCurrency', 'parsing_unixtime', 'complectation_dict',\n",
    "           'Владение', 'Состояние', 'description', 'views', 'date_added',  'region'], axis=1, inplace=True)"
   ]
  },
  {
   "cell_type": "code",
   "execution_count": 555,
   "metadata": {
    "execution": {
     "iopub.execute_input": "2022-01-11T09:31:23.801214Z",
     "iopub.status.busy": "2022-01-11T09:31:23.800924Z",
     "iopub.status.idle": "2022-01-11T09:31:23.814639Z",
     "shell.execute_reply": "2022-01-11T09:31:23.81384Z",
     "shell.execute_reply.started": "2022-01-11T09:31:23.801179Z"
    }
   },
   "outputs": [],
   "source": [
    "pars.dropna(subset=['price'], inplace=True)"
   ]
  },
  {
   "cell_type": "code",
   "execution_count": 556,
   "metadata": {
    "execution": {
     "iopub.execute_input": "2022-01-11T09:31:28.821745Z",
     "iopub.status.busy": "2022-01-11T09:31:28.821278Z",
     "iopub.status.idle": "2022-01-11T09:31:28.833928Z",
     "shell.execute_reply": "2022-01-11T09:31:28.832962Z",
     "shell.execute_reply.started": "2022-01-11T09:31:28.82171Z"
    }
   },
   "outputs": [],
   "source": [
    "pars.dropna(subset=['fuelType'], inplace=True)"
   ]
  },
  {
   "cell_type": "code",
   "execution_count": 557,
   "metadata": {
    "execution": {
     "iopub.execute_input": "2022-01-11T09:31:30.695988Z",
     "iopub.status.busy": "2022-01-11T09:31:30.695582Z",
     "iopub.status.idle": "2022-01-11T09:31:30.727081Z",
     "shell.execute_reply": "2022-01-11T09:31:30.726419Z",
     "shell.execute_reply.started": "2022-01-11T09:31:30.695958Z"
    }
   },
   "outputs": [],
   "source": [
    "pars.dropna(inplace=True)"
   ]
  },
  {
   "cell_type": "code",
   "execution_count": 558,
   "metadata": {
    "execution": {
     "iopub.execute_input": "2022-01-11T09:31:31.870054Z",
     "iopub.status.busy": "2022-01-11T09:31:31.869587Z",
     "iopub.status.idle": "2022-01-11T09:31:31.902504Z",
     "shell.execute_reply": "2022-01-11T09:31:31.9019Z",
     "shell.execute_reply.started": "2022-01-11T09:31:31.870019Z"
    }
   },
   "outputs": [
    {
     "name": "stdout",
     "output_type": "stream",
     "text": [
      "<class 'pandas.core.frame.DataFrame'>\n",
      "Int64Index: 28719 entries, 0 to 28899\n",
      "Data columns (total 19 columns):\n",
      " #   Column               Non-Null Count  Dtype  \n",
      "---  ------               --------------  -----  \n",
      " 0   bodyType             28719 non-null  object \n",
      " 1   brand                28719 non-null  object \n",
      " 2   color                28719 non-null  object \n",
      " 3   engineDisplacement   28719 non-null  object \n",
      " 4   enginePower          28719 non-null  float64\n",
      " 5   fuelType             28719 non-null  object \n",
      " 6   mileage              28719 non-null  float64\n",
      " 7   model_name           28719 non-null  object \n",
      " 8   name                 28719 non-null  object \n",
      " 9   numberOfDoors        28719 non-null  float64\n",
      " 10  productionDate       28719 non-null  float64\n",
      " 11  sell_id              28719 non-null  float64\n",
      " 12  vehicleTransmission  28719 non-null  object \n",
      " 13  Владельцы            28719 non-null  object \n",
      " 14  ПТС                  28719 non-null  object \n",
      " 15  Привод               28719 non-null  object \n",
      " 16  Руль                 28719 non-null  object \n",
      " 17  Таможня              28719 non-null  object \n",
      " 18  price                28719 non-null  float64\n",
      "dtypes: float64(6), object(13)\n",
      "memory usage: 4.4+ MB\n"
     ]
    }
   ],
   "source": [
    "pars.info()"
   ]
  },
  {
   "cell_type": "code",
   "execution_count": 559,
   "metadata": {
    "execution": {
     "iopub.execute_input": "2022-01-11T09:31:47.525644Z",
     "iopub.status.busy": "2022-01-11T09:31:47.525133Z",
     "iopub.status.idle": "2022-01-11T09:31:47.531385Z",
     "shell.execute_reply": "2022-01-11T09:31:47.53075Z",
     "shell.execute_reply.started": "2022-01-11T09:31:47.525584Z"
    }
   },
   "outputs": [
    {
     "data": {
      "text/plain": [
       "set()"
      ]
     },
     "execution_count": 559,
     "metadata": {},
     "output_type": "execute_result"
    }
   ],
   "source": [
    "# удалим повторы\n",
    "set(pars.columns).difference(test.columns)"
   ]
  },
  {
   "cell_type": "markdown",
   "metadata": {},
   "source": [
    "# Предварительная обработка данных и EDA"
   ]
  },
  {
   "cell_type": "markdown",
   "metadata": {},
   "source": [
    "### Объединим train и test датасеты"
   ]
  },
  {
   "cell_type": "code",
   "execution_count": 560,
   "metadata": {
    "execution": {
     "iopub.execute_input": "2022-01-11T09:32:00.566605Z",
     "iopub.status.busy": "2022-01-11T09:32:00.56599Z",
     "iopub.status.idle": "2022-01-11T09:32:00.574351Z",
     "shell.execute_reply": "2022-01-11T09:32:00.573735Z",
     "shell.execute_reply.started": "2022-01-11T09:32:00.566567Z"
    }
   },
   "outputs": [],
   "source": [
    "# добавим столбец, который будет показывать train или test, чтобы было легче их объединять и разделять\n",
    "train['train'] = 1\n",
    "pars['train'] = 1\n",
    "test['train'] = 0\n",
    "\n",
    "# эту колонку следует добавить к train, потому что она есть в test, и используется для submission\n",
    "train['sell_id'] = 0\n",
    "\n",
    "#train_2021['sell_id'] = 0\n",
    "pars['sell_id'] = 0"
   ]
  },
  {
   "cell_type": "code",
   "execution_count": 561,
   "metadata": {
    "execution": {
     "iopub.execute_input": "2022-01-11T09:32:04.189696Z",
     "iopub.status.busy": "2022-01-11T09:32:04.189408Z",
     "iopub.status.idle": "2022-01-11T09:32:04.254197Z",
     "shell.execute_reply": "2022-01-11T09:32:04.253395Z",
     "shell.execute_reply.started": "2022-01-11T09:32:04.189667Z"
    }
   },
   "outputs": [
    {
     "name": "stdout",
     "output_type": "stream",
     "text": [
      "(112505, 20)\n"
     ]
    }
   ],
   "source": [
    "combined_df = pd.concat([test, train, pars], join='inner', ignore_index=True)\n",
    "print(combined_df.shape)"
   ]
  },
  {
   "cell_type": "code",
   "execution_count": 562,
   "metadata": {
    "execution": {
     "iopub.execute_input": "2022-01-11T09:32:07.970943Z",
     "iopub.status.busy": "2022-01-11T09:32:07.970645Z",
     "iopub.status.idle": "2022-01-11T09:32:07.977032Z",
     "shell.execute_reply": "2022-01-11T09:32:07.97614Z",
     "shell.execute_reply.started": "2022-01-11T09:32:07.970904Z"
    }
   },
   "outputs": [
    {
     "data": {
      "text/plain": [
       "Index(['bodyType', 'brand', 'color', 'engineDisplacement', 'enginePower',\n",
       "       'fuelType', 'mileage', 'modelDate', 'model_name', 'name',\n",
       "       'numberOfDoors', 'productionDate', 'sell_id', 'vehicleConfiguration',\n",
       "       'vehicleTransmission', 'Владельцы', 'ПТС', 'Привод', 'Руль', 'Таможня',\n",
       "       'price', 'train'],\n",
       "      dtype='object')"
      ]
     },
     "execution_count": 562,
     "metadata": {},
     "output_type": "execute_result"
    }
   ],
   "source": [
    "test.columns"
   ]
  },
  {
   "cell_type": "markdown",
   "metadata": {},
   "source": [
    "### Построим наивную модель"
   ]
  },
  {
   "cell_type": "markdown",
   "metadata": {},
   "source": [
    "Сначала изменим категориальные признаки"
   ]
  },
  {
   "cell_type": "code",
   "execution_count": 563,
   "metadata": {
    "execution": {
     "iopub.execute_input": "2022-01-11T09:32:11.937063Z",
     "iopub.status.busy": "2022-01-11T09:32:11.936234Z",
     "iopub.status.idle": "2022-01-11T09:32:11.964963Z",
     "shell.execute_reply": "2022-01-11T09:32:11.963915Z",
     "shell.execute_reply.started": "2022-01-11T09:32:11.937017Z"
    }
   },
   "outputs": [],
   "source": [
    "for col in ['brand', 'model_name']:\n",
    "    combined_df[col] = combined_df[col].astype('category').cat.codes"
   ]
  },
  {
   "cell_type": "code",
   "execution_count": 564,
   "metadata": {
    "execution": {
     "iopub.execute_input": "2022-01-11T09:32:14.579015Z",
     "iopub.status.busy": "2022-01-11T09:32:14.578158Z",
     "iopub.status.idle": "2022-01-11T09:32:14.584057Z",
     "shell.execute_reply": "2022-01-11T09:32:14.583003Z",
     "shell.execute_reply.started": "2022-01-11T09:32:14.57897Z"
    }
   },
   "outputs": [],
   "source": [
    "naiv = combined_df.columns[combined_df.dtypes != object]"
   ]
  },
  {
   "cell_type": "code",
   "execution_count": 565,
   "metadata": {
    "execution": {
     "iopub.execute_input": "2022-01-11T09:32:16.583663Z",
     "iopub.status.busy": "2022-01-11T09:32:16.582658Z",
     "iopub.status.idle": "2022-01-11T09:32:16.607155Z",
     "shell.execute_reply": "2022-01-11T09:32:16.606498Z",
     "shell.execute_reply.started": "2022-01-11T09:32:16.583611Z"
    }
   },
   "outputs": [],
   "source": [
    "naiv = combined_df[naiv]"
   ]
  },
  {
   "cell_type": "code",
   "execution_count": 566,
   "metadata": {
    "execution": {
     "iopub.execute_input": "2022-01-11T09:32:18.882552Z",
     "iopub.status.busy": "2022-01-11T09:32:18.881903Z",
     "iopub.status.idle": "2022-01-11T09:32:18.888753Z",
     "shell.execute_reply": "2022-01-11T09:32:18.887774Z",
     "shell.execute_reply.started": "2022-01-11T09:32:18.882509Z"
    }
   },
   "outputs": [],
   "source": [
    "naiv['age'] = 2021-naiv['productionDate']"
   ]
  },
  {
   "cell_type": "code",
   "execution_count": 567,
   "metadata": {
    "execution": {
     "iopub.execute_input": "2022-01-11T09:32:20.328448Z",
     "iopub.status.busy": "2022-01-11T09:32:20.328185Z",
     "iopub.status.idle": "2022-01-11T09:32:20.353364Z",
     "shell.execute_reply": "2022-01-11T09:32:20.35275Z",
     "shell.execute_reply.started": "2022-01-11T09:32:20.328421Z"
    }
   },
   "outputs": [
    {
     "data": {
      "text/html": [
       "<div>\n",
       "<style scoped>\n",
       "    .dataframe tbody tr th:only-of-type {\n",
       "        vertical-align: middle;\n",
       "    }\n",
       "\n",
       "    .dataframe tbody tr th {\n",
       "        vertical-align: top;\n",
       "    }\n",
       "\n",
       "    .dataframe thead th {\n",
       "        text-align: right;\n",
       "    }\n",
       "</style>\n",
       "<table border=\"1\" class=\"dataframe\">\n",
       "  <thead>\n",
       "    <tr style=\"text-align: right;\">\n",
       "      <th></th>\n",
       "      <th>brand</th>\n",
       "      <th>mileage</th>\n",
       "      <th>model_name</th>\n",
       "      <th>numberOfDoors</th>\n",
       "      <th>productionDate</th>\n",
       "      <th>sell_id</th>\n",
       "      <th>price</th>\n",
       "      <th>train</th>\n",
       "      <th>age</th>\n",
       "    </tr>\n",
       "  </thead>\n",
       "  <tbody>\n",
       "    <tr>\n",
       "      <th>34686</th>\n",
       "      <td>0</td>\n",
       "      <td>350000.0</td>\n",
       "      <td>2</td>\n",
       "      <td>4.0</td>\n",
       "      <td>1991.0</td>\n",
       "      <td>0</td>\n",
       "      <td>200000.0</td>\n",
       "      <td>1</td>\n",
       "      <td>30.0</td>\n",
       "    </tr>\n",
       "    <tr>\n",
       "      <th>34687</th>\n",
       "      <td>0</td>\n",
       "      <td>173424.0</td>\n",
       "      <td>2</td>\n",
       "      <td>4.0</td>\n",
       "      <td>1986.0</td>\n",
       "      <td>0</td>\n",
       "      <td>60000.0</td>\n",
       "      <td>1</td>\n",
       "      <td>35.0</td>\n",
       "    </tr>\n",
       "    <tr>\n",
       "      <th>34688</th>\n",
       "      <td>0</td>\n",
       "      <td>230000.0</td>\n",
       "      <td>2</td>\n",
       "      <td>5.0</td>\n",
       "      <td>1989.0</td>\n",
       "      <td>0</td>\n",
       "      <td>99000.0</td>\n",
       "      <td>1</td>\n",
       "      <td>32.0</td>\n",
       "    </tr>\n",
       "    <tr>\n",
       "      <th>34689</th>\n",
       "      <td>0</td>\n",
       "      <td>240000.0</td>\n",
       "      <td>2</td>\n",
       "      <td>4.0</td>\n",
       "      <td>1989.0</td>\n",
       "      <td>0</td>\n",
       "      <td>65000.0</td>\n",
       "      <td>1</td>\n",
       "      <td>32.0</td>\n",
       "    </tr>\n",
       "    <tr>\n",
       "      <th>34690</th>\n",
       "      <td>0</td>\n",
       "      <td>300000.0</td>\n",
       "      <td>2</td>\n",
       "      <td>4.0</td>\n",
       "      <td>1991.0</td>\n",
       "      <td>0</td>\n",
       "      <td>100000.0</td>\n",
       "      <td>1</td>\n",
       "      <td>30.0</td>\n",
       "    </tr>\n",
       "    <tr>\n",
       "      <th>...</th>\n",
       "      <td>...</td>\n",
       "      <td>...</td>\n",
       "      <td>...</td>\n",
       "      <td>...</td>\n",
       "      <td>...</td>\n",
       "      <td>...</td>\n",
       "      <td>...</td>\n",
       "      <td>...</td>\n",
       "      <td>...</td>\n",
       "    </tr>\n",
       "    <tr>\n",
       "      <th>112500</th>\n",
       "      <td>7</td>\n",
       "      <td>207000.0</td>\n",
       "      <td>757</td>\n",
       "      <td>4.0</td>\n",
       "      <td>2015.0</td>\n",
       "      <td>0</td>\n",
       "      <td>790000.0</td>\n",
       "      <td>1</td>\n",
       "      <td>6.0</td>\n",
       "    </tr>\n",
       "    <tr>\n",
       "      <th>112501</th>\n",
       "      <td>9</td>\n",
       "      <td>201000.0</td>\n",
       "      <td>459</td>\n",
       "      <td>5.0</td>\n",
       "      <td>2013.0</td>\n",
       "      <td>0</td>\n",
       "      <td>3400000.0</td>\n",
       "      <td>1</td>\n",
       "      <td>8.0</td>\n",
       "    </tr>\n",
       "    <tr>\n",
       "      <th>112502</th>\n",
       "      <td>8</td>\n",
       "      <td>218000.0</td>\n",
       "      <td>546</td>\n",
       "      <td>5.0</td>\n",
       "      <td>2013.0</td>\n",
       "      <td>0</td>\n",
       "      <td>1220000.0</td>\n",
       "      <td>1</td>\n",
       "      <td>8.0</td>\n",
       "    </tr>\n",
       "    <tr>\n",
       "      <th>112503</th>\n",
       "      <td>0</td>\n",
       "      <td>99000.0</td>\n",
       "      <td>798</td>\n",
       "      <td>2.0</td>\n",
       "      <td>2016.0</td>\n",
       "      <td>0</td>\n",
       "      <td>2450000.0</td>\n",
       "      <td>1</td>\n",
       "      <td>5.0</td>\n",
       "    </tr>\n",
       "    <tr>\n",
       "      <th>112504</th>\n",
       "      <td>1</td>\n",
       "      <td>45000.0</td>\n",
       "      <td>36</td>\n",
       "      <td>4.0</td>\n",
       "      <td>2017.0</td>\n",
       "      <td>0</td>\n",
       "      <td>4390000.0</td>\n",
       "      <td>1</td>\n",
       "      <td>4.0</td>\n",
       "    </tr>\n",
       "  </tbody>\n",
       "</table>\n",
       "<p>77819 rows × 9 columns</p>\n",
       "</div>"
      ],
      "text/plain": [
       "        brand   mileage  model_name  numberOfDoors  productionDate  sell_id  \\\n",
       "34686       0  350000.0           2            4.0          1991.0        0   \n",
       "34687       0  173424.0           2            4.0          1986.0        0   \n",
       "34688       0  230000.0           2            5.0          1989.0        0   \n",
       "34689       0  240000.0           2            4.0          1989.0        0   \n",
       "34690       0  300000.0           2            4.0          1991.0        0   \n",
       "...       ...       ...         ...            ...             ...      ...   \n",
       "112500      7  207000.0         757            4.0          2015.0        0   \n",
       "112501      9  201000.0         459            5.0          2013.0        0   \n",
       "112502      8  218000.0         546            5.0          2013.0        0   \n",
       "112503      0   99000.0         798            2.0          2016.0        0   \n",
       "112504      1   45000.0          36            4.0          2017.0        0   \n",
       "\n",
       "            price  train   age  \n",
       "34686    200000.0      1  30.0  \n",
       "34687     60000.0      1  35.0  \n",
       "34688     99000.0      1  32.0  \n",
       "34689     65000.0      1  32.0  \n",
       "34690    100000.0      1  30.0  \n",
       "...           ...    ...   ...  \n",
       "112500   790000.0      1   6.0  \n",
       "112501  3400000.0      1   8.0  \n",
       "112502  1220000.0      1   8.0  \n",
       "112503  2450000.0      1   5.0  \n",
       "112504  4390000.0      1   4.0  \n",
       "\n",
       "[77819 rows x 9 columns]"
      ]
     },
     "execution_count": 567,
     "metadata": {},
     "output_type": "execute_result"
    }
   ],
   "source": [
    "naiv[naiv.sell_id == 0]"
   ]
  },
  {
   "cell_type": "code",
   "execution_count": 568,
   "metadata": {
    "execution": {
     "iopub.execute_input": "2022-01-11T09:32:50.492281Z",
     "iopub.status.busy": "2022-01-11T09:32:50.491855Z",
     "iopub.status.idle": "2022-01-11T09:32:50.550699Z",
     "shell.execute_reply": "2022-01-11T09:32:50.549807Z",
     "shell.execute_reply.started": "2022-01-11T09:32:50.492236Z"
    }
   },
   "outputs": [
    {
     "name": "stdout",
     "output_type": "stream",
     "text": [
      "The accuracy of the naive model using MAPE metrics is : 130.11%.\n"
     ]
    }
   ],
   "source": [
    "X = naiv[naiv.sell_id == 0].drop(['price', 'train', 'productionDate'], axis=1)\n",
    "y = naiv[naiv.sell_id == 0].price\n",
    "\n",
    "X_train, X_test, y_train, y_test = train_test_split(\n",
    "    X, y, test_size=VAL_SIZE,  random_state=RANDOM_SEED)\n",
    "\n",
    "lr = LinearRegression().fit(X_train, y_train)\n",
    "y_pred = (lr.predict(X_test))\n",
    "\n",
    "print(\n",
    "    f\"The accuracy of the naive model using MAPE metrics is : {(mape(y_test, y_pred))*100:0.2f}%.\")"
   ]
  },
  {
   "cell_type": "markdown",
   "metadata": {},
   "source": [
    "Наивная модель дала результат 130. С ним будем сравнивать результаты других моделей. "
   ]
  },
  {
   "cell_type": "markdown",
   "metadata": {},
   "source": [
    "#### Рассмотрим каждый признак и, по возможности, заменим категориальный признак на числовой или бинарный"
   ]
  },
  {
   "cell_type": "code",
   "execution_count": 569,
   "metadata": {
    "execution": {
     "iopub.execute_input": "2022-01-11T09:33:16.980271Z",
     "iopub.status.busy": "2022-01-11T09:33:16.97975Z",
     "iopub.status.idle": "2022-01-11T09:33:17.001558Z",
     "shell.execute_reply": "2022-01-11T09:33:17.000511Z",
     "shell.execute_reply.started": "2022-01-11T09:33:16.980238Z"
    }
   },
   "outputs": [
    {
     "data": {
      "text/html": [
       "<div>\n",
       "<style scoped>\n",
       "    .dataframe tbody tr th:only-of-type {\n",
       "        vertical-align: middle;\n",
       "    }\n",
       "\n",
       "    .dataframe tbody tr th {\n",
       "        vertical-align: top;\n",
       "    }\n",
       "\n",
       "    .dataframe thead th {\n",
       "        text-align: right;\n",
       "    }\n",
       "</style>\n",
       "<table border=\"1\" class=\"dataframe\">\n",
       "  <thead>\n",
       "    <tr style=\"text-align: right;\">\n",
       "      <th></th>\n",
       "      <th>bodyType</th>\n",
       "      <th>brand</th>\n",
       "      <th>color</th>\n",
       "      <th>engineDisplacement</th>\n",
       "      <th>enginePower</th>\n",
       "      <th>fuelType</th>\n",
       "      <th>mileage</th>\n",
       "      <th>model_name</th>\n",
       "      <th>name</th>\n",
       "      <th>numberOfDoors</th>\n",
       "      <th>productionDate</th>\n",
       "      <th>sell_id</th>\n",
       "      <th>vehicleTransmission</th>\n",
       "      <th>Владельцы</th>\n",
       "      <th>ПТС</th>\n",
       "      <th>Привод</th>\n",
       "      <th>Руль</th>\n",
       "      <th>Таможня</th>\n",
       "      <th>price</th>\n",
       "      <th>train</th>\n",
       "    </tr>\n",
       "  </thead>\n",
       "  <tbody>\n",
       "    <tr>\n",
       "      <th>89962</th>\n",
       "      <td>лифтбек</td>\n",
       "      <td>8</td>\n",
       "      <td>серый</td>\n",
       "      <td>1.6</td>\n",
       "      <td>105</td>\n",
       "      <td>Дизель</td>\n",
       "      <td>157000.0</td>\n",
       "      <td>546</td>\n",
       "      <td>Skoda Octavia II (A5) Рестайлинг</td>\n",
       "      <td>5.0</td>\n",
       "      <td>2011.0</td>\n",
       "      <td>0</td>\n",
       "      <td>MECHANICAL</td>\n",
       "      <td>3 или более</td>\n",
       "      <td>Оригинал</td>\n",
       "      <td>передний</td>\n",
       "      <td>Левый</td>\n",
       "      <td>Растаможен</td>\n",
       "      <td>570000.0</td>\n",
       "      <td>1</td>\n",
       "    </tr>\n",
       "    <tr>\n",
       "      <th>89399</th>\n",
       "      <td>внедорожник</td>\n",
       "      <td>7</td>\n",
       "      <td>красный</td>\n",
       "      <td>1.6</td>\n",
       "      <td>117</td>\n",
       "      <td>Бензин</td>\n",
       "      <td>89000.0</td>\n",
       "      <td>424</td>\n",
       "      <td>Nissan Juke I</td>\n",
       "      <td>5.0</td>\n",
       "      <td>2011.0</td>\n",
       "      <td>0</td>\n",
       "      <td>VARIATOR</td>\n",
       "      <td>2 владельца</td>\n",
       "      <td>Оригинал</td>\n",
       "      <td>передний</td>\n",
       "      <td>Левый</td>\n",
       "      <td>Растаможен</td>\n",
       "      <td>1140000.0</td>\n",
       "      <td>1</td>\n",
       "    </tr>\n",
       "    <tr>\n",
       "      <th>87528</th>\n",
       "      <td>хэтчбек</td>\n",
       "      <td>5</td>\n",
       "      <td>голубой</td>\n",
       "      <td>2.0</td>\n",
       "      <td>211</td>\n",
       "      <td>Бензин</td>\n",
       "      <td>101000.0</td>\n",
       "      <td>54</td>\n",
       "      <td>Mercedes-Benz A-Класс 250 III (W176)</td>\n",
       "      <td>5.0</td>\n",
       "      <td>2013.0</td>\n",
       "      <td>0</td>\n",
       "      <td>ROBOT</td>\n",
       "      <td>1 владелец</td>\n",
       "      <td>Оригинал</td>\n",
       "      <td>полный</td>\n",
       "      <td>Левый</td>\n",
       "      <td>Растаможен</td>\n",
       "      <td>1370000.0</td>\n",
       "      <td>1</td>\n",
       "    </tr>\n",
       "  </tbody>\n",
       "</table>\n",
       "</div>"
      ],
      "text/plain": [
       "          bodyType  brand    color engineDisplacement enginePower fuelType  \\\n",
       "89962      лифтбек      8    серый                1.6         105   Дизель   \n",
       "89399  внедорожник      7  красный                1.6         117   Бензин   \n",
       "87528      хэтчбек      5  голубой                2.0         211   Бензин   \n",
       "\n",
       "        mileage  model_name                                  name  \\\n",
       "89962  157000.0         546      Skoda Octavia II (A5) Рестайлинг   \n",
       "89399   89000.0         424                         Nissan Juke I   \n",
       "87528  101000.0          54  Mercedes-Benz A-Класс 250 III (W176)   \n",
       "\n",
       "       numberOfDoors  productionDate  sell_id vehicleTransmission  \\\n",
       "89962            5.0          2011.0        0          MECHANICAL   \n",
       "89399            5.0          2011.0        0            VARIATOR   \n",
       "87528            5.0          2013.0        0               ROBOT   \n",
       "\n",
       "         Владельцы       ПТС    Привод   Руль     Таможня      price  train  \n",
       "89962  3 или более  Оригинал  передний  Левый  Растаможен   570000.0      1  \n",
       "89399  2 владельца  Оригинал  передний  Левый  Растаможен  1140000.0      1  \n",
       "87528   1 владелец  Оригинал    полный  Левый  Растаможен  1370000.0      1  "
      ]
     },
     "execution_count": 569,
     "metadata": {},
     "output_type": "execute_result"
    }
   ],
   "source": [
    "combined_df.sample(3)"
   ]
  },
  {
   "cell_type": "code",
   "execution_count": 570,
   "metadata": {
    "execution": {
     "iopub.execute_input": "2022-01-11T09:33:19.526506Z",
     "iopub.status.busy": "2022-01-11T09:33:19.526025Z",
     "iopub.status.idle": "2022-01-11T09:33:19.543451Z",
     "shell.execute_reply": "2022-01-11T09:33:19.542427Z",
     "shell.execute_reply.started": "2022-01-11T09:33:19.52646Z"
    }
   },
   "outputs": [
    {
     "data": {
      "text/plain": [
       "array(['лифтбек', 'внедорожник 5 дв.', 'хэтчбек 5 дв.', 'седан',\n",
       "       'компактвэн', 'универсал 5 дв.', 'пикап одинарная кабина',\n",
       "       'хэтчбек 3 дв.', 'купе', 'кабриолет', 'минивэн',\n",
       "       'пикап двойная кабина', 'внедорожник 3 дв.', 'родстер', 'микровэн',\n",
       "       'седан 2 дв.', 'купе-хардтоп', 'фастбек', 'тарга',\n",
       "       'внедорожник открытый', 'лимузин', 'пикап полуторная кабина',\n",
       "       'седан-хардтоп', 'фургон', 'Седан', 'Универсал 5 дв.',\n",
       "       'Хэтчбек 5 дв. Sportback', 'Хэтчбек 3 дв.', 'Хэтчбек 5 дв.',\n",
       "       'Кабриолет', 'Купе', 'Лифтбек Sportback', 'Лифтбек', 'Седан Long',\n",
       "       'Внедорожник 5 дв.', 'Кабриолет Roadster', 'Седан 2 дв.',\n",
       "       'Седан Gran Coupe', 'Компактвэн', 'Компактвэн Gran Tourer',\n",
       "       'Лифтбек Gran Turismo', 'Хэтчбек 3 дв. Compact',\n",
       "       'Лифтбек Gran Coupe', 'Купе-хардтоп', 'Родстер Roadster',\n",
       "       'Родстер', 'Седан Type-S', 'Микровэн', 'Универсал 5 дв. Shuttle',\n",
       "       'Родстер del Sol', 'Минивэн', 'Компактвэн Spike',\n",
       "       'Внедорожник 3 дв.', 'Пикап Двойная кабина', 'Минивэн Spada',\n",
       "       'Внедорожник 5 дв. L', 'Универсал 5 дв. Plus', 'Купе Asti',\n",
       "       'Тарга', 'Фастбек', 'Пикап Одинарная кабина',\n",
       "       'Минивэн Caravan Elgrand', 'Пикап Полуторная кабина',\n",
       "       'Компактвэн Joy', 'Универсал 5 дв. California', 'Седан Latio',\n",
       "       'Седан 120', 'Хэтчбек 5 дв. Scout', 'Универсал 5 дв. Scout',\n",
       "       'Универсал 5 дв. Spaceback', 'Универсал 5 дв. Gita',\n",
       "       'Седан US Market', 'Седан Japan Market', 'Седан Gracia',\n",
       "       'Универсал 5 дв. Gracia', 'Седан-хардтоп',\n",
       "       'Универсал 5 дв. Fielder', 'Седан Axio', 'Седан-хардтоп Ceres',\n",
       "       'Хэтчбек 5 дв. Runx', 'Лифтбек Liftback', 'Седан Premio',\n",
       "       'Седан T140', 'Минивэн Lucida', 'Минивэн Emina', 'Минивэн Regius',\n",
       "       'Пикап Двойная кабина Double cab', 'Внедорожник 3 дв. 78',\n",
       "       'Внедорожник 5 дв. 76', 'Пикап Одинарная кабина 79',\n",
       "       'Внедорожник 5 дв. Arctic Trucks', 'Компактвэн Noah',\n",
       "       'Универсал 5 дв. Blit', 'Универсал 5 дв. Qualis',\n",
       "       'Внедорожник 5 дв. Long', 'Пикап Полуторная кабина Long Bed',\n",
       "       'Пикап Двойная кабина CrewMax', 'Пикап Двойная кабина Double Cab',\n",
       "       'Универсал 5 дв. Ardeo', 'Компактвэн Life', 'Компактвэн Maxi',\n",
       "       'Компактвэн Life Maxi', 'Компактвэн Alltrack', 'Минивэн SWB',\n",
       "       'Минивэн Long', 'Минивэн LWB', 'Универсал 5 дв. Alltrack',\n",
       "       'Хэтчбек 5 дв. Cross', 'Внедорожник 5 дв. Allspace',\n",
       "       'Компактвэн Cross', 'Фургон', 'Фургон Kasten',\n",
       "       'Универсал 5 дв. XC', 'Хэтчбек 5 дв. Long',\n",
       "       'Универсал 5 дв. All-Terrain', 'Внедорожник открытый',\n",
       "       'Внедорожник 5 дв. 4x4', 'Лимузин Pullman', 'Минивэн XL',\n",
       "       'Минивэн L', 'Минивэн Extralong', 'Минивэн Marco Polo',\n",
       "       'Минивэн Extra Long', 'Минивэн L2', 'Минивэн L3', 'Минивэн L1',\n",
       "       'хэтчбек', 'универсал', 'внедорожник', 'пикап'], dtype=object)"
      ]
     },
     "execution_count": 570,
     "metadata": {},
     "output_type": "execute_result"
    }
   ],
   "source": [
    "combined_df.bodyType.unique()"
   ]
  },
  {
   "cell_type": "code",
   "execution_count": 571,
   "metadata": {
    "execution": {
     "iopub.execute_input": "2022-01-11T09:33:24.161054Z",
     "iopub.status.busy": "2022-01-11T09:33:24.16079Z",
     "iopub.status.idle": "2022-01-11T09:33:24.236928Z",
     "shell.execute_reply": "2022-01-11T09:33:24.235995Z",
     "shell.execute_reply.started": "2022-01-11T09:33:24.161026Z"
    }
   },
   "outputs": [],
   "source": [
    "combined_df.bodyType = combined_df.bodyType.apply(\n",
    "    lambda x: x.lower().split()[0].strip() if isinstance(x, str) else x)"
   ]
  },
  {
   "cell_type": "code",
   "execution_count": 572,
   "metadata": {
    "execution": {
     "iopub.execute_input": "2022-01-11T09:33:25.612656Z",
     "iopub.status.busy": "2022-01-11T09:33:25.612415Z",
     "iopub.status.idle": "2022-01-11T09:33:25.637887Z",
     "shell.execute_reply": "2022-01-11T09:33:25.636562Z",
     "shell.execute_reply.started": "2022-01-11T09:33:25.61263Z"
    }
   },
   "outputs": [
    {
     "data": {
      "text/plain": [
       "array(['лифтбек', 'внедорожник', 'хэтчбек', 'седан', 'компактвэн',\n",
       "       'универсал', 'пикап', 'купе', 'кабриолет', 'минивэн', 'родстер',\n",
       "       'микровэн', 'купе-хардтоп', 'фастбек', 'тарга', 'лимузин',\n",
       "       'седан-хардтоп', 'фургон'], dtype=object)"
      ]
     },
     "execution_count": 572,
     "metadata": {},
     "output_type": "execute_result"
    }
   ],
   "source": [
    "combined_df.bodyType.unique()"
   ]
  },
  {
   "cell_type": "code",
   "execution_count": 573,
   "metadata": {
    "execution": {
     "iopub.execute_input": "2022-01-11T09:33:27.303797Z",
     "iopub.status.busy": "2022-01-11T09:33:27.303203Z",
     "iopub.status.idle": "2022-01-11T09:33:27.329076Z",
     "shell.execute_reply": "2022-01-11T09:33:27.328434Z",
     "shell.execute_reply.started": "2022-01-11T09:33:27.303757Z"
    }
   },
   "outputs": [],
   "source": [
    "combined_df.bodyType = combined_df['bodyType'].astype('category').cat.codes"
   ]
  },
  {
   "cell_type": "markdown",
   "metadata": {
    "execution": {
     "iopub.execute_input": "2021-12-28T16:45:06.568209Z",
     "iopub.status.busy": "2021-12-28T16:45:06.567797Z",
     "iopub.status.idle": "2021-12-28T16:45:06.572276Z",
     "shell.execute_reply": "2021-12-28T16:45:06.571324Z",
     "shell.execute_reply.started": "2021-12-28T16:45:06.568168Z"
    }
   },
   "source": [
    "#### признак \"цвет\""
   ]
  },
  {
   "cell_type": "code",
   "execution_count": 574,
   "metadata": {
    "execution": {
     "iopub.execute_input": "2022-01-11T09:33:33.174211Z",
     "iopub.status.busy": "2022-01-11T09:33:33.173576Z",
     "iopub.status.idle": "2022-01-11T09:33:33.190447Z",
     "shell.execute_reply": "2022-01-11T09:33:33.18954Z",
     "shell.execute_reply.started": "2022-01-11T09:33:33.174163Z"
    }
   },
   "outputs": [
    {
     "data": {
      "text/plain": [
       "чёрный         20325\n",
       "040001         16135\n",
       "белый          12427\n",
       "FAFBFB          8988\n",
       "серый           7693\n",
       "серебристый     6444\n",
       "синий           5957\n",
       "97948F          5622\n",
       "CACECB          5496\n",
       "0000CC          4963\n",
       "коричневый      2910\n",
       "красный         2655\n",
       "200204          2028\n",
       "EE1D19          1784\n",
       "зелёный         1455\n",
       "007F00          1321\n",
       "бежевый         1080\n",
       "C49648           857\n",
       "голубой          675\n",
       "22A0F8           591\n",
       "пурпурный        445\n",
       "золотистый       387\n",
       "фиолетовый       360\n",
       "жёлтый           334\n",
       "DEA522           317\n",
       "660099           314\n",
       "4A2197           248\n",
       "оранжевый        241\n",
       "FFD600           224\n",
       "FF8649           199\n",
       "розовый           17\n",
       "FFC0CB            13\n",
       "Name: color, dtype: int64"
      ]
     },
     "execution_count": 574,
     "metadata": {},
     "output_type": "execute_result"
    }
   ],
   "source": [
    "combined_df.color.value_counts()"
   ]
  },
  {
   "cell_type": "code",
   "execution_count": 575,
   "metadata": {
    "execution": {
     "iopub.execute_input": "2022-01-11T09:33:37.520325Z",
     "iopub.status.busy": "2022-01-11T09:33:37.519844Z",
     "iopub.status.idle": "2022-01-11T09:33:37.596844Z",
     "shell.execute_reply": "2022-01-11T09:33:37.595899Z",
     "shell.execute_reply.started": "2022-01-11T09:33:37.520285Z"
    }
   },
   "outputs": [
    {
     "data": {
      "text/plain": [
       "чёрный         0.324074\n",
       "белый          0.190347\n",
       "серый          0.118350\n",
       "серебристый    0.106129\n",
       "синий          0.097062\n",
       "коричневый     0.043891\n",
       "красный        0.039456\n",
       "зелёный        0.024674\n",
       "бежевый        0.017217\n",
       "голубой        0.011253\n",
       "пурпурный      0.006746\n",
       "золотистый     0.006257\n",
       "фиолетовый     0.005404\n",
       "жёлтый         0.004960\n",
       "оранжевый      0.003911\n",
       "розовый        0.000267\n",
       "Name: color, dtype: float64"
      ]
     },
     "execution_count": 575,
     "metadata": {},
     "output_type": "execute_result"
    }
   ],
   "source": [
    "# используем словарь для перевода кодировки цветов:\n",
    "color_dict = {'040001': 'чёрный', 'FAFBFB': 'белый', '97948F': 'серый', 'CACECB': 'серебристый', '0000CC': 'синий', '200204': 'коричневый',\n",
    "              'EE1D19': 'красный',  '007F00': 'зелёный', 'C49648': 'бежевый', '22A0F8': 'голубой', '660099': 'пурпурный', 'DEA522': 'золотистый',\n",
    "              '4A2197': 'фиолетовый', 'FFD600': 'жёлтый', 'FF8649': 'оранжевый', 'FFC0CB': 'розовый'}\n",
    "combined_df.color.replace(color_dict, inplace=True)\n",
    "combined_df.color.value_counts(normalize=True)"
   ]
  },
  {
   "cell_type": "code",
   "execution_count": 576,
   "metadata": {
    "execution": {
     "iopub.execute_input": "2022-01-11T09:33:41.185979Z",
     "iopub.status.busy": "2022-01-11T09:33:41.185481Z",
     "iopub.status.idle": "2022-01-11T09:33:41.212038Z",
     "shell.execute_reply": "2022-01-11T09:33:41.211109Z",
     "shell.execute_reply.started": "2022-01-11T09:33:41.185939Z"
    }
   },
   "outputs": [],
   "source": [
    "for col in ['color']:\n",
    "    combined_df[col] = combined_df[col].astype('category').cat.codes"
   ]
  },
  {
   "cell_type": "markdown",
   "metadata": {},
   "source": [
    "#### признак \"рабочий объем\""
   ]
  },
  {
   "cell_type": "code",
   "execution_count": 577,
   "metadata": {
    "execution": {
     "iopub.execute_input": "2022-01-11T09:33:44.419576Z",
     "iopub.status.busy": "2022-01-11T09:33:44.418943Z",
     "iopub.status.idle": "2022-01-11T09:33:44.647744Z",
     "shell.execute_reply": "2022-01-11T09:33:44.646743Z",
     "shell.execute_reply.started": "2022-01-11T09:33:44.419527Z"
    }
   },
   "outputs": [],
   "source": [
    "combined_df.engineDisplacement = combined_df.name.apply(\n",
    "    transf_engineDisplacement_to_float)"
   ]
  },
  {
   "cell_type": "code",
   "execution_count": 578,
   "metadata": {
    "execution": {
     "iopub.execute_input": "2022-01-11T09:33:46.990375Z",
     "iopub.status.busy": "2022-01-11T09:33:46.990012Z",
     "iopub.status.idle": "2022-01-11T09:33:47.000634Z",
     "shell.execute_reply": "2022-01-11T09:33:46.999755Z",
     "shell.execute_reply.started": "2022-01-11T09:33:46.990323Z"
    }
   },
   "outputs": [
    {
     "data": {
      "text/plain": [
       "array([1.2, 1.6, 1.8, 2. , 1.4, 1.3, 1. , 3.6, 1.5, 1.9, 2.8, 1.1, 2.5,\n",
       "       4.2, 3. , 4. , 5.9, 2.7, 3.1, 2.4, 5.2, 3.2, 4.1, 6.3, 2.3, 6. ,\n",
       "       2.2, 3.7, 2.9, 5. , 3.3, 2.1, 2.6, nan, 3.5, 1.7, 0.7, 4.4, 4.8,\n",
       "       5.4, 6.6, 4.9, 3.8, 3.4, 3.9, 4.6, 5.6, 4.5, 5.5, 6.2, 4.7, 4.3,\n",
       "       5.8, 5.3, 5.7, 0. ])"
      ]
     },
     "execution_count": 578,
     "metadata": {},
     "output_type": "execute_result"
    }
   ],
   "source": [
    "combined_df.engineDisplacement.unique()"
   ]
  },
  {
   "cell_type": "code",
   "execution_count": 579,
   "metadata": {
    "execution": {
     "iopub.execute_input": "2022-01-11T09:33:49.877193Z",
     "iopub.status.busy": "2022-01-11T09:33:49.876907Z",
     "iopub.status.idle": "2022-01-11T09:33:49.891275Z",
     "shell.execute_reply": "2022-01-11T09:33:49.890606Z",
     "shell.execute_reply.started": "2022-01-11T09:33:49.877156Z"
    }
   },
   "outputs": [
    {
     "data": {
      "text/plain": [
       "array(['2.1 LTR', '1.6 LTR', '2.0 LTR', '1.8 LTR', '3.0 LTR', '5.5 LTR',\n",
       "       '3.5 LTR', '6.2 LTR', '4.0 LTR', '2.9 LTR', '4.7 LTR', '4.2 LTR',\n",
       "       '2.5 LTR', '2.3 LTR', '1.7 LTR', '2.2 LTR', '6.0 LTR', '4.3 LTR',\n",
       "       '5.0 LTR', '1.3 LTR', '3.2 LTR', '2.6 LTR', '1.5 LTR', '2.4 LTR',\n",
       "       '5.4 LTR', '2.8 LTR', '2.7 LTR', '3.7 LTR', '4.5 LTR', '5.6 LTR',\n",
       "       '5.8 LTR', '5.3 LTR', '1.9 LTR', '3.8 LTR', '1.4 LTR', ' LTR'],\n",
       "      dtype=object)"
      ]
     },
     "execution_count": 579,
     "metadata": {},
     "output_type": "execute_result"
    }
   ],
   "source": [
    "test[test.brand == 'MERCEDES'].engineDisplacement.unique()"
   ]
  },
  {
   "cell_type": "code",
   "execution_count": 580,
   "metadata": {
    "execution": {
     "iopub.execute_input": "2022-01-11T09:33:56.91855Z",
     "iopub.status.busy": "2022-01-11T09:33:56.918206Z",
     "iopub.status.idle": "2022-01-11T09:33:56.936375Z",
     "shell.execute_reply": "2022-01-11T09:33:56.935315Z",
     "shell.execute_reply.started": "2022-01-11T09:33:56.918509Z"
    }
   },
   "outputs": [
    {
     "data": {
      "text/plain": [
       "array(['электро', 'Бензин', 'Дизель',\n",
       "       'Бензин, газобаллонное оборудование', 'Гибрид',\n",
       "       'Дизель, газобаллонное оборудование', 'Газ',\n",
       "       'Гибрид, газобаллонное оборудование',\n",
       "       'Газ, газобаллонное оборудование'], dtype=object)"
      ]
     },
     "execution_count": 580,
     "metadata": {},
     "output_type": "execute_result"
    }
   ],
   "source": [
    "combined_df[combined_df.engineDisplacement.isna()].fuelType.unique()"
   ]
  },
  {
   "cell_type": "code",
   "execution_count": 581,
   "metadata": {
    "execution": {
     "iopub.execute_input": "2022-01-11T09:33:59.15539Z",
     "iopub.status.busy": "2022-01-11T09:33:59.154462Z",
     "iopub.status.idle": "2022-01-11T09:33:59.160441Z",
     "shell.execute_reply": "2022-01-11T09:33:59.159605Z",
     "shell.execute_reply.started": "2022-01-11T09:33:59.155317Z"
    }
   },
   "outputs": [],
   "source": [
    "# так как значения nan у признака \"рабочий объем\" есть только у электромашин, то заполним значения 0\n",
    "combined_df.engineDisplacement.fillna(0, inplace=True)"
   ]
  },
  {
   "cell_type": "markdown",
   "metadata": {},
   "source": [
    "#### признак \"тип топлива\""
   ]
  },
  {
   "cell_type": "code",
   "execution_count": 582,
   "metadata": {
    "execution": {
     "iopub.execute_input": "2022-01-11T09:34:06.476818Z",
     "iopub.status.busy": "2022-01-11T09:34:06.476505Z",
     "iopub.status.idle": "2022-01-11T09:34:06.49141Z",
     "shell.execute_reply": "2022-01-11T09:34:06.490616Z",
     "shell.execute_reply.started": "2022-01-11T09:34:06.476786Z"
    }
   },
   "outputs": [
    {
     "data": {
      "text/plain": [
       "бензин                                67863\n",
       "Бензин                                18899\n",
       "дизель                                15264\n",
       "Дизель                                 8801\n",
       "Гибрид                                  724\n",
       "гибрид                                  491\n",
       "Бензин, газобаллонное оборудование      170\n",
       "электро                                 151\n",
       "Газ                                      79\n",
       "Дизель, газобаллонное оборудование       43\n",
       "газ                                      17\n",
       "Газ, газобаллонное оборудование           2\n",
       "Гибрид, газобаллонное оборудование        1\n",
       "Name: fuelType, dtype: int64"
      ]
     },
     "execution_count": 582,
     "metadata": {},
     "output_type": "execute_result"
    }
   ],
   "source": [
    "combined_df.fuelType.value_counts()"
   ]
  },
  {
   "cell_type": "code",
   "execution_count": 583,
   "metadata": {
    "execution": {
     "iopub.execute_input": "2022-01-11T09:34:08.566756Z",
     "iopub.status.busy": "2022-01-11T09:34:08.566452Z",
     "iopub.status.idle": "2022-01-11T09:34:08.616547Z",
     "shell.execute_reply": "2022-01-11T09:34:08.615623Z",
     "shell.execute_reply.started": "2022-01-11T09:34:08.566726Z"
    }
   },
   "outputs": [],
   "source": [
    "# разделим этот признак на две группы: бензин и не бензин\n",
    "combined_df.fuelType = combined_df.fuelType.apply(\n",
    "    lambda x: 1 if x == 'бензин' else 0)"
   ]
  },
  {
   "cell_type": "code",
   "execution_count": 584,
   "metadata": {
    "execution": {
     "iopub.execute_input": "2022-01-11T09:34:13.521958Z",
     "iopub.status.busy": "2022-01-11T09:34:13.521546Z",
     "iopub.status.idle": "2022-01-11T09:34:13.530833Z",
     "shell.execute_reply": "2022-01-11T09:34:13.529555Z",
     "shell.execute_reply.started": "2022-01-11T09:34:13.521918Z"
    }
   },
   "outputs": [
    {
     "data": {
      "text/plain": [
       "1    67863\n",
       "0    44642\n",
       "Name: fuelType, dtype: int64"
      ]
     },
     "execution_count": 584,
     "metadata": {},
     "output_type": "execute_result"
    }
   ],
   "source": [
    "combined_df.fuelType.value_counts()"
   ]
  },
  {
   "cell_type": "markdown",
   "metadata": {},
   "source": [
    "#### признак \"дата производства\""
   ]
  },
  {
   "cell_type": "code",
   "execution_count": 585,
   "metadata": {
    "execution": {
     "iopub.execute_input": "2022-01-11T09:34:45.357862Z",
     "iopub.status.busy": "2022-01-11T09:34:45.357355Z",
     "iopub.status.idle": "2022-01-11T09:34:45.364518Z",
     "shell.execute_reply": "2022-01-11T09:34:45.363404Z",
     "shell.execute_reply.started": "2022-01-11T09:34:45.357813Z"
    }
   },
   "outputs": [],
   "source": [
    "# заменим дату на возраст\n",
    "combined_df['age'] = 2021 - combined_df.productionDate"
   ]
  },
  {
   "cell_type": "code",
   "execution_count": 586,
   "metadata": {
    "execution": {
     "iopub.execute_input": "2022-01-11T09:34:48.823988Z",
     "iopub.status.busy": "2022-01-11T09:34:48.823522Z",
     "iopub.status.idle": "2022-01-11T09:34:48.832817Z",
     "shell.execute_reply": "2022-01-11T09:34:48.831859Z",
     "shell.execute_reply.started": "2022-01-11T09:34:48.82395Z"
    }
   },
   "outputs": [
    {
     "data": {
      "text/plain": [
       "0         7.0\n",
       "1         4.0\n",
       "2         7.0\n",
       "3         7.0\n",
       "4         9.0\n",
       "         ... \n",
       "112500    6.0\n",
       "112501    8.0\n",
       "112502    8.0\n",
       "112503    5.0\n",
       "112504    4.0\n",
       "Name: age, Length: 112505, dtype: float64"
      ]
     },
     "execution_count": 586,
     "metadata": {},
     "output_type": "execute_result"
    }
   ],
   "source": [
    "combined_df['age']"
   ]
  },
  {
   "cell_type": "markdown",
   "metadata": {},
   "source": [
    "#### признак \"тип коробки передач\""
   ]
  },
  {
   "cell_type": "code",
   "execution_count": 587,
   "metadata": {
    "execution": {
     "iopub.execute_input": "2022-01-11T09:34:55.997152Z",
     "iopub.status.busy": "2022-01-11T09:34:55.996279Z",
     "iopub.status.idle": "2022-01-11T09:34:56.012712Z",
     "shell.execute_reply": "2022-01-11T09:34:56.012069Z",
     "shell.execute_reply.started": "2022-01-11T09:34:55.997105Z"
    }
   },
   "outputs": [
    {
     "data": {
      "text/plain": [
       "AUTOMATIC           43670\n",
       "автоматическая      19596\n",
       "MECHANICAL          16161\n",
       "ROBOT                9136\n",
       "VARIATOR             8852\n",
       "механическая         7209\n",
       "вариатор             3999\n",
       "роботизированная     3882\n",
       "Name: vehicleTransmission, dtype: int64"
      ]
     },
     "execution_count": 587,
     "metadata": {},
     "output_type": "execute_result"
    }
   ],
   "source": [
    "combined_df.vehicleTransmission.value_counts()"
   ]
  },
  {
   "cell_type": "code",
   "execution_count": 588,
   "metadata": {
    "execution": {
     "iopub.execute_input": "2022-01-11T09:34:59.118781Z",
     "iopub.status.busy": "2022-01-11T09:34:59.118218Z",
     "iopub.status.idle": "2022-01-11T09:34:59.123654Z",
     "shell.execute_reply": "2022-01-11T09:34:59.122649Z",
     "shell.execute_reply.started": "2022-01-11T09:34:59.118734Z"
    }
   },
   "outputs": [],
   "source": [
    "automat = ['AUTOMATIC', 'автоматическая',  'VARIATOR',\n",
    "           'ROBOT', 'вариатор', 'роботизированная']\n",
    "mechanic = ['MECHANICAL', 'механическая']"
   ]
  },
  {
   "cell_type": "code",
   "execution_count": 589,
   "metadata": {
    "execution": {
     "iopub.execute_input": "2022-01-11T09:35:00.382602Z",
     "iopub.status.busy": "2022-01-11T09:35:00.382271Z",
     "iopub.status.idle": "2022-01-11T09:35:00.442259Z",
     "shell.execute_reply": "2022-01-11T09:35:00.441419Z",
     "shell.execute_reply.started": "2022-01-11T09:35:00.382572Z"
    }
   },
   "outputs": [],
   "source": [
    "# разделим параметры на две группы: механическая и автоматическая\n",
    "combined_df.vehicleTransmission = combined_df.vehicleTransmission.apply(\n",
    "    lambda x: 1 if x in automat else 0)"
   ]
  },
  {
   "cell_type": "code",
   "execution_count": 590,
   "metadata": {
    "execution": {
     "iopub.execute_input": "2022-01-11T09:35:01.58552Z",
     "iopub.status.busy": "2022-01-11T09:35:01.584255Z",
     "iopub.status.idle": "2022-01-11T09:35:01.593965Z",
     "shell.execute_reply": "2022-01-11T09:35:01.59332Z",
     "shell.execute_reply.started": "2022-01-11T09:35:01.585471Z"
    }
   },
   "outputs": [
    {
     "data": {
      "text/plain": [
       "1    89135\n",
       "0    23370\n",
       "Name: vehicleTransmission, dtype: int64"
      ]
     },
     "execution_count": 590,
     "metadata": {},
     "output_type": "execute_result"
    }
   ],
   "source": [
    "combined_df.vehicleTransmission.value_counts()"
   ]
  },
  {
   "cell_type": "markdown",
   "metadata": {},
   "source": [
    "#### параметр \"владельцы\""
   ]
  },
  {
   "cell_type": "code",
   "execution_count": 591,
   "metadata": {
    "execution": {
     "iopub.execute_input": "2022-01-11T09:35:04.834214Z",
     "iopub.status.busy": "2022-01-11T09:35:04.833087Z",
     "iopub.status.idle": "2022-01-11T09:35:04.848024Z",
     "shell.execute_reply": "2022-01-11T09:35:04.847261Z",
     "shell.execute_reply.started": "2022-01-11T09:35:04.834158Z"
    }
   },
   "outputs": [
    {
     "name": "stdout",
     "output_type": "stream",
     "text": [
      "['3 или более' '1\\xa0владелец' '2\\xa0владельца' 3.0 1.0 2.0 '1 владелец'\n",
      " '2 владельца']\n"
     ]
    }
   ],
   "source": [
    "print(combined_df['Владельцы'].unique())"
   ]
  },
  {
   "cell_type": "code",
   "execution_count": 592,
   "metadata": {
    "execution": {
     "iopub.execute_input": "2022-01-11T09:35:06.287297Z",
     "iopub.status.busy": "2022-01-11T09:35:06.286954Z",
     "iopub.status.idle": "2022-01-11T09:35:06.362949Z",
     "shell.execute_reply": "2022-01-11T09:35:06.361842Z",
     "shell.execute_reply.started": "2022-01-11T09:35:06.287262Z"
    }
   },
   "outputs": [
    {
     "data": {
      "text/plain": [
       "array([3., 1., 2.])"
      ]
     },
     "execution_count": 592,
     "metadata": {},
     "output_type": "execute_result"
    }
   ],
   "source": [
    "combined_df['owners'] = combined_df['Владельцы'].apply(transf_owners_to_float)\n",
    "combined_df.owners.unique()"
   ]
  },
  {
   "cell_type": "markdown",
   "metadata": {},
   "source": [
    "#### признак \"птс\""
   ]
  },
  {
   "cell_type": "code",
   "execution_count": 593,
   "metadata": {
    "execution": {
     "iopub.execute_input": "2022-01-11T09:35:24.1065Z",
     "iopub.status.busy": "2022-01-11T09:35:24.106128Z",
     "iopub.status.idle": "2022-01-11T09:35:24.120169Z",
     "shell.execute_reply": "2022-01-11T09:35:24.11878Z",
     "shell.execute_reply.started": "2022-01-11T09:35:24.106466Z"
    }
   },
   "outputs": [
    {
     "name": "stdout",
     "output_type": "stream",
     "text": [
      "['Оригинал' 'Дубликат' nan 'ORIGINAL' 'DUPLICATE']\n"
     ]
    }
   ],
   "source": [
    "print(combined_df['ПТС'].unique())"
   ]
  },
  {
   "cell_type": "code",
   "execution_count": 594,
   "metadata": {
    "execution": {
     "iopub.execute_input": "2022-01-11T09:35:31.269177Z",
     "iopub.status.busy": "2022-01-11T09:35:31.268838Z",
     "iopub.status.idle": "2022-01-11T09:35:31.285829Z",
     "shell.execute_reply": "2022-01-11T09:35:31.284685Z",
     "shell.execute_reply.started": "2022-01-11T09:35:31.269141Z"
    }
   },
   "outputs": [
    {
     "data": {
      "text/plain": [
       "Оригинал     55382\n",
       "ORIGINAL     43214\n",
       "Дубликат      8284\n",
       "DUPLICATE     5624\n",
       "Name: ПТС, dtype: int64"
      ]
     },
     "execution_count": 594,
     "metadata": {},
     "output_type": "execute_result"
    }
   ],
   "source": [
    "combined_df['ПТС'].value_counts()"
   ]
  },
  {
   "cell_type": "code",
   "execution_count": 595,
   "metadata": {
    "execution": {
     "iopub.execute_input": "2022-01-11T09:35:32.942318Z",
     "iopub.status.busy": "2022-01-11T09:35:32.941164Z",
     "iopub.status.idle": "2022-01-11T09:35:32.968623Z",
     "shell.execute_reply": "2022-01-11T09:35:32.967404Z",
     "shell.execute_reply.started": "2022-01-11T09:35:32.942253Z"
    }
   },
   "outputs": [],
   "source": [
    "combined_df.drop(['ПТС', 'Владельцы'], axis=1, inplace=True)"
   ]
  },
  {
   "cell_type": "markdown",
   "metadata": {},
   "source": [
    "#### признак \"трансмиссия\""
   ]
  },
  {
   "cell_type": "code",
   "execution_count": 596,
   "metadata": {
    "execution": {
     "iopub.execute_input": "2022-01-11T09:35:44.078759Z",
     "iopub.status.busy": "2022-01-11T09:35:44.077877Z",
     "iopub.status.idle": "2022-01-11T09:35:44.095007Z",
     "shell.execute_reply": "2022-01-11T09:35:44.094026Z",
     "shell.execute_reply.started": "2022-01-11T09:35:44.078718Z"
    }
   },
   "outputs": [
    {
     "name": "stdout",
     "output_type": "stream",
     "text": [
      "['передний' 'полный' 'задний']\n"
     ]
    }
   ],
   "source": [
    "print(combined_df['Привод'].unique())"
   ]
  },
  {
   "cell_type": "code",
   "execution_count": 597,
   "metadata": {
    "execution": {
     "iopub.execute_input": "2022-01-11T09:35:49.381982Z",
     "iopub.status.busy": "2022-01-11T09:35:49.38102Z",
     "iopub.status.idle": "2022-01-11T09:35:49.398994Z",
     "shell.execute_reply": "2022-01-11T09:35:49.397871Z",
     "shell.execute_reply.started": "2022-01-11T09:35:49.381935Z"
    }
   },
   "outputs": [
    {
     "data": {
      "text/plain": [
       "полный      52219\n",
       "передний    45810\n",
       "задний      14476\n",
       "Name: Привод, dtype: int64"
      ]
     },
     "execution_count": 597,
     "metadata": {},
     "output_type": "execute_result"
    }
   ],
   "source": [
    "combined_df['Привод'].value_counts()"
   ]
  },
  {
   "cell_type": "code",
   "execution_count": 598,
   "metadata": {
    "execution": {
     "iopub.execute_input": "2022-01-11T09:35:54.064576Z",
     "iopub.status.busy": "2022-01-11T09:35:54.063272Z",
     "iopub.status.idle": "2022-01-11T09:35:54.111066Z",
     "shell.execute_reply": "2022-01-11T09:35:54.109872Z",
     "shell.execute_reply.started": "2022-01-11T09:35:54.06452Z"
    }
   },
   "outputs": [],
   "source": [
    "# присвоим численные значения категориальному признаку\n",
    "combined_df['transmission '] = combined_df['Привод'].apply(\n",
    "    lambda x: 1 if x == 'полный' else 2 if x == 'передний' else 3)"
   ]
  },
  {
   "cell_type": "code",
   "execution_count": 599,
   "metadata": {
    "execution": {
     "iopub.execute_input": "2022-01-11T09:35:58.490003Z",
     "iopub.status.busy": "2022-01-11T09:35:58.489693Z",
     "iopub.status.idle": "2022-01-11T09:35:58.508119Z",
     "shell.execute_reply": "2022-01-11T09:35:58.506616Z",
     "shell.execute_reply.started": "2022-01-11T09:35:58.48997Z"
    }
   },
   "outputs": [],
   "source": [
    "combined_df.drop(['Привод', 'Руль', 'Таможня'], axis=1, inplace=True)"
   ]
  },
  {
   "cell_type": "code",
   "execution_count": 600,
   "metadata": {
    "execution": {
     "iopub.execute_input": "2022-01-11T09:36:11.479231Z",
     "iopub.status.busy": "2022-01-11T09:36:11.478073Z",
     "iopub.status.idle": "2022-01-11T09:36:11.515859Z",
     "shell.execute_reply": "2022-01-11T09:36:11.515272Z",
     "shell.execute_reply.started": "2022-01-11T09:36:11.479156Z"
    }
   },
   "outputs": [
    {
     "data": {
      "text/html": [
       "<div>\n",
       "<style scoped>\n",
       "    .dataframe tbody tr th:only-of-type {\n",
       "        vertical-align: middle;\n",
       "    }\n",
       "\n",
       "    .dataframe tbody tr th {\n",
       "        vertical-align: top;\n",
       "    }\n",
       "\n",
       "    .dataframe thead th {\n",
       "        text-align: right;\n",
       "    }\n",
       "</style>\n",
       "<table border=\"1\" class=\"dataframe\">\n",
       "  <thead>\n",
       "    <tr style=\"text-align: right;\">\n",
       "      <th></th>\n",
       "      <th>bodyType</th>\n",
       "      <th>brand</th>\n",
       "      <th>color</th>\n",
       "      <th>engineDisplacement</th>\n",
       "      <th>fuelType</th>\n",
       "      <th>mileage</th>\n",
       "      <th>model_name</th>\n",
       "      <th>numberOfDoors</th>\n",
       "      <th>productionDate</th>\n",
       "      <th>sell_id</th>\n",
       "      <th>vehicleTransmission</th>\n",
       "      <th>price</th>\n",
       "      <th>train</th>\n",
       "      <th>age</th>\n",
       "      <th>owners</th>\n",
       "      <th>transmission</th>\n",
       "    </tr>\n",
       "  </thead>\n",
       "  <tbody>\n",
       "    <tr>\n",
       "      <th>0</th>\n",
       "      <td>6</td>\n",
       "      <td>8</td>\n",
       "      <td>13</td>\n",
       "      <td>1.2</td>\n",
       "      <td>1</td>\n",
       "      <td>74000.0</td>\n",
       "      <td>537</td>\n",
       "      <td>5.0</td>\n",
       "      <td>2014.0</td>\n",
       "      <td>1100575026</td>\n",
       "      <td>1</td>\n",
       "      <td>0.0</td>\n",
       "      <td>0</td>\n",
       "      <td>7.0</td>\n",
       "      <td>3.0</td>\n",
       "      <td>2</td>\n",
       "    </tr>\n",
       "    <tr>\n",
       "      <th>1</th>\n",
       "      <td>6</td>\n",
       "      <td>8</td>\n",
       "      <td>15</td>\n",
       "      <td>1.6</td>\n",
       "      <td>1</td>\n",
       "      <td>60563.0</td>\n",
       "      <td>537</td>\n",
       "      <td>5.0</td>\n",
       "      <td>2017.0</td>\n",
       "      <td>1100549428</td>\n",
       "      <td>0</td>\n",
       "      <td>0.0</td>\n",
       "      <td>0</td>\n",
       "      <td>4.0</td>\n",
       "      <td>1.0</td>\n",
       "      <td>2</td>\n",
       "    </tr>\n",
       "    <tr>\n",
       "      <th>2</th>\n",
       "      <td>6</td>\n",
       "      <td>8</td>\n",
       "      <td>12</td>\n",
       "      <td>1.8</td>\n",
       "      <td>1</td>\n",
       "      <td>88000.0</td>\n",
       "      <td>748</td>\n",
       "      <td>5.0</td>\n",
       "      <td>2014.0</td>\n",
       "      <td>1100658222</td>\n",
       "      <td>1</td>\n",
       "      <td>0.0</td>\n",
       "      <td>0</td>\n",
       "      <td>7.0</td>\n",
       "      <td>1.0</td>\n",
       "      <td>2</td>\n",
       "    </tr>\n",
       "    <tr>\n",
       "      <th>3</th>\n",
       "      <td>6</td>\n",
       "      <td>8</td>\n",
       "      <td>6</td>\n",
       "      <td>1.6</td>\n",
       "      <td>1</td>\n",
       "      <td>95000.0</td>\n",
       "      <td>537</td>\n",
       "      <td>5.0</td>\n",
       "      <td>2014.0</td>\n",
       "      <td>1100937408</td>\n",
       "      <td>1</td>\n",
       "      <td>0.0</td>\n",
       "      <td>0</td>\n",
       "      <td>7.0</td>\n",
       "      <td>1.0</td>\n",
       "      <td>2</td>\n",
       "    </tr>\n",
       "    <tr>\n",
       "      <th>4</th>\n",
       "      <td>6</td>\n",
       "      <td>8</td>\n",
       "      <td>1</td>\n",
       "      <td>1.8</td>\n",
       "      <td>1</td>\n",
       "      <td>58536.0</td>\n",
       "      <td>537</td>\n",
       "      <td>5.0</td>\n",
       "      <td>2012.0</td>\n",
       "      <td>1101037972</td>\n",
       "      <td>1</td>\n",
       "      <td>0.0</td>\n",
       "      <td>0</td>\n",
       "      <td>9.0</td>\n",
       "      <td>1.0</td>\n",
       "      <td>2</td>\n",
       "    </tr>\n",
       "    <tr>\n",
       "      <th>...</th>\n",
       "      <td>...</td>\n",
       "      <td>...</td>\n",
       "      <td>...</td>\n",
       "      <td>...</td>\n",
       "      <td>...</td>\n",
       "      <td>...</td>\n",
       "      <td>...</td>\n",
       "      <td>...</td>\n",
       "      <td>...</td>\n",
       "      <td>...</td>\n",
       "      <td>...</td>\n",
       "      <td>...</td>\n",
       "      <td>...</td>\n",
       "      <td>...</td>\n",
       "      <td>...</td>\n",
       "      <td>...</td>\n",
       "    </tr>\n",
       "    <tr>\n",
       "      <th>112500</th>\n",
       "      <td>11</td>\n",
       "      <td>7</td>\n",
       "      <td>11</td>\n",
       "      <td>0.0</td>\n",
       "      <td>0</td>\n",
       "      <td>207000.0</td>\n",
       "      <td>757</td>\n",
       "      <td>4.0</td>\n",
       "      <td>2015.0</td>\n",
       "      <td>0</td>\n",
       "      <td>1</td>\n",
       "      <td>790000.0</td>\n",
       "      <td>1</td>\n",
       "      <td>6.0</td>\n",
       "      <td>1.0</td>\n",
       "      <td>2</td>\n",
       "    </tr>\n",
       "    <tr>\n",
       "      <th>112501</th>\n",
       "      <td>0</td>\n",
       "      <td>9</td>\n",
       "      <td>15</td>\n",
       "      <td>0.0</td>\n",
       "      <td>0</td>\n",
       "      <td>201000.0</td>\n",
       "      <td>459</td>\n",
       "      <td>5.0</td>\n",
       "      <td>2013.0</td>\n",
       "      <td>0</td>\n",
       "      <td>1</td>\n",
       "      <td>3400000.0</td>\n",
       "      <td>1</td>\n",
       "      <td>8.0</td>\n",
       "      <td>3.0</td>\n",
       "      <td>1</td>\n",
       "    </tr>\n",
       "    <tr>\n",
       "      <th>112502</th>\n",
       "      <td>6</td>\n",
       "      <td>8</td>\n",
       "      <td>1</td>\n",
       "      <td>0.0</td>\n",
       "      <td>0</td>\n",
       "      <td>218000.0</td>\n",
       "      <td>546</td>\n",
       "      <td>5.0</td>\n",
       "      <td>2013.0</td>\n",
       "      <td>0</td>\n",
       "      <td>0</td>\n",
       "      <td>1220000.0</td>\n",
       "      <td>1</td>\n",
       "      <td>8.0</td>\n",
       "      <td>3.0</td>\n",
       "      <td>1</td>\n",
       "    </tr>\n",
       "    <tr>\n",
       "      <th>112503</th>\n",
       "      <td>3</td>\n",
       "      <td>0</td>\n",
       "      <td>13</td>\n",
       "      <td>0.0</td>\n",
       "      <td>0</td>\n",
       "      <td>99000.0</td>\n",
       "      <td>798</td>\n",
       "      <td>2.0</td>\n",
       "      <td>2016.0</td>\n",
       "      <td>0</td>\n",
       "      <td>0</td>\n",
       "      <td>2450000.0</td>\n",
       "      <td>1</td>\n",
       "      <td>5.0</td>\n",
       "      <td>1.0</td>\n",
       "      <td>2</td>\n",
       "    </tr>\n",
       "    <tr>\n",
       "      <th>112504</th>\n",
       "      <td>11</td>\n",
       "      <td>1</td>\n",
       "      <td>15</td>\n",
       "      <td>0.0</td>\n",
       "      <td>0</td>\n",
       "      <td>45000.0</td>\n",
       "      <td>36</td>\n",
       "      <td>4.0</td>\n",
       "      <td>2017.0</td>\n",
       "      <td>0</td>\n",
       "      <td>1</td>\n",
       "      <td>4390000.0</td>\n",
       "      <td>1</td>\n",
       "      <td>4.0</td>\n",
       "      <td>2.0</td>\n",
       "      <td>1</td>\n",
       "    </tr>\n",
       "  </tbody>\n",
       "</table>\n",
       "<p>112505 rows × 16 columns</p>\n",
       "</div>"
      ],
      "text/plain": [
       "        bodyType  brand  color  engineDisplacement  fuelType   mileage  \\\n",
       "0              6      8     13                 1.2         1   74000.0   \n",
       "1              6      8     15                 1.6         1   60563.0   \n",
       "2              6      8     12                 1.8         1   88000.0   \n",
       "3              6      8      6                 1.6         1   95000.0   \n",
       "4              6      8      1                 1.8         1   58536.0   \n",
       "...          ...    ...    ...                 ...       ...       ...   \n",
       "112500        11      7     11                 0.0         0  207000.0   \n",
       "112501         0      9     15                 0.0         0  201000.0   \n",
       "112502         6      8      1                 0.0         0  218000.0   \n",
       "112503         3      0     13                 0.0         0   99000.0   \n",
       "112504        11      1     15                 0.0         0   45000.0   \n",
       "\n",
       "        model_name  numberOfDoors  productionDate     sell_id  \\\n",
       "0              537            5.0          2014.0  1100575026   \n",
       "1              537            5.0          2017.0  1100549428   \n",
       "2              748            5.0          2014.0  1100658222   \n",
       "3              537            5.0          2014.0  1100937408   \n",
       "4              537            5.0          2012.0  1101037972   \n",
       "...            ...            ...             ...         ...   \n",
       "112500         757            4.0          2015.0           0   \n",
       "112501         459            5.0          2013.0           0   \n",
       "112502         546            5.0          2013.0           0   \n",
       "112503         798            2.0          2016.0           0   \n",
       "112504          36            4.0          2017.0           0   \n",
       "\n",
       "        vehicleTransmission      price  train  age  owners  transmission   \n",
       "0                         1        0.0      0  7.0     3.0              2  \n",
       "1                         0        0.0      0  4.0     1.0              2  \n",
       "2                         1        0.0      0  7.0     1.0              2  \n",
       "3                         1        0.0      0  7.0     1.0              2  \n",
       "4                         1        0.0      0  9.0     1.0              2  \n",
       "...                     ...        ...    ...  ...     ...            ...  \n",
       "112500                    1   790000.0      1  6.0     1.0              2  \n",
       "112501                    1  3400000.0      1  8.0     3.0              1  \n",
       "112502                    0  1220000.0      1  8.0     3.0              1  \n",
       "112503                    0  2450000.0      1  5.0     1.0              2  \n",
       "112504                    1  4390000.0      1  4.0     2.0              1  \n",
       "\n",
       "[112505 rows x 16 columns]"
      ]
     },
     "execution_count": 600,
     "metadata": {},
     "output_type": "execute_result"
    }
   ],
   "source": [
    "data_col = combined_df.columns[combined_df.dtypes != object]\n",
    "data = combined_df[data_col]\n",
    "data"
   ]
  },
  {
   "cell_type": "markdown",
   "metadata": {},
   "source": [
    "### Linear Regression"
   ]
  },
  {
   "cell_type": "code",
   "execution_count": 601,
   "metadata": {
    "execution": {
     "iopub.execute_input": "2022-01-11T09:36:52.338584Z",
     "iopub.status.busy": "2022-01-11T09:36:52.337112Z",
     "iopub.status.idle": "2022-01-11T09:36:52.417654Z",
     "shell.execute_reply": "2022-01-11T09:36:52.416362Z",
     "shell.execute_reply.started": "2022-01-11T09:36:52.338524Z"
    }
   },
   "outputs": [
    {
     "name": "stdout",
     "output_type": "stream",
     "text": [
      "The accuracy of the naive model using MAPE metrics is : 130.03%.\n"
     ]
    }
   ],
   "source": [
    "X = data[data.sell_id == 0].drop(\n",
    "    ['price', 'train', 'productionDate'], axis=1)\n",
    "y = data[data.sell_id == 0].price\n",
    "\n",
    "X_train, X_test, y_train, y_test = train_test_split(\n",
    "    X, y, test_size=VAL_SIZE,  random_state=RANDOM_SEED)\n",
    "\n",
    "lr = LinearRegression().fit(X_train, y_train)\n",
    "y_pred = (lr.predict(X_test))\n",
    "\n",
    "print(\n",
    "    f\"The accuracy of the naive model using MAPE metrics is : {(mape(y_test, y_pred))*100:0.2f}%.\")"
   ]
  },
  {
   "cell_type": "markdown",
   "metadata": {},
   "source": [
    "Линейная регрессия не показала никаких улучшений. Поработаем с выбросами и проверим результат."
   ]
  },
  {
   "cell_type": "markdown",
   "metadata": {
    "execution": {
     "iopub.execute_input": "2021-12-29T14:35:54.263715Z",
     "iopub.status.busy": "2021-12-29T14:35:54.26336Z",
     "iopub.status.idle": "2021-12-29T14:35:54.268142Z",
     "shell.execute_reply": "2021-12-29T14:35:54.267475Z",
     "shell.execute_reply.started": "2021-12-29T14:35:54.263679Z"
    }
   },
   "source": [
    "#### Работа с выбросами"
   ]
  },
  {
   "cell_type": "code",
   "execution_count": 602,
   "metadata": {
    "execution": {
     "iopub.execute_input": "2022-01-11T09:37:13.732664Z",
     "iopub.status.busy": "2022-01-11T09:37:13.732103Z",
     "iopub.status.idle": "2022-01-11T09:37:13.759842Z",
     "shell.execute_reply": "2022-01-11T09:37:13.758476Z",
     "shell.execute_reply.started": "2022-01-11T09:37:13.732623Z"
    }
   },
   "outputs": [
    {
     "data": {
      "text/html": [
       "<div>\n",
       "<style scoped>\n",
       "    .dataframe tbody tr th:only-of-type {\n",
       "        vertical-align: middle;\n",
       "    }\n",
       "\n",
       "    .dataframe tbody tr th {\n",
       "        vertical-align: top;\n",
       "    }\n",
       "\n",
       "    .dataframe thead th {\n",
       "        text-align: right;\n",
       "    }\n",
       "</style>\n",
       "<table border=\"1\" class=\"dataframe\">\n",
       "  <thead>\n",
       "    <tr style=\"text-align: right;\">\n",
       "      <th></th>\n",
       "      <th>bodyType</th>\n",
       "      <th>brand</th>\n",
       "      <th>color</th>\n",
       "      <th>engineDisplacement</th>\n",
       "      <th>enginePower</th>\n",
       "      <th>fuelType</th>\n",
       "      <th>mileage</th>\n",
       "      <th>model_name</th>\n",
       "      <th>name</th>\n",
       "      <th>numberOfDoors</th>\n",
       "      <th>productionDate</th>\n",
       "      <th>sell_id</th>\n",
       "      <th>vehicleTransmission</th>\n",
       "      <th>price</th>\n",
       "      <th>train</th>\n",
       "      <th>age</th>\n",
       "      <th>owners</th>\n",
       "      <th>transmission</th>\n",
       "    </tr>\n",
       "  </thead>\n",
       "  <tbody>\n",
       "    <tr>\n",
       "      <th>49674</th>\n",
       "      <td>11</td>\n",
       "      <td>6</td>\n",
       "      <td>4</td>\n",
       "      <td>1.6</td>\n",
       "      <td>103</td>\n",
       "      <td>1</td>\n",
       "      <td>200000.0</td>\n",
       "      <td>153</td>\n",
       "      <td>1.6 MT (103 л.с.)</td>\n",
       "      <td>4.0</td>\n",
       "      <td>2001.0</td>\n",
       "      <td>0</td>\n",
       "      <td>0</td>\n",
       "      <td>175000.0</td>\n",
       "      <td>1</td>\n",
       "      <td>20.0</td>\n",
       "      <td>3.0</td>\n",
       "      <td>2</td>\n",
       "    </tr>\n",
       "    <tr>\n",
       "      <th>96188</th>\n",
       "      <td>11</td>\n",
       "      <td>6</td>\n",
       "      <td>11</td>\n",
       "      <td>0.0</td>\n",
       "      <td>90</td>\n",
       "      <td>0</td>\n",
       "      <td>196000.0</td>\n",
       "      <td>457</td>\n",
       "      <td>Mitsubishi Lancer IX Рестайлинг</td>\n",
       "      <td>4.0</td>\n",
       "      <td>2006.0</td>\n",
       "      <td>0</td>\n",
       "      <td>0</td>\n",
       "      <td>600000.0</td>\n",
       "      <td>1</td>\n",
       "      <td>15.0</td>\n",
       "      <td>3.0</td>\n",
       "      <td>2</td>\n",
       "    </tr>\n",
       "    <tr>\n",
       "      <th>15305</th>\n",
       "      <td>11</td>\n",
       "      <td>3</td>\n",
       "      <td>15</td>\n",
       "      <td>3.5</td>\n",
       "      <td>315 N12</td>\n",
       "      <td>1</td>\n",
       "      <td>190000.0</td>\n",
       "      <td>329</td>\n",
       "      <td>G35 3.5 AT (315 л.с.) 4WD</td>\n",
       "      <td>4.0</td>\n",
       "      <td>2008.0</td>\n",
       "      <td>1099152052</td>\n",
       "      <td>1</td>\n",
       "      <td>0.0</td>\n",
       "      <td>0</td>\n",
       "      <td>13.0</td>\n",
       "      <td>3.0</td>\n",
       "      <td>1</td>\n",
       "    </tr>\n",
       "  </tbody>\n",
       "</table>\n",
       "</div>"
      ],
      "text/plain": [
       "       bodyType  brand  color  engineDisplacement enginePower  fuelType  \\\n",
       "49674        11      6      4                 1.6         103         1   \n",
       "96188        11      6     11                 0.0          90         0   \n",
       "15305        11      3     15                 3.5     315 N12         1   \n",
       "\n",
       "        mileage  model_name                             name  numberOfDoors  \\\n",
       "49674  200000.0         153                1.6 MT (103 л.с.)            4.0   \n",
       "96188  196000.0         457  Mitsubishi Lancer IX Рестайлинг            4.0   \n",
       "15305  190000.0         329        G35 3.5 AT (315 л.с.) 4WD            4.0   \n",
       "\n",
       "       productionDate     sell_id  vehicleTransmission     price  train   age  \\\n",
       "49674          2001.0           0                    0  175000.0      1  20.0   \n",
       "96188          2006.0           0                    0  600000.0      1  15.0   \n",
       "15305          2008.0  1099152052                    1       0.0      0  13.0   \n",
       "\n",
       "       owners  transmission   \n",
       "49674     3.0              2  \n",
       "96188     3.0              2  \n",
       "15305     3.0              1  "
      ]
     },
     "execution_count": 602,
     "metadata": {},
     "output_type": "execute_result"
    }
   ],
   "source": [
    "combined_df.sample(3)"
   ]
  },
  {
   "cell_type": "code",
   "execution_count": 603,
   "metadata": {
    "execution": {
     "iopub.execute_input": "2022-01-11T09:40:59.776708Z",
     "iopub.status.busy": "2022-01-11T09:40:59.776297Z",
     "iopub.status.idle": "2022-01-11T09:41:20.036554Z",
     "shell.execute_reply": "2022-01-11T09:41:20.035633Z",
     "shell.execute_reply.started": "2022-01-11T09:40:59.776664Z"
    },
    "scrolled": true
   },
   "outputs": [
    {
     "data": {
      "text/plain": [
       "None"
      ]
     },
     "metadata": {},
     "output_type": "display_data"
    },
    {
     "data": {
      "text/html": [
       "<div>\n",
       "<style scoped>\n",
       "    .dataframe tbody tr th:only-of-type {\n",
       "        vertical-align: middle;\n",
       "    }\n",
       "\n",
       "    .dataframe tbody tr th {\n",
       "        vertical-align: top;\n",
       "    }\n",
       "\n",
       "    .dataframe thead th {\n",
       "        text-align: right;\n",
       "    }\n",
       "</style>\n",
       "<table border=\"1\" class=\"dataframe\">\n",
       "  <thead>\n",
       "    <tr style=\"text-align: right;\">\n",
       "      <th></th>\n",
       "      <th>left</th>\n",
       "      <th>right</th>\n",
       "    </tr>\n",
       "  </thead>\n",
       "  <tbody>\n",
       "    <tr>\n",
       "      <th>borders</th>\n",
       "      <td>-5.378906</td>\n",
       "      <td>8.964844</td>\n",
       "    </tr>\n",
       "    <tr>\n",
       "      <th># outliers</th>\n",
       "      <td>0.000000</td>\n",
       "      <td>0.000000</td>\n",
       "    </tr>\n",
       "  </tbody>\n",
       "</table>\n",
       "</div>"
      ],
      "text/plain": [
       "                left     right\n",
       "borders    -5.378906  8.964844\n",
       "# outliers  0.000000  0.000000"
      ]
     },
     "metadata": {},
     "output_type": "display_data"
    },
    {
     "name": "stdout",
     "output_type": "stream",
     "text": [
      "\n",
      "----------\n",
      "\n"
     ]
    },
    {
     "data": {
      "text/plain": [
       "None"
      ]
     },
     "metadata": {},
     "output_type": "display_data"
    },
    {
     "data": {
      "text/html": [
       "<div>\n",
       "<style scoped>\n",
       "    .dataframe tbody tr th:only-of-type {\n",
       "        vertical-align: middle;\n",
       "    }\n",
       "\n",
       "    .dataframe tbody tr th {\n",
       "        vertical-align: top;\n",
       "    }\n",
       "\n",
       "    .dataframe thead th {\n",
       "        text-align: right;\n",
       "    }\n",
       "</style>\n",
       "<table border=\"1\" class=\"dataframe\">\n",
       "  <thead>\n",
       "    <tr style=\"text-align: right;\">\n",
       "      <th></th>\n",
       "      <th>left</th>\n",
       "      <th>right</th>\n",
       "    </tr>\n",
       "  </thead>\n",
       "  <tbody>\n",
       "    <tr>\n",
       "      <th>borders</th>\n",
       "      <td>-1.020996</td>\n",
       "      <td>5.928223</td>\n",
       "    </tr>\n",
       "    <tr>\n",
       "      <th># outliers</th>\n",
       "      <td>0.000000</td>\n",
       "      <td>0.000000</td>\n",
       "    </tr>\n",
       "  </tbody>\n",
       "</table>\n",
       "</div>"
      ],
      "text/plain": [
       "                left     right\n",
       "borders    -1.020996  5.928223\n",
       "# outliers  0.000000  0.000000"
      ]
     },
     "metadata": {},
     "output_type": "display_data"
    },
    {
     "name": "stdout",
     "output_type": "stream",
     "text": [
      "\n",
      "----------\n",
      "\n"
     ]
    },
    {
     "data": {
      "text/plain": [
       "None"
      ]
     },
     "metadata": {},
     "output_type": "display_data"
    },
    {
     "data": {
      "text/html": [
       "<div>\n",
       "<style scoped>\n",
       "    .dataframe tbody tr th:only-of-type {\n",
       "        vertical-align: middle;\n",
       "    }\n",
       "\n",
       "    .dataframe tbody tr th {\n",
       "        vertical-align: top;\n",
       "    }\n",
       "\n",
       "    .dataframe thead th {\n",
       "        text-align: right;\n",
       "    }\n",
       "</style>\n",
       "<table border=\"1\" class=\"dataframe\">\n",
       "  <thead>\n",
       "    <tr style=\"text-align: right;\">\n",
       "      <th></th>\n",
       "      <th>left</th>\n",
       "      <th>right</th>\n",
       "    </tr>\n",
       "  </thead>\n",
       "  <tbody>\n",
       "    <tr>\n",
       "      <th>borders</th>\n",
       "      <td>0.464844</td>\n",
       "      <td>6.121094</td>\n",
       "    </tr>\n",
       "    <tr>\n",
       "      <th># outliers</th>\n",
       "      <td>1937.000000</td>\n",
       "      <td>0.000000</td>\n",
       "    </tr>\n",
       "  </tbody>\n",
       "</table>\n",
       "</div>"
      ],
      "text/plain": [
       "                   left     right\n",
       "borders        0.464844  6.121094\n",
       "# outliers  1937.000000  0.000000"
      ]
     },
     "metadata": {},
     "output_type": "display_data"
    },
    {
     "name": "stdout",
     "output_type": "stream",
     "text": [
      "\n",
      "----------\n",
      "\n"
     ]
    },
    {
     "data": {
      "text/plain": [
       "None"
      ]
     },
     "metadata": {},
     "output_type": "display_data"
    },
    {
     "data": {
      "text/html": [
       "<div>\n",
       "<style scoped>\n",
       "    .dataframe tbody tr th:only-of-type {\n",
       "        vertical-align: middle;\n",
       "    }\n",
       "\n",
       "    .dataframe tbody tr th {\n",
       "        vertical-align: top;\n",
       "    }\n",
       "\n",
       "    .dataframe thead th {\n",
       "        text-align: right;\n",
       "    }\n",
       "</style>\n",
       "<table border=\"1\" class=\"dataframe\">\n",
       "  <thead>\n",
       "    <tr style=\"text-align: right;\">\n",
       "      <th></th>\n",
       "      <th>left</th>\n",
       "      <th>right</th>\n",
       "    </tr>\n",
       "  </thead>\n",
       "  <tbody>\n",
       "    <tr>\n",
       "      <th>borders</th>\n",
       "      <td>-2.711032</td>\n",
       "      <td>4.518387</td>\n",
       "    </tr>\n",
       "    <tr>\n",
       "      <th># outliers</th>\n",
       "      <td>0.000000</td>\n",
       "      <td>0.000000</td>\n",
       "    </tr>\n",
       "  </tbody>\n",
       "</table>\n",
       "</div>"
      ],
      "text/plain": [
       "                left     right\n",
       "borders    -2.711032  4.518387\n",
       "# outliers  0.000000  0.000000"
      ]
     },
     "metadata": {},
     "output_type": "display_data"
    },
    {
     "name": "stdout",
     "output_type": "stream",
     "text": [
      "\n",
      "----------\n",
      "\n"
     ]
    },
    {
     "data": {
      "text/plain": [
       "None"
      ]
     },
     "metadata": {},
     "output_type": "display_data"
    },
    {
     "data": {
      "text/html": [
       "<div>\n",
       "<style scoped>\n",
       "    .dataframe tbody tr th:only-of-type {\n",
       "        vertical-align: middle;\n",
       "    }\n",
       "\n",
       "    .dataframe tbody tr th {\n",
       "        vertical-align: top;\n",
       "    }\n",
       "\n",
       "    .dataframe thead th {\n",
       "        text-align: right;\n",
       "    }\n",
       "</style>\n",
       "<table border=\"1\" class=\"dataframe\">\n",
       "  <thead>\n",
       "    <tr style=\"text-align: right;\">\n",
       "      <th></th>\n",
       "      <th>left</th>\n",
       "      <th>right</th>\n",
       "    </tr>\n",
       "  </thead>\n",
       "  <tbody>\n",
       "    <tr>\n",
       "      <th>borders</th>\n",
       "      <td>-1.5</td>\n",
       "      <td>2.5</td>\n",
       "    </tr>\n",
       "    <tr>\n",
       "      <th># outliers</th>\n",
       "      <td>0.0</td>\n",
       "      <td>0.0</td>\n",
       "    </tr>\n",
       "  </tbody>\n",
       "</table>\n",
       "</div>"
      ],
      "text/plain": [
       "            left  right\n",
       "borders     -1.5    2.5\n",
       "# outliers   0.0    0.0"
      ]
     },
     "metadata": {},
     "output_type": "display_data"
    },
    {
     "name": "stdout",
     "output_type": "stream",
     "text": [
      "\n",
      "----------\n",
      "\n"
     ]
    },
    {
     "data": {
      "text/plain": [
       "None"
      ]
     },
     "metadata": {},
     "output_type": "display_data"
    },
    {
     "data": {
      "text/html": [
       "<div>\n",
       "<style scoped>\n",
       "    .dataframe tbody tr th:only-of-type {\n",
       "        vertical-align: middle;\n",
       "    }\n",
       "\n",
       "    .dataframe tbody tr th {\n",
       "        vertical-align: top;\n",
       "    }\n",
       "\n",
       "    .dataframe thead th {\n",
       "        text-align: right;\n",
       "    }\n",
       "</style>\n",
       "<table border=\"1\" class=\"dataframe\">\n",
       "  <thead>\n",
       "    <tr style=\"text-align: right;\">\n",
       "      <th></th>\n",
       "      <th>left</th>\n",
       "      <th>right</th>\n",
       "    </tr>\n",
       "  </thead>\n",
       "  <tbody>\n",
       "    <tr>\n",
       "      <th>borders</th>\n",
       "      <td>13.533932</td>\n",
       "      <td>20.078045</td>\n",
       "    </tr>\n",
       "    <tr>\n",
       "      <th># outliers</th>\n",
       "      <td>13817.000000</td>\n",
       "      <td>3.000000</td>\n",
       "    </tr>\n",
       "  </tbody>\n",
       "</table>\n",
       "</div>"
      ],
      "text/plain": [
       "                    left      right\n",
       "borders        13.533932  20.078045\n",
       "# outliers  13817.000000   3.000000"
      ]
     },
     "metadata": {},
     "output_type": "display_data"
    },
    {
     "name": "stdout",
     "output_type": "stream",
     "text": [
      "\n",
      "----------\n",
      "\n"
     ]
    },
    {
     "data": {
      "text/plain": [
       "None"
      ]
     },
     "metadata": {},
     "output_type": "display_data"
    },
    {
     "data": {
      "text/html": [
       "<div>\n",
       "<style scoped>\n",
       "    .dataframe tbody tr th:only-of-type {\n",
       "        vertical-align: middle;\n",
       "    }\n",
       "\n",
       "    .dataframe tbody tr th {\n",
       "        vertical-align: top;\n",
       "    }\n",
       "\n",
       "    .dataframe thead th {\n",
       "        text-align: right;\n",
       "    }\n",
       "</style>\n",
       "<table border=\"1\" class=\"dataframe\">\n",
       "  <thead>\n",
       "    <tr style=\"text-align: right;\">\n",
       "      <th></th>\n",
       "      <th>left</th>\n",
       "      <th>right</th>\n",
       "    </tr>\n",
       "  </thead>\n",
       "  <tbody>\n",
       "    <tr>\n",
       "      <th>borders</th>\n",
       "      <td>5.086156</td>\n",
       "      <td>11.982873</td>\n",
       "    </tr>\n",
       "    <tr>\n",
       "      <th># outliers</th>\n",
       "      <td>4285.000000</td>\n",
       "      <td>0.000000</td>\n",
       "    </tr>\n",
       "  </tbody>\n",
       "</table>\n",
       "</div>"
      ],
      "text/plain": [
       "                   left      right\n",
       "borders        5.086156  11.982873\n",
       "# outliers  4285.000000   0.000000"
      ]
     },
     "metadata": {},
     "output_type": "display_data"
    },
    {
     "name": "stdout",
     "output_type": "stream",
     "text": [
      "\n",
      "----------\n",
      "\n"
     ]
    },
    {
     "data": {
      "text/plain": [
       "None"
      ]
     },
     "metadata": {},
     "output_type": "display_data"
    },
    {
     "data": {
      "text/html": [
       "<div>\n",
       "<style scoped>\n",
       "    .dataframe tbody tr th:only-of-type {\n",
       "        vertical-align: middle;\n",
       "    }\n",
       "\n",
       "    .dataframe tbody tr th {\n",
       "        vertical-align: top;\n",
       "    }\n",
       "\n",
       "    .dataframe thead th {\n",
       "        text-align: right;\n",
       "    }\n",
       "</style>\n",
       "<table border=\"1\" class=\"dataframe\">\n",
       "  <thead>\n",
       "    <tr style=\"text-align: right;\">\n",
       "      <th></th>\n",
       "      <th>left</th>\n",
       "      <th>right</th>\n",
       "    </tr>\n",
       "  </thead>\n",
       "  <tbody>\n",
       "    <tr>\n",
       "      <th>borders</th>\n",
       "      <td>1.927376</td>\n",
       "      <td>2.979514</td>\n",
       "    </tr>\n",
       "    <tr>\n",
       "      <th># outliers</th>\n",
       "      <td>3688.000000</td>\n",
       "      <td>0.000000</td>\n",
       "    </tr>\n",
       "  </tbody>\n",
       "</table>\n",
       "</div>"
      ],
      "text/plain": [
       "                   left     right\n",
       "borders        1.927376  2.979514\n",
       "# outliers  3688.000000  0.000000"
      ]
     },
     "metadata": {},
     "output_type": "display_data"
    },
    {
     "name": "stdout",
     "output_type": "stream",
     "text": [
      "\n",
      "----------\n",
      "\n"
     ]
    },
    {
     "data": {
      "text/plain": [
       "None"
      ]
     },
     "metadata": {},
     "output_type": "display_data"
    },
    {
     "data": {
      "text/html": [
       "<div>\n",
       "<style scoped>\n",
       "    .dataframe tbody tr th:only-of-type {\n",
       "        vertical-align: middle;\n",
       "    }\n",
       "\n",
       "    .dataframe tbody tr th {\n",
       "        vertical-align: top;\n",
       "    }\n",
       "\n",
       "    .dataframe thead th {\n",
       "        text-align: right;\n",
       "    }\n",
       "</style>\n",
       "<table border=\"1\" class=\"dataframe\">\n",
       "  <thead>\n",
       "    <tr style=\"text-align: right;\">\n",
       "      <th></th>\n",
       "      <th>left</th>\n",
       "      <th>right</th>\n",
       "    </tr>\n",
       "  </thead>\n",
       "  <tbody>\n",
       "    <tr>\n",
       "      <th>borders</th>\n",
       "      <td>10.961866</td>\n",
       "      <td>10.987673</td>\n",
       "    </tr>\n",
       "    <tr>\n",
       "      <th># outliers</th>\n",
       "      <td>3452.000000</td>\n",
       "      <td>0.000000</td>\n",
       "    </tr>\n",
       "  </tbody>\n",
       "</table>\n",
       "</div>"
      ],
      "text/plain": [
       "                   left      right\n",
       "borders       10.961866  10.987673\n",
       "# outliers  3452.000000   0.000000"
      ]
     },
     "metadata": {},
     "output_type": "display_data"
    },
    {
     "name": "stdout",
     "output_type": "stream",
     "text": [
      "\n",
      "----------\n",
      "\n"
     ]
    },
    {
     "data": {
      "text/plain": [
       "None"
      ]
     },
     "metadata": {},
     "output_type": "display_data"
    },
    {
     "data": {
      "text/html": [
       "<div>\n",
       "<style scoped>\n",
       "    .dataframe tbody tr th:only-of-type {\n",
       "        vertical-align: middle;\n",
       "    }\n",
       "\n",
       "    .dataframe tbody tr th {\n",
       "        vertical-align: top;\n",
       "    }\n",
       "\n",
       "    .dataframe thead th {\n",
       "        text-align: right;\n",
       "    }\n",
       "</style>\n",
       "<table border=\"1\" class=\"dataframe\">\n",
       "  <thead>\n",
       "    <tr style=\"text-align: right;\">\n",
       "      <th></th>\n",
       "      <th>left</th>\n",
       "      <th>right</th>\n",
       "    </tr>\n",
       "  </thead>\n",
       "  <tbody>\n",
       "    <tr>\n",
       "      <th>borders</th>\n",
       "      <td>-45.047026</td>\n",
       "      <td>75.078377</td>\n",
       "    </tr>\n",
       "    <tr>\n",
       "      <th># outliers</th>\n",
       "      <td>0.000000</td>\n",
       "      <td>0.000000</td>\n",
       "    </tr>\n",
       "  </tbody>\n",
       "</table>\n",
       "</div>"
      ],
      "text/plain": [
       "                 left      right\n",
       "borders    -45.047026  75.078377\n",
       "# outliers   0.000000   0.000000"
      ]
     },
     "metadata": {},
     "output_type": "display_data"
    },
    {
     "name": "stdout",
     "output_type": "stream",
     "text": [
      "\n",
      "----------\n",
      "\n"
     ]
    },
    {
     "data": {
      "text/plain": [
       "None"
      ]
     },
     "metadata": {},
     "output_type": "display_data"
    },
    {
     "data": {
      "text/html": [
       "<div>\n",
       "<style scoped>\n",
       "    .dataframe tbody tr th:only-of-type {\n",
       "        vertical-align: middle;\n",
       "    }\n",
       "\n",
       "    .dataframe tbody tr th {\n",
       "        vertical-align: top;\n",
       "    }\n",
       "\n",
       "    .dataframe thead th {\n",
       "        text-align: right;\n",
       "    }\n",
       "</style>\n",
       "<table border=\"1\" class=\"dataframe\">\n",
       "  <thead>\n",
       "    <tr style=\"text-align: right;\">\n",
       "      <th></th>\n",
       "      <th>left</th>\n",
       "      <th>right</th>\n",
       "    </tr>\n",
       "  </thead>\n",
       "  <tbody>\n",
       "    <tr>\n",
       "      <th>borders</th>\n",
       "      <td>1.0</td>\n",
       "      <td>1.0</td>\n",
       "    </tr>\n",
       "    <tr>\n",
       "      <th># outliers</th>\n",
       "      <td>23370.0</td>\n",
       "      <td>0.0</td>\n",
       "    </tr>\n",
       "  </tbody>\n",
       "</table>\n",
       "</div>"
      ],
      "text/plain": [
       "               left  right\n",
       "borders         1.0    1.0\n",
       "# outliers  23370.0    0.0"
      ]
     },
     "metadata": {},
     "output_type": "display_data"
    },
    {
     "name": "stdout",
     "output_type": "stream",
     "text": [
      "\n",
      "----------\n",
      "\n"
     ]
    },
    {
     "data": {
      "text/plain": [
       "None"
      ]
     },
     "metadata": {},
     "output_type": "display_data"
    },
    {
     "data": {
      "text/html": [
       "<div>\n",
       "<style scoped>\n",
       "    .dataframe tbody tr th:only-of-type {\n",
       "        vertical-align: middle;\n",
       "    }\n",
       "\n",
       "    .dataframe tbody tr th {\n",
       "        vertical-align: top;\n",
       "    }\n",
       "\n",
       "    .dataframe thead th {\n",
       "        text-align: right;\n",
       "    }\n",
       "</style>\n",
       "<table border=\"1\" class=\"dataframe\">\n",
       "  <thead>\n",
       "    <tr style=\"text-align: right;\">\n",
       "      <th></th>\n",
       "      <th>left</th>\n",
       "      <th>right</th>\n",
       "    </tr>\n",
       "  </thead>\n",
       "  <tbody>\n",
       "    <tr>\n",
       "      <th>borders</th>\n",
       "      <td>-31.132978</td>\n",
       "      <td>51.888297</td>\n",
       "    </tr>\n",
       "    <tr>\n",
       "      <th># outliers</th>\n",
       "      <td>0.000000</td>\n",
       "      <td>0.000000</td>\n",
       "    </tr>\n",
       "  </tbody>\n",
       "</table>\n",
       "</div>"
      ],
      "text/plain": [
       "                 left      right\n",
       "borders    -31.132978  51.888297\n",
       "# outliers   0.000000   0.000000"
      ]
     },
     "metadata": {},
     "output_type": "display_data"
    },
    {
     "name": "stdout",
     "output_type": "stream",
     "text": [
      "\n",
      "----------\n",
      "\n"
     ]
    },
    {
     "data": {
      "text/plain": [
       "None"
      ]
     },
     "metadata": {},
     "output_type": "display_data"
    },
    {
     "data": {
      "text/html": [
       "<div>\n",
       "<style scoped>\n",
       "    .dataframe tbody tr th:only-of-type {\n",
       "        vertical-align: middle;\n",
       "    }\n",
       "\n",
       "    .dataframe tbody tr th {\n",
       "        vertical-align: top;\n",
       "    }\n",
       "\n",
       "    .dataframe thead th {\n",
       "        text-align: right;\n",
       "    }\n",
       "</style>\n",
       "<table border=\"1\" class=\"dataframe\">\n",
       "  <thead>\n",
       "    <tr style=\"text-align: right;\">\n",
       "      <th></th>\n",
       "      <th>left</th>\n",
       "      <th>right</th>\n",
       "    </tr>\n",
       "  </thead>\n",
       "  <tbody>\n",
       "    <tr>\n",
       "      <th>borders</th>\n",
       "      <td>-1.5</td>\n",
       "      <td>2.5</td>\n",
       "    </tr>\n",
       "    <tr>\n",
       "      <th># outliers</th>\n",
       "      <td>0.0</td>\n",
       "      <td>0.0</td>\n",
       "    </tr>\n",
       "  </tbody>\n",
       "</table>\n",
       "</div>"
      ],
      "text/plain": [
       "            left  right\n",
       "borders     -1.5    2.5\n",
       "# outliers   0.0    0.0"
      ]
     },
     "metadata": {},
     "output_type": "display_data"
    },
    {
     "name": "stdout",
     "output_type": "stream",
     "text": [
      "\n",
      "----------\n",
      "\n"
     ]
    },
    {
     "data": {
      "text/plain": [
       "None"
      ]
     },
     "metadata": {},
     "output_type": "display_data"
    },
    {
     "data": {
      "text/html": [
       "<div>\n",
       "<style scoped>\n",
       "    .dataframe tbody tr th:only-of-type {\n",
       "        vertical-align: middle;\n",
       "    }\n",
       "\n",
       "    .dataframe tbody tr th {\n",
       "        vertical-align: top;\n",
       "    }\n",
       "\n",
       "    .dataframe thead th {\n",
       "        text-align: right;\n",
       "    }\n",
       "</style>\n",
       "<table border=\"1\" class=\"dataframe\">\n",
       "  <thead>\n",
       "    <tr style=\"text-align: right;\">\n",
       "      <th></th>\n",
       "      <th>left</th>\n",
       "      <th>right</th>\n",
       "    </tr>\n",
       "  </thead>\n",
       "  <tbody>\n",
       "    <tr>\n",
       "      <th>borders</th>\n",
       "      <td>0.60207</td>\n",
       "      <td>5.889783</td>\n",
       "    </tr>\n",
       "    <tr>\n",
       "      <th># outliers</th>\n",
       "      <td>925.00000</td>\n",
       "      <td>64.000000</td>\n",
       "    </tr>\n",
       "  </tbody>\n",
       "</table>\n",
       "</div>"
      ],
      "text/plain": [
       "                 left      right\n",
       "borders       0.60207   5.889783\n",
       "# outliers  925.00000  64.000000"
      ]
     },
     "metadata": {},
     "output_type": "display_data"
    },
    {
     "name": "stdout",
     "output_type": "stream",
     "text": [
      "\n",
      "----------\n",
      "\n"
     ]
    },
    {
     "data": {
      "text/plain": [
       "None"
      ]
     },
     "metadata": {},
     "output_type": "display_data"
    },
    {
     "data": {
      "text/html": [
       "<div>\n",
       "<style scoped>\n",
       "    .dataframe tbody tr th:only-of-type {\n",
       "        vertical-align: middle;\n",
       "    }\n",
       "\n",
       "    .dataframe tbody tr th {\n",
       "        vertical-align: top;\n",
       "    }\n",
       "\n",
       "    .dataframe thead th {\n",
       "        text-align: right;\n",
       "    }\n",
       "</style>\n",
       "<table border=\"1\" class=\"dataframe\">\n",
       "  <thead>\n",
       "    <tr style=\"text-align: right;\">\n",
       "      <th></th>\n",
       "      <th>left</th>\n",
       "      <th>right</th>\n",
       "    </tr>\n",
       "  </thead>\n",
       "  <tbody>\n",
       "    <tr>\n",
       "      <th>borders</th>\n",
       "      <td>0.962406</td>\n",
       "      <td>2.622556</td>\n",
       "    </tr>\n",
       "    <tr>\n",
       "      <th># outliers</th>\n",
       "      <td>0.000000</td>\n",
       "      <td>0.000000</td>\n",
       "    </tr>\n",
       "  </tbody>\n",
       "</table>\n",
       "</div>"
      ],
      "text/plain": [
       "                left     right\n",
       "borders     0.962406  2.622556\n",
       "# outliers  0.000000  0.000000"
      ]
     },
     "metadata": {},
     "output_type": "display_data"
    },
    {
     "name": "stdout",
     "output_type": "stream",
     "text": [
      "\n",
      "----------\n",
      "\n"
     ]
    },
    {
     "data": {
      "text/plain": [
       "None"
      ]
     },
     "metadata": {},
     "output_type": "display_data"
    },
    {
     "data": {
      "text/html": [
       "<div>\n",
       "<style scoped>\n",
       "    .dataframe tbody tr th:only-of-type {\n",
       "        vertical-align: middle;\n",
       "    }\n",
       "\n",
       "    .dataframe tbody tr th {\n",
       "        vertical-align: top;\n",
       "    }\n",
       "\n",
       "    .dataframe thead th {\n",
       "        text-align: right;\n",
       "    }\n",
       "</style>\n",
       "<table border=\"1\" class=\"dataframe\">\n",
       "  <thead>\n",
       "    <tr style=\"text-align: right;\">\n",
       "      <th></th>\n",
       "      <th>left</th>\n",
       "      <th>right</th>\n",
       "    </tr>\n",
       "  </thead>\n",
       "  <tbody>\n",
       "    <tr>\n",
       "      <th>borders</th>\n",
       "      <td>0.122556</td>\n",
       "      <td>2.462406</td>\n",
       "    </tr>\n",
       "    <tr>\n",
       "      <th># outliers</th>\n",
       "      <td>0.000000</td>\n",
       "      <td>0.000000</td>\n",
       "    </tr>\n",
       "  </tbody>\n",
       "</table>\n",
       "</div>"
      ],
      "text/plain": [
       "                left     right\n",
       "borders     0.122556  2.462406\n",
       "# outliers  0.000000  0.000000"
      ]
     },
     "metadata": {},
     "output_type": "display_data"
    },
    {
     "name": "stdout",
     "output_type": "stream",
     "text": [
      "\n",
      "----------\n",
      "\n"
     ]
    }
   ],
   "source": [
    "for col in data.columns:\n",
    "    display(vis_num_feature(combined_df, col, 'price', 'train == 1'))\n",
    "    display(calculate_stat_outliers(combined_df, col, log=True))\n",
    "    print('\\n' + '-' * 10 + '\\n')"
   ]
  },
  {
   "cell_type": "markdown",
   "metadata": {
    "execution": {
     "iopub.execute_input": "2021-12-29T14:57:55.344143Z",
     "iopub.status.busy": "2021-12-29T14:57:55.343854Z",
     "iopub.status.idle": "2021-12-29T14:57:55.348601Z",
     "shell.execute_reply": "2021-12-29T14:57:55.34768Z",
     "shell.execute_reply.started": "2021-12-29T14:57:55.344115Z"
    }
   },
   "source": [
    "Признак 'enginePower' имеет выбросы, избавимся от них."
   ]
  },
  {
   "cell_type": "code",
   "execution_count": 604,
   "metadata": {},
   "outputs": [],
   "source": [
    "combined_df.enginePower = combined_df.enginePower.apply(\n",
    "    transf_enginePower_to_float)"
   ]
  },
  {
   "cell_type": "code",
   "execution_count": 606,
   "metadata": {},
   "outputs": [
    {
     "data": {
      "text/plain": [
       "0         105.0\n",
       "1         110.0\n",
       "2         152.0\n",
       "3         110.0\n",
       "4         152.0\n",
       "          ...  \n",
       "112500    117.0\n",
       "112501    235.0\n",
       "112502    150.0\n",
       "112503    184.0\n",
       "112504    249.0\n",
       "Name: enginePower, Length: 112505, dtype: float64"
      ]
     },
     "execution_count": 606,
     "metadata": {},
     "output_type": "execute_result"
    }
   ],
   "source": [
    "combined_df.enginePower"
   ]
  },
  {
   "cell_type": "code",
   "execution_count": 607,
   "metadata": {
    "execution": {
     "iopub.execute_input": "2022-01-11T09:43:37.269788Z",
     "iopub.status.busy": "2022-01-11T09:43:37.268952Z",
     "iopub.status.idle": "2022-01-11T09:43:37.311101Z",
     "shell.execute_reply": "2022-01-11T09:43:37.310428Z",
     "shell.execute_reply.started": "2022-01-11T09:43:37.269739Z"
    }
   },
   "outputs": [
    {
     "data": {
      "text/html": [
       "<div>\n",
       "<style scoped>\n",
       "    .dataframe tbody tr th:only-of-type {\n",
       "        vertical-align: middle;\n",
       "    }\n",
       "\n",
       "    .dataframe tbody tr th {\n",
       "        vertical-align: top;\n",
       "    }\n",
       "\n",
       "    .dataframe thead th {\n",
       "        text-align: right;\n",
       "    }\n",
       "</style>\n",
       "<table border=\"1\" class=\"dataframe\">\n",
       "  <thead>\n",
       "    <tr style=\"text-align: right;\">\n",
       "      <th></th>\n",
       "      <th>bodyType</th>\n",
       "      <th>brand</th>\n",
       "      <th>color</th>\n",
       "      <th>engineDisplacement</th>\n",
       "      <th>enginePower</th>\n",
       "      <th>fuelType</th>\n",
       "      <th>mileage</th>\n",
       "      <th>model_name</th>\n",
       "      <th>name</th>\n",
       "      <th>numberOfDoors</th>\n",
       "      <th>productionDate</th>\n",
       "      <th>sell_id</th>\n",
       "      <th>vehicleTransmission</th>\n",
       "      <th>price</th>\n",
       "      <th>train</th>\n",
       "      <th>age</th>\n",
       "      <th>owners</th>\n",
       "      <th>transmission</th>\n",
       "    </tr>\n",
       "  </thead>\n",
       "  <tbody>\n",
       "    <tr>\n",
       "      <th>79051</th>\n",
       "      <td>0</td>\n",
       "      <td>5</td>\n",
       "      <td>15</td>\n",
       "      <td>4.0</td>\n",
       "      <td>700.0</td>\n",
       "      <td>1</td>\n",
       "      <td>0.0</td>\n",
       "      <td>379</td>\n",
       "      <td>Brabus 700 4.0 AT (700 л.с.) 4WD</td>\n",
       "      <td>5.0</td>\n",
       "      <td>2020.0</td>\n",
       "      <td>0</td>\n",
       "      <td>1</td>\n",
       "      <td>29300000.0</td>\n",
       "      <td>1</td>\n",
       "      <td>1.0</td>\n",
       "      <td>3.0</td>\n",
       "      <td>1</td>\n",
       "    </tr>\n",
       "    <tr>\n",
       "      <th>79118</th>\n",
       "      <td>0</td>\n",
       "      <td>5</td>\n",
       "      <td>15</td>\n",
       "      <td>4.0</td>\n",
       "      <td>800.0</td>\n",
       "      <td>1</td>\n",
       "      <td>0.0</td>\n",
       "      <td>379</td>\n",
       "      <td>Brabus 800 4.0 AT (800 л.с.) 4WD</td>\n",
       "      <td>5.0</td>\n",
       "      <td>2020.0</td>\n",
       "      <td>0</td>\n",
       "      <td>1</td>\n",
       "      <td>31600000.0</td>\n",
       "      <td>1</td>\n",
       "      <td>1.0</td>\n",
       "      <td>3.0</td>\n",
       "      <td>1</td>\n",
       "    </tr>\n",
       "    <tr>\n",
       "      <th>92916</th>\n",
       "      <td>0</td>\n",
       "      <td>5</td>\n",
       "      <td>13</td>\n",
       "      <td>0.0</td>\n",
       "      <td>700.0</td>\n",
       "      <td>0</td>\n",
       "      <td>89000.0</td>\n",
       "      <td>328</td>\n",
       "      <td>Mercedes-Benz G-Класс AMG Brabus 700 I (W463) ...</td>\n",
       "      <td>5.0</td>\n",
       "      <td>2013.0</td>\n",
       "      <td>0</td>\n",
       "      <td>1</td>\n",
       "      <td>6440000.0</td>\n",
       "      <td>1</td>\n",
       "      <td>8.0</td>\n",
       "      <td>3.0</td>\n",
       "      <td>1</td>\n",
       "    </tr>\n",
       "    <tr>\n",
       "      <th>97660</th>\n",
       "      <td>0</td>\n",
       "      <td>5</td>\n",
       "      <td>15</td>\n",
       "      <td>0.0</td>\n",
       "      <td>700.0</td>\n",
       "      <td>0</td>\n",
       "      <td>52000.0</td>\n",
       "      <td>328</td>\n",
       "      <td>Mercedes-Benz G-Класс AMG Brabus 700 I (W463) ...</td>\n",
       "      <td>5.0</td>\n",
       "      <td>2015.0</td>\n",
       "      <td>0</td>\n",
       "      <td>1</td>\n",
       "      <td>16200000.0</td>\n",
       "      <td>1</td>\n",
       "      <td>6.0</td>\n",
       "      <td>2.0</td>\n",
       "      <td>1</td>\n",
       "    </tr>\n",
       "    <tr>\n",
       "      <th>98503</th>\n",
       "      <td>0</td>\n",
       "      <td>5</td>\n",
       "      <td>15</td>\n",
       "      <td>0.0</td>\n",
       "      <td>800.0</td>\n",
       "      <td>0</td>\n",
       "      <td>3000.0</td>\n",
       "      <td>328</td>\n",
       "      <td>Mercedes-Benz G-Класс AMG Brabus 800 II (W463)</td>\n",
       "      <td>5.0</td>\n",
       "      <td>2020.0</td>\n",
       "      <td>0</td>\n",
       "      <td>1</td>\n",
       "      <td>21530000.0</td>\n",
       "      <td>1</td>\n",
       "      <td>1.0</td>\n",
       "      <td>1.0</td>\n",
       "      <td>1</td>\n",
       "    </tr>\n",
       "    <tr>\n",
       "      <th>99068</th>\n",
       "      <td>0</td>\n",
       "      <td>5</td>\n",
       "      <td>7</td>\n",
       "      <td>0.0</td>\n",
       "      <td>800.0</td>\n",
       "      <td>0</td>\n",
       "      <td>29000.0</td>\n",
       "      <td>328</td>\n",
       "      <td>Mercedes-Benz G-Класс AMG Brabus 800 II (W463)</td>\n",
       "      <td>5.0</td>\n",
       "      <td>2019.0</td>\n",
       "      <td>0</td>\n",
       "      <td>1</td>\n",
       "      <td>16640000.0</td>\n",
       "      <td>1</td>\n",
       "      <td>2.0</td>\n",
       "      <td>1.0</td>\n",
       "      <td>1</td>\n",
       "    </tr>\n",
       "    <tr>\n",
       "      <th>99350</th>\n",
       "      <td>0</td>\n",
       "      <td>5</td>\n",
       "      <td>12</td>\n",
       "      <td>0.0</td>\n",
       "      <td>800.0</td>\n",
       "      <td>0</td>\n",
       "      <td>7000.0</td>\n",
       "      <td>328</td>\n",
       "      <td>Mercedes-Benz G-Класс AMG Brabus 800 II (W463)</td>\n",
       "      <td>5.0</td>\n",
       "      <td>2021.0</td>\n",
       "      <td>0</td>\n",
       "      <td>1</td>\n",
       "      <td>24280000.0</td>\n",
       "      <td>1</td>\n",
       "      <td>0.0</td>\n",
       "      <td>1.0</td>\n",
       "      <td>1</td>\n",
       "    </tr>\n",
       "    <tr>\n",
       "      <th>99667</th>\n",
       "      <td>0</td>\n",
       "      <td>5</td>\n",
       "      <td>15</td>\n",
       "      <td>0.0</td>\n",
       "      <td>800.0</td>\n",
       "      <td>0</td>\n",
       "      <td>11000.0</td>\n",
       "      <td>328</td>\n",
       "      <td>Mercedes-Benz G-Класс AMG Brabus 800 II (W463)</td>\n",
       "      <td>5.0</td>\n",
       "      <td>2020.0</td>\n",
       "      <td>0</td>\n",
       "      <td>1</td>\n",
       "      <td>21650000.0</td>\n",
       "      <td>1</td>\n",
       "      <td>1.0</td>\n",
       "      <td>1.0</td>\n",
       "      <td>1</td>\n",
       "    </tr>\n",
       "    <tr>\n",
       "      <th>99774</th>\n",
       "      <td>0</td>\n",
       "      <td>5</td>\n",
       "      <td>12</td>\n",
       "      <td>0.0</td>\n",
       "      <td>700.0</td>\n",
       "      <td>0</td>\n",
       "      <td>95000.0</td>\n",
       "      <td>328</td>\n",
       "      <td>Mercedes-Benz G-Класс AMG Brabus 700 I (W463) ...</td>\n",
       "      <td>5.0</td>\n",
       "      <td>2015.0</td>\n",
       "      <td>0</td>\n",
       "      <td>1</td>\n",
       "      <td>6370000.0</td>\n",
       "      <td>1</td>\n",
       "      <td>6.0</td>\n",
       "      <td>2.0</td>\n",
       "      <td>1</td>\n",
       "    </tr>\n",
       "    <tr>\n",
       "      <th>100157</th>\n",
       "      <td>0</td>\n",
       "      <td>5</td>\n",
       "      <td>15</td>\n",
       "      <td>0.0</td>\n",
       "      <td>800.0</td>\n",
       "      <td>0</td>\n",
       "      <td>1000.0</td>\n",
       "      <td>328</td>\n",
       "      <td>Mercedes-Benz G-Класс AMG Brabus 800 II (W463)</td>\n",
       "      <td>5.0</td>\n",
       "      <td>2021.0</td>\n",
       "      <td>0</td>\n",
       "      <td>1</td>\n",
       "      <td>22680000.0</td>\n",
       "      <td>1</td>\n",
       "      <td>0.0</td>\n",
       "      <td>1.0</td>\n",
       "      <td>1</td>\n",
       "    </tr>\n",
       "    <tr>\n",
       "      <th>101353</th>\n",
       "      <td>0</td>\n",
       "      <td>5</td>\n",
       "      <td>15</td>\n",
       "      <td>0.0</td>\n",
       "      <td>800.0</td>\n",
       "      <td>0</td>\n",
       "      <td>9000.0</td>\n",
       "      <td>328</td>\n",
       "      <td>Mercedes-Benz G-Класс AMG Brabus 800 II (W463)</td>\n",
       "      <td>5.0</td>\n",
       "      <td>2020.0</td>\n",
       "      <td>0</td>\n",
       "      <td>1</td>\n",
       "      <td>23320000.0</td>\n",
       "      <td>1</td>\n",
       "      <td>1.0</td>\n",
       "      <td>1.0</td>\n",
       "      <td>1</td>\n",
       "    </tr>\n",
       "    <tr>\n",
       "      <th>102222</th>\n",
       "      <td>0</td>\n",
       "      <td>5</td>\n",
       "      <td>12</td>\n",
       "      <td>0.0</td>\n",
       "      <td>700.0</td>\n",
       "      <td>0</td>\n",
       "      <td>48000.0</td>\n",
       "      <td>328</td>\n",
       "      <td>Mercedes-Benz G-Класс AMG Brabus 700 I (W463) ...</td>\n",
       "      <td>5.0</td>\n",
       "      <td>2014.0</td>\n",
       "      <td>0</td>\n",
       "      <td>1</td>\n",
       "      <td>6700000.0</td>\n",
       "      <td>1</td>\n",
       "      <td>7.0</td>\n",
       "      <td>3.0</td>\n",
       "      <td>1</td>\n",
       "    </tr>\n",
       "    <tr>\n",
       "      <th>102629</th>\n",
       "      <td>0</td>\n",
       "      <td>5</td>\n",
       "      <td>15</td>\n",
       "      <td>0.0</td>\n",
       "      <td>800.0</td>\n",
       "      <td>0</td>\n",
       "      <td>24000.0</td>\n",
       "      <td>328</td>\n",
       "      <td>Mercedes-Benz G-Класс AMG Brabus 800 II (W463)</td>\n",
       "      <td>5.0</td>\n",
       "      <td>2018.0</td>\n",
       "      <td>0</td>\n",
       "      <td>1</td>\n",
       "      <td>18590000.0</td>\n",
       "      <td>1</td>\n",
       "      <td>3.0</td>\n",
       "      <td>1.0</td>\n",
       "      <td>1</td>\n",
       "    </tr>\n",
       "    <tr>\n",
       "      <th>102923</th>\n",
       "      <td>0</td>\n",
       "      <td>5</td>\n",
       "      <td>15</td>\n",
       "      <td>0.0</td>\n",
       "      <td>700.0</td>\n",
       "      <td>0</td>\n",
       "      <td>194000.0</td>\n",
       "      <td>328</td>\n",
       "      <td>Mercedes-Benz G-Класс AMG Brabus 700 I (W463) ...</td>\n",
       "      <td>5.0</td>\n",
       "      <td>2014.0</td>\n",
       "      <td>0</td>\n",
       "      <td>1</td>\n",
       "      <td>5060000.0</td>\n",
       "      <td>1</td>\n",
       "      <td>7.0</td>\n",
       "      <td>3.0</td>\n",
       "      <td>1</td>\n",
       "    </tr>\n",
       "    <tr>\n",
       "      <th>103228</th>\n",
       "      <td>0</td>\n",
       "      <td>5</td>\n",
       "      <td>15</td>\n",
       "      <td>0.0</td>\n",
       "      <td>800.0</td>\n",
       "      <td>0</td>\n",
       "      <td>112000.0</td>\n",
       "      <td>328</td>\n",
       "      <td>Mercedes-Benz G-Класс AMG Brabus 800 II (W463)</td>\n",
       "      <td>5.0</td>\n",
       "      <td>2019.0</td>\n",
       "      <td>0</td>\n",
       "      <td>1</td>\n",
       "      <td>20710000.0</td>\n",
       "      <td>1</td>\n",
       "      <td>2.0</td>\n",
       "      <td>1.0</td>\n",
       "      <td>1</td>\n",
       "    </tr>\n",
       "    <tr>\n",
       "      <th>104166</th>\n",
       "      <td>0</td>\n",
       "      <td>5</td>\n",
       "      <td>15</td>\n",
       "      <td>0.0</td>\n",
       "      <td>700.0</td>\n",
       "      <td>0</td>\n",
       "      <td>21000.0</td>\n",
       "      <td>328</td>\n",
       "      <td>Mercedes-Benz G-Класс AMG Brabus 700 II (W463)</td>\n",
       "      <td>5.0</td>\n",
       "      <td>2019.0</td>\n",
       "      <td>0</td>\n",
       "      <td>1</td>\n",
       "      <td>18760000.0</td>\n",
       "      <td>1</td>\n",
       "      <td>2.0</td>\n",
       "      <td>1.0</td>\n",
       "      <td>1</td>\n",
       "    </tr>\n",
       "    <tr>\n",
       "      <th>104421</th>\n",
       "      <td>0</td>\n",
       "      <td>5</td>\n",
       "      <td>12</td>\n",
       "      <td>0.0</td>\n",
       "      <td>700.0</td>\n",
       "      <td>0</td>\n",
       "      <td>75000.0</td>\n",
       "      <td>328</td>\n",
       "      <td>Mercedes-Benz G-Класс AMG Brabus 700 I (W463) ...</td>\n",
       "      <td>5.0</td>\n",
       "      <td>2016.0</td>\n",
       "      <td>0</td>\n",
       "      <td>1</td>\n",
       "      <td>6820000.0</td>\n",
       "      <td>1</td>\n",
       "      <td>5.0</td>\n",
       "      <td>1.0</td>\n",
       "      <td>1</td>\n",
       "    </tr>\n",
       "    <tr>\n",
       "      <th>105408</th>\n",
       "      <td>0</td>\n",
       "      <td>5</td>\n",
       "      <td>1</td>\n",
       "      <td>0.0</td>\n",
       "      <td>700.0</td>\n",
       "      <td>0</td>\n",
       "      <td>25000.0</td>\n",
       "      <td>328</td>\n",
       "      <td>Mercedes-Benz G-Класс AMG Brabus 700 II (W463)</td>\n",
       "      <td>5.0</td>\n",
       "      <td>2019.0</td>\n",
       "      <td>0</td>\n",
       "      <td>1</td>\n",
       "      <td>18200000.0</td>\n",
       "      <td>1</td>\n",
       "      <td>2.0</td>\n",
       "      <td>1.0</td>\n",
       "      <td>1</td>\n",
       "    </tr>\n",
       "    <tr>\n",
       "      <th>105464</th>\n",
       "      <td>0</td>\n",
       "      <td>5</td>\n",
       "      <td>15</td>\n",
       "      <td>0.0</td>\n",
       "      <td>700.0</td>\n",
       "      <td>0</td>\n",
       "      <td>111000.0</td>\n",
       "      <td>328</td>\n",
       "      <td>Mercedes-Benz G-Класс AMG Brabus 700 I (W463) ...</td>\n",
       "      <td>5.0</td>\n",
       "      <td>2015.0</td>\n",
       "      <td>0</td>\n",
       "      <td>1</td>\n",
       "      <td>6670000.0</td>\n",
       "      <td>1</td>\n",
       "      <td>6.0</td>\n",
       "      <td>2.0</td>\n",
       "      <td>1</td>\n",
       "    </tr>\n",
       "    <tr>\n",
       "      <th>105618</th>\n",
       "      <td>0</td>\n",
       "      <td>5</td>\n",
       "      <td>15</td>\n",
       "      <td>0.0</td>\n",
       "      <td>800.0</td>\n",
       "      <td>0</td>\n",
       "      <td>36000.0</td>\n",
       "      <td>328</td>\n",
       "      <td>Mercedes-Benz G-Класс AMG Brabus 800 II (W463)</td>\n",
       "      <td>5.0</td>\n",
       "      <td>2020.0</td>\n",
       "      <td>0</td>\n",
       "      <td>1</td>\n",
       "      <td>20390000.0</td>\n",
       "      <td>1</td>\n",
       "      <td>1.0</td>\n",
       "      <td>1.0</td>\n",
       "      <td>1</td>\n",
       "    </tr>\n",
       "    <tr>\n",
       "      <th>105650</th>\n",
       "      <td>0</td>\n",
       "      <td>5</td>\n",
       "      <td>1</td>\n",
       "      <td>0.0</td>\n",
       "      <td>700.0</td>\n",
       "      <td>0</td>\n",
       "      <td>54000.0</td>\n",
       "      <td>328</td>\n",
       "      <td>Mercedes-Benz G-Класс AMG Brabus 700 II (W463)</td>\n",
       "      <td>5.0</td>\n",
       "      <td>2018.0</td>\n",
       "      <td>0</td>\n",
       "      <td>1</td>\n",
       "      <td>14180000.0</td>\n",
       "      <td>1</td>\n",
       "      <td>3.0</td>\n",
       "      <td>2.0</td>\n",
       "      <td>1</td>\n",
       "    </tr>\n",
       "    <tr>\n",
       "      <th>106193</th>\n",
       "      <td>0</td>\n",
       "      <td>5</td>\n",
       "      <td>15</td>\n",
       "      <td>0.0</td>\n",
       "      <td>700.0</td>\n",
       "      <td>0</td>\n",
       "      <td>20000.0</td>\n",
       "      <td>328</td>\n",
       "      <td>Mercedes-Benz G-Класс AMG Brabus 700 II (W463)</td>\n",
       "      <td>5.0</td>\n",
       "      <td>2018.0</td>\n",
       "      <td>0</td>\n",
       "      <td>1</td>\n",
       "      <td>21170000.0</td>\n",
       "      <td>1</td>\n",
       "      <td>3.0</td>\n",
       "      <td>2.0</td>\n",
       "      <td>1</td>\n",
       "    </tr>\n",
       "    <tr>\n",
       "      <th>106893</th>\n",
       "      <td>0</td>\n",
       "      <td>5</td>\n",
       "      <td>15</td>\n",
       "      <td>0.0</td>\n",
       "      <td>700.0</td>\n",
       "      <td>0</td>\n",
       "      <td>6000.0</td>\n",
       "      <td>328</td>\n",
       "      <td>Mercedes-Benz G-Класс AMG Brabus 700 II (W463)</td>\n",
       "      <td>5.0</td>\n",
       "      <td>2021.0</td>\n",
       "      <td>0</td>\n",
       "      <td>1</td>\n",
       "      <td>22260000.0</td>\n",
       "      <td>1</td>\n",
       "      <td>0.0</td>\n",
       "      <td>1.0</td>\n",
       "      <td>1</td>\n",
       "    </tr>\n",
       "    <tr>\n",
       "      <th>107515</th>\n",
       "      <td>0</td>\n",
       "      <td>5</td>\n",
       "      <td>13</td>\n",
       "      <td>0.0</td>\n",
       "      <td>700.0</td>\n",
       "      <td>0</td>\n",
       "      <td>89000.0</td>\n",
       "      <td>328</td>\n",
       "      <td>Mercedes-Benz G-Класс AMG Brabus 700 I (W463) ...</td>\n",
       "      <td>5.0</td>\n",
       "      <td>2013.0</td>\n",
       "      <td>0</td>\n",
       "      <td>1</td>\n",
       "      <td>6440000.0</td>\n",
       "      <td>1</td>\n",
       "      <td>8.0</td>\n",
       "      <td>3.0</td>\n",
       "      <td>1</td>\n",
       "    </tr>\n",
       "    <tr>\n",
       "      <th>108232</th>\n",
       "      <td>0</td>\n",
       "      <td>5</td>\n",
       "      <td>15</td>\n",
       "      <td>0.0</td>\n",
       "      <td>700.0</td>\n",
       "      <td>0</td>\n",
       "      <td>34000.0</td>\n",
       "      <td>328</td>\n",
       "      <td>Mercedes-Benz G-Класс AMG Brabus 700 II (W463)</td>\n",
       "      <td>5.0</td>\n",
       "      <td>2018.0</td>\n",
       "      <td>0</td>\n",
       "      <td>1</td>\n",
       "      <td>17760000.0</td>\n",
       "      <td>1</td>\n",
       "      <td>3.0</td>\n",
       "      <td>2.0</td>\n",
       "      <td>1</td>\n",
       "    </tr>\n",
       "    <tr>\n",
       "      <th>109835</th>\n",
       "      <td>6</td>\n",
       "      <td>5</td>\n",
       "      <td>13</td>\n",
       "      <td>0.0</td>\n",
       "      <td>843.0</td>\n",
       "      <td>0</td>\n",
       "      <td>27000.0</td>\n",
       "      <td>81</td>\n",
       "      <td>Mercedes-Benz AMG GT 63 S E Performance I Рест...</td>\n",
       "      <td>5.0</td>\n",
       "      <td>2019.0</td>\n",
       "      <td>0</td>\n",
       "      <td>1</td>\n",
       "      <td>7230000.0</td>\n",
       "      <td>1</td>\n",
       "      <td>2.0</td>\n",
       "      <td>1.0</td>\n",
       "      <td>1</td>\n",
       "    </tr>\n",
       "    <tr>\n",
       "      <th>110833</th>\n",
       "      <td>6</td>\n",
       "      <td>5</td>\n",
       "      <td>13</td>\n",
       "      <td>0.0</td>\n",
       "      <td>843.0</td>\n",
       "      <td>0</td>\n",
       "      <td>5000.0</td>\n",
       "      <td>81</td>\n",
       "      <td>Mercedes-Benz AMG GT 63 S E Performance I Рест...</td>\n",
       "      <td>5.0</td>\n",
       "      <td>2020.0</td>\n",
       "      <td>0</td>\n",
       "      <td>1</td>\n",
       "      <td>13150000.0</td>\n",
       "      <td>1</td>\n",
       "      <td>1.0</td>\n",
       "      <td>1.0</td>\n",
       "      <td>1</td>\n",
       "    </tr>\n",
       "    <tr>\n",
       "      <th>111617</th>\n",
       "      <td>0</td>\n",
       "      <td>5</td>\n",
       "      <td>15</td>\n",
       "      <td>0.0</td>\n",
       "      <td>700.0</td>\n",
       "      <td>0</td>\n",
       "      <td>80000.0</td>\n",
       "      <td>328</td>\n",
       "      <td>Mercedes-Benz G-Класс AMG Brabus 700 I (W463) ...</td>\n",
       "      <td>5.0</td>\n",
       "      <td>2016.0</td>\n",
       "      <td>0</td>\n",
       "      <td>1</td>\n",
       "      <td>5940000.0</td>\n",
       "      <td>1</td>\n",
       "      <td>5.0</td>\n",
       "      <td>3.0</td>\n",
       "      <td>1</td>\n",
       "    </tr>\n",
       "    <tr>\n",
       "      <th>112079</th>\n",
       "      <td>0</td>\n",
       "      <td>5</td>\n",
       "      <td>15</td>\n",
       "      <td>0.0</td>\n",
       "      <td>700.0</td>\n",
       "      <td>0</td>\n",
       "      <td>15000.0</td>\n",
       "      <td>328</td>\n",
       "      <td>Mercedes-Benz G-Класс AMG Brabus 700 II (W463)</td>\n",
       "      <td>5.0</td>\n",
       "      <td>2019.0</td>\n",
       "      <td>0</td>\n",
       "      <td>1</td>\n",
       "      <td>19380000.0</td>\n",
       "      <td>1</td>\n",
       "      <td>2.0</td>\n",
       "      <td>1.0</td>\n",
       "      <td>1</td>\n",
       "    </tr>\n",
       "  </tbody>\n",
       "</table>\n",
       "</div>"
      ],
      "text/plain": [
       "        bodyType  brand  color  engineDisplacement  enginePower  fuelType  \\\n",
       "79051          0      5     15                 4.0        700.0         1   \n",
       "79118          0      5     15                 4.0        800.0         1   \n",
       "92916          0      5     13                 0.0        700.0         0   \n",
       "97660          0      5     15                 0.0        700.0         0   \n",
       "98503          0      5     15                 0.0        800.0         0   \n",
       "99068          0      5      7                 0.0        800.0         0   \n",
       "99350          0      5     12                 0.0        800.0         0   \n",
       "99667          0      5     15                 0.0        800.0         0   \n",
       "99774          0      5     12                 0.0        700.0         0   \n",
       "100157         0      5     15                 0.0        800.0         0   \n",
       "101353         0      5     15                 0.0        800.0         0   \n",
       "102222         0      5     12                 0.0        700.0         0   \n",
       "102629         0      5     15                 0.0        800.0         0   \n",
       "102923         0      5     15                 0.0        700.0         0   \n",
       "103228         0      5     15                 0.0        800.0         0   \n",
       "104166         0      5     15                 0.0        700.0         0   \n",
       "104421         0      5     12                 0.0        700.0         0   \n",
       "105408         0      5      1                 0.0        700.0         0   \n",
       "105464         0      5     15                 0.0        700.0         0   \n",
       "105618         0      5     15                 0.0        800.0         0   \n",
       "105650         0      5      1                 0.0        700.0         0   \n",
       "106193         0      5     15                 0.0        700.0         0   \n",
       "106893         0      5     15                 0.0        700.0         0   \n",
       "107515         0      5     13                 0.0        700.0         0   \n",
       "108232         0      5     15                 0.0        700.0         0   \n",
       "109835         6      5     13                 0.0        843.0         0   \n",
       "110833         6      5     13                 0.0        843.0         0   \n",
       "111617         0      5     15                 0.0        700.0         0   \n",
       "112079         0      5     15                 0.0        700.0         0   \n",
       "\n",
       "         mileage  model_name  \\\n",
       "79051        0.0         379   \n",
       "79118        0.0         379   \n",
       "92916    89000.0         328   \n",
       "97660    52000.0         328   \n",
       "98503     3000.0         328   \n",
       "99068    29000.0         328   \n",
       "99350     7000.0         328   \n",
       "99667    11000.0         328   \n",
       "99774    95000.0         328   \n",
       "100157    1000.0         328   \n",
       "101353    9000.0         328   \n",
       "102222   48000.0         328   \n",
       "102629   24000.0         328   \n",
       "102923  194000.0         328   \n",
       "103228  112000.0         328   \n",
       "104166   21000.0         328   \n",
       "104421   75000.0         328   \n",
       "105408   25000.0         328   \n",
       "105464  111000.0         328   \n",
       "105618   36000.0         328   \n",
       "105650   54000.0         328   \n",
       "106193   20000.0         328   \n",
       "106893    6000.0         328   \n",
       "107515   89000.0         328   \n",
       "108232   34000.0         328   \n",
       "109835   27000.0          81   \n",
       "110833    5000.0          81   \n",
       "111617   80000.0         328   \n",
       "112079   15000.0         328   \n",
       "\n",
       "                                                     name  numberOfDoors  \\\n",
       "79051                    Brabus 700 4.0 AT (700 л.с.) 4WD            5.0   \n",
       "79118                    Brabus 800 4.0 AT (800 л.с.) 4WD            5.0   \n",
       "92916   Mercedes-Benz G-Класс AMG Brabus 700 I (W463) ...            5.0   \n",
       "97660   Mercedes-Benz G-Класс AMG Brabus 700 I (W463) ...            5.0   \n",
       "98503      Mercedes-Benz G-Класс AMG Brabus 800 II (W463)            5.0   \n",
       "99068      Mercedes-Benz G-Класс AMG Brabus 800 II (W463)            5.0   \n",
       "99350      Mercedes-Benz G-Класс AMG Brabus 800 II (W463)            5.0   \n",
       "99667      Mercedes-Benz G-Класс AMG Brabus 800 II (W463)            5.0   \n",
       "99774   Mercedes-Benz G-Класс AMG Brabus 700 I (W463) ...            5.0   \n",
       "100157     Mercedes-Benz G-Класс AMG Brabus 800 II (W463)            5.0   \n",
       "101353     Mercedes-Benz G-Класс AMG Brabus 800 II (W463)            5.0   \n",
       "102222  Mercedes-Benz G-Класс AMG Brabus 700 I (W463) ...            5.0   \n",
       "102629     Mercedes-Benz G-Класс AMG Brabus 800 II (W463)            5.0   \n",
       "102923  Mercedes-Benz G-Класс AMG Brabus 700 I (W463) ...            5.0   \n",
       "103228     Mercedes-Benz G-Класс AMG Brabus 800 II (W463)            5.0   \n",
       "104166     Mercedes-Benz G-Класс AMG Brabus 700 II (W463)            5.0   \n",
       "104421  Mercedes-Benz G-Класс AMG Brabus 700 I (W463) ...            5.0   \n",
       "105408     Mercedes-Benz G-Класс AMG Brabus 700 II (W463)            5.0   \n",
       "105464  Mercedes-Benz G-Класс AMG Brabus 700 I (W463) ...            5.0   \n",
       "105618     Mercedes-Benz G-Класс AMG Brabus 800 II (W463)            5.0   \n",
       "105650     Mercedes-Benz G-Класс AMG Brabus 700 II (W463)            5.0   \n",
       "106193     Mercedes-Benz G-Класс AMG Brabus 700 II (W463)            5.0   \n",
       "106893     Mercedes-Benz G-Класс AMG Brabus 700 II (W463)            5.0   \n",
       "107515  Mercedes-Benz G-Класс AMG Brabus 700 I (W463) ...            5.0   \n",
       "108232     Mercedes-Benz G-Класс AMG Brabus 700 II (W463)            5.0   \n",
       "109835  Mercedes-Benz AMG GT 63 S E Performance I Рест...            5.0   \n",
       "110833  Mercedes-Benz AMG GT 63 S E Performance I Рест...            5.0   \n",
       "111617  Mercedes-Benz G-Класс AMG Brabus 700 I (W463) ...            5.0   \n",
       "112079     Mercedes-Benz G-Класс AMG Brabus 700 II (W463)            5.0   \n",
       "\n",
       "        productionDate  sell_id  vehicleTransmission       price  train  age  \\\n",
       "79051           2020.0        0                    1  29300000.0      1  1.0   \n",
       "79118           2020.0        0                    1  31600000.0      1  1.0   \n",
       "92916           2013.0        0                    1   6440000.0      1  8.0   \n",
       "97660           2015.0        0                    1  16200000.0      1  6.0   \n",
       "98503           2020.0        0                    1  21530000.0      1  1.0   \n",
       "99068           2019.0        0                    1  16640000.0      1  2.0   \n",
       "99350           2021.0        0                    1  24280000.0      1  0.0   \n",
       "99667           2020.0        0                    1  21650000.0      1  1.0   \n",
       "99774           2015.0        0                    1   6370000.0      1  6.0   \n",
       "100157          2021.0        0                    1  22680000.0      1  0.0   \n",
       "101353          2020.0        0                    1  23320000.0      1  1.0   \n",
       "102222          2014.0        0                    1   6700000.0      1  7.0   \n",
       "102629          2018.0        0                    1  18590000.0      1  3.0   \n",
       "102923          2014.0        0                    1   5060000.0      1  7.0   \n",
       "103228          2019.0        0                    1  20710000.0      1  2.0   \n",
       "104166          2019.0        0                    1  18760000.0      1  2.0   \n",
       "104421          2016.0        0                    1   6820000.0      1  5.0   \n",
       "105408          2019.0        0                    1  18200000.0      1  2.0   \n",
       "105464          2015.0        0                    1   6670000.0      1  6.0   \n",
       "105618          2020.0        0                    1  20390000.0      1  1.0   \n",
       "105650          2018.0        0                    1  14180000.0      1  3.0   \n",
       "106193          2018.0        0                    1  21170000.0      1  3.0   \n",
       "106893          2021.0        0                    1  22260000.0      1  0.0   \n",
       "107515          2013.0        0                    1   6440000.0      1  8.0   \n",
       "108232          2018.0        0                    1  17760000.0      1  3.0   \n",
       "109835          2019.0        0                    1   7230000.0      1  2.0   \n",
       "110833          2020.0        0                    1  13150000.0      1  1.0   \n",
       "111617          2016.0        0                    1   5940000.0      1  5.0   \n",
       "112079          2019.0        0                    1  19380000.0      1  2.0   \n",
       "\n",
       "        owners  transmission   \n",
       "79051      3.0              1  \n",
       "79118      3.0              1  \n",
       "92916      3.0              1  \n",
       "97660      2.0              1  \n",
       "98503      1.0              1  \n",
       "99068      1.0              1  \n",
       "99350      1.0              1  \n",
       "99667      1.0              1  \n",
       "99774      2.0              1  \n",
       "100157     1.0              1  \n",
       "101353     1.0              1  \n",
       "102222     3.0              1  \n",
       "102629     1.0              1  \n",
       "102923     3.0              1  \n",
       "103228     1.0              1  \n",
       "104166     1.0              1  \n",
       "104421     1.0              1  \n",
       "105408     1.0              1  \n",
       "105464     2.0              1  \n",
       "105618     1.0              1  \n",
       "105650     2.0              1  \n",
       "106193     2.0              1  \n",
       "106893     1.0              1  \n",
       "107515     3.0              1  \n",
       "108232     2.0              1  \n",
       "109835     1.0              1  \n",
       "110833     1.0              1  \n",
       "111617     3.0              1  \n",
       "112079     1.0              1  "
      ]
     },
     "execution_count": 607,
     "metadata": {},
     "output_type": "execute_result"
    }
   ],
   "source": [
    "combined_df[combined_df.enginePower > 640]"
   ]
  },
  {
   "cell_type": "code",
   "execution_count": 608,
   "metadata": {
    "execution": {
     "iopub.execute_input": "2022-01-11T09:43:43.360368Z",
     "iopub.status.busy": "2022-01-11T09:43:43.359971Z",
     "iopub.status.idle": "2022-01-11T09:43:43.37794Z",
     "shell.execute_reply": "2022-01-11T09:43:43.376739Z",
     "shell.execute_reply.started": "2022-01-11T09:43:43.360308Z"
    }
   },
   "outputs": [],
   "source": [
    "# удалим строки из train\n",
    "combined_df = combined_df[combined_df.enginePower < 640]"
   ]
  },
  {
   "cell_type": "markdown",
   "metadata": {
    "execution": {
     "iopub.execute_input": "2021-12-29T16:00:44.638842Z",
     "iopub.status.busy": "2021-12-29T16:00:44.638466Z",
     "iopub.status.idle": "2021-12-29T16:00:44.642997Z",
     "shell.execute_reply": "2021-12-29T16:00:44.64219Z",
     "shell.execute_reply.started": "2021-12-29T16:00:44.638798Z"
    }
   },
   "source": [
    "#### параметр \"возраст машины\""
   ]
  },
  {
   "cell_type": "code",
   "execution_count": 609,
   "metadata": {
    "execution": {
     "iopub.execute_input": "2022-01-11T09:43:46.871485Z",
     "iopub.status.busy": "2022-01-11T09:43:46.870507Z",
     "iopub.status.idle": "2022-01-11T09:43:46.898119Z",
     "shell.execute_reply": "2022-01-11T09:43:46.897083Z",
     "shell.execute_reply.started": "2022-01-11T09:43:46.871427Z"
    }
   },
   "outputs": [
    {
     "data": {
      "text/plain": [
       "97749       0.0\n",
       "107490      0.0\n",
       "104070      0.0\n",
       "107492      0.0\n",
       "98928       0.0\n",
       "          ...  \n",
       "91784      84.0\n",
       "40533      84.0\n",
       "40528      84.0\n",
       "83777      85.0\n",
       "83194     117.0\n",
       "Name: age, Length: 77790, dtype: float64"
      ]
     },
     "execution_count": 609,
     "metadata": {},
     "output_type": "execute_result"
    }
   ],
   "source": [
    "combined_df[combined_df['train'] == 1].age.sort_values()"
   ]
  },
  {
   "cell_type": "code",
   "execution_count": 610,
   "metadata": {
    "execution": {
     "iopub.execute_input": "2022-01-11T09:43:50.213242Z",
     "iopub.status.busy": "2022-01-11T09:43:50.212448Z",
     "iopub.status.idle": "2022-01-11T09:43:50.243394Z",
     "shell.execute_reply": "2022-01-11T09:43:50.242411Z",
     "shell.execute_reply.started": "2022-01-11T09:43:50.213187Z"
    }
   },
   "outputs": [
    {
     "data": {
      "text/html": [
       "<div>\n",
       "<style scoped>\n",
       "    .dataframe tbody tr th:only-of-type {\n",
       "        vertical-align: middle;\n",
       "    }\n",
       "\n",
       "    .dataframe tbody tr th {\n",
       "        vertical-align: top;\n",
       "    }\n",
       "\n",
       "    .dataframe thead th {\n",
       "        text-align: right;\n",
       "    }\n",
       "</style>\n",
       "<table border=\"1\" class=\"dataframe\">\n",
       "  <thead>\n",
       "    <tr style=\"text-align: right;\">\n",
       "      <th></th>\n",
       "      <th>bodyType</th>\n",
       "      <th>brand</th>\n",
       "      <th>color</th>\n",
       "      <th>engineDisplacement</th>\n",
       "      <th>enginePower</th>\n",
       "      <th>fuelType</th>\n",
       "      <th>mileage</th>\n",
       "      <th>model_name</th>\n",
       "      <th>name</th>\n",
       "      <th>numberOfDoors</th>\n",
       "      <th>productionDate</th>\n",
       "      <th>sell_id</th>\n",
       "      <th>vehicleTransmission</th>\n",
       "      <th>price</th>\n",
       "      <th>train</th>\n",
       "      <th>age</th>\n",
       "      <th>owners</th>\n",
       "      <th>transmission</th>\n",
       "    </tr>\n",
       "  </thead>\n",
       "  <tbody>\n",
       "    <tr>\n",
       "      <th>1777</th>\n",
       "      <td>17</td>\n",
       "      <td>8</td>\n",
       "      <td>15</td>\n",
       "      <td>1.1</td>\n",
       "      <td>30.0</td>\n",
       "      <td>1</td>\n",
       "      <td>14000.0</td>\n",
       "      <td>572</td>\n",
       "      <td>1.1 MT (30 л.с.)</td>\n",
       "      <td>3.0</td>\n",
       "      <td>1939.0</td>\n",
       "      <td>1097046168</td>\n",
       "      <td>0</td>\n",
       "      <td>0.0</td>\n",
       "      <td>0</td>\n",
       "      <td>82.0</td>\n",
       "      <td>3.0</td>\n",
       "      <td>3</td>\n",
       "    </tr>\n",
       "    <tr>\n",
       "      <th>3174</th>\n",
       "      <td>11</td>\n",
       "      <td>0</td>\n",
       "      <td>15</td>\n",
       "      <td>3.3</td>\n",
       "      <td>75.0</td>\n",
       "      <td>1</td>\n",
       "      <td>90000.0</td>\n",
       "      <td>51</td>\n",
       "      <td>3.3 MT (75 л.с.)</td>\n",
       "      <td>4.0</td>\n",
       "      <td>1938.0</td>\n",
       "      <td>1091525266</td>\n",
       "      <td>0</td>\n",
       "      <td>0.0</td>\n",
       "      <td>0</td>\n",
       "      <td>83.0</td>\n",
       "      <td>2.0</td>\n",
       "      <td>3</td>\n",
       "    </tr>\n",
       "    <tr>\n",
       "      <th>9625</th>\n",
       "      <td>11</td>\n",
       "      <td>1</td>\n",
       "      <td>0</td>\n",
       "      <td>2.0</td>\n",
       "      <td>51.0</td>\n",
       "      <td>1</td>\n",
       "      <td>16000.0</td>\n",
       "      <td>26</td>\n",
       "      <td>2.0 MT (51 л.с.)</td>\n",
       "      <td>4.0</td>\n",
       "      <td>1937.0</td>\n",
       "      <td>1094373106</td>\n",
       "      <td>0</td>\n",
       "      <td>0.0</td>\n",
       "      <td>0</td>\n",
       "      <td>84.0</td>\n",
       "      <td>2.0</td>\n",
       "      <td>3</td>\n",
       "    </tr>\n",
       "    <tr>\n",
       "      <th>9819</th>\n",
       "      <td>11</td>\n",
       "      <td>1</td>\n",
       "      <td>15</td>\n",
       "      <td>2.0</td>\n",
       "      <td>46.0</td>\n",
       "      <td>1</td>\n",
       "      <td>4500.0</td>\n",
       "      <td>25</td>\n",
       "      <td>2.0 MT (46 л.с.)</td>\n",
       "      <td>2.0</td>\n",
       "      <td>1937.0</td>\n",
       "      <td>1040149625</td>\n",
       "      <td>0</td>\n",
       "      <td>0.0</td>\n",
       "      <td>0</td>\n",
       "      <td>84.0</td>\n",
       "      <td>3.0</td>\n",
       "      <td>3</td>\n",
       "    </tr>\n",
       "    <tr>\n",
       "      <th>16891</th>\n",
       "      <td>11</td>\n",
       "      <td>5</td>\n",
       "      <td>7</td>\n",
       "      <td>1.7</td>\n",
       "      <td>38.0</td>\n",
       "      <td>1</td>\n",
       "      <td>1.0</td>\n",
       "      <td>870</td>\n",
       "      <td>1.7 MT (38 л.с.)</td>\n",
       "      <td>4.0</td>\n",
       "      <td>1936.0</td>\n",
       "      <td>1099428966</td>\n",
       "      <td>0</td>\n",
       "      <td>0.0</td>\n",
       "      <td>0</td>\n",
       "      <td>85.0</td>\n",
       "      <td>1.0</td>\n",
       "      <td>3</td>\n",
       "    </tr>\n",
       "    <tr>\n",
       "      <th>16944</th>\n",
       "      <td>1</td>\n",
       "      <td>5</td>\n",
       "      <td>1</td>\n",
       "      <td>5.3</td>\n",
       "      <td>32.0</td>\n",
       "      <td>1</td>\n",
       "      <td>48000.0</td>\n",
       "      <td>711</td>\n",
       "      <td>5.3 MT (32 л.с.)</td>\n",
       "      <td>0.0</td>\n",
       "      <td>1904.0</td>\n",
       "      <td>1093802104</td>\n",
       "      <td>0</td>\n",
       "      <td>0.0</td>\n",
       "      <td>0</td>\n",
       "      <td>117.0</td>\n",
       "      <td>1.0</td>\n",
       "      <td>3</td>\n",
       "    </tr>\n",
       "  </tbody>\n",
       "</table>\n",
       "</div>"
      ],
      "text/plain": [
       "       bodyType  brand  color  engineDisplacement  enginePower  fuelType  \\\n",
       "1777         17      8     15                 1.1         30.0         1   \n",
       "3174         11      0     15                 3.3         75.0         1   \n",
       "9625         11      1      0                 2.0         51.0         1   \n",
       "9819         11      1     15                 2.0         46.0         1   \n",
       "16891        11      5      7                 1.7         38.0         1   \n",
       "16944         1      5      1                 5.3         32.0         1   \n",
       "\n",
       "       mileage  model_name              name  numberOfDoors  productionDate  \\\n",
       "1777   14000.0         572  1.1 MT (30 л.с.)            3.0          1939.0   \n",
       "3174   90000.0          51  3.3 MT (75 л.с.)            4.0          1938.0   \n",
       "9625   16000.0          26  2.0 MT (51 л.с.)            4.0          1937.0   \n",
       "9819    4500.0          25  2.0 MT (46 л.с.)            2.0          1937.0   \n",
       "16891      1.0         870  1.7 MT (38 л.с.)            4.0          1936.0   \n",
       "16944  48000.0         711  5.3 MT (32 л.с.)            0.0          1904.0   \n",
       "\n",
       "          sell_id  vehicleTransmission  price  train    age  owners  \\\n",
       "1777   1097046168                    0    0.0      0   82.0     3.0   \n",
       "3174   1091525266                    0    0.0      0   83.0     2.0   \n",
       "9625   1094373106                    0    0.0      0   84.0     2.0   \n",
       "9819   1040149625                    0    0.0      0   84.0     3.0   \n",
       "16891  1099428966                    0    0.0      0   85.0     1.0   \n",
       "16944  1093802104                    0    0.0      0  117.0     1.0   \n",
       "\n",
       "       transmission   \n",
       "1777               3  \n",
       "3174               3  \n",
       "9625               3  \n",
       "9819               3  \n",
       "16891              3  \n",
       "16944              3  "
      ]
     },
     "execution_count": 610,
     "metadata": {},
     "output_type": "execute_result"
    }
   ],
   "source": [
    "sd = combined_df[combined_df['train'] == 0]\n",
    "sd[sd.age > 80]"
   ]
  },
  {
   "cell_type": "code",
   "execution_count": 611,
   "metadata": {
    "execution": {
     "iopub.execute_input": "2022-01-11T09:44:02.547824Z",
     "iopub.status.busy": "2022-01-11T09:44:02.547228Z",
     "iopub.status.idle": "2022-01-11T09:44:03.099444Z",
     "shell.execute_reply": "2022-01-11T09:44:03.098547Z",
     "shell.execute_reply.started": "2022-01-11T09:44:02.547784Z"
    }
   },
   "outputs": [
    {
     "data": {
      "text/plain": [
       "<AxesSubplot:xlabel='age', ylabel='price'>"
      ]
     },
     "execution_count": 611,
     "metadata": {},
     "output_type": "execute_result"
    }
   ],
   "source": [
    "plt.figure(figsize=(25, 6))\n",
    "sns.scatterplot(\n",
    "    data=combined_df[combined_df['train'] == 1], x='age', y=\"price\")"
   ]
  },
  {
   "cell_type": "markdown",
   "metadata": {},
   "source": [
    "#### параметр \"цена\""
   ]
  },
  {
   "cell_type": "code",
   "execution_count": 612,
   "metadata": {
    "execution": {
     "iopub.execute_input": "2022-01-11T09:44:35.683273Z",
     "iopub.status.busy": "2022-01-11T09:44:35.682802Z",
     "iopub.status.idle": "2022-01-11T09:44:35.974754Z",
     "shell.execute_reply": "2022-01-11T09:44:35.974037Z",
     "shell.execute_reply.started": "2022-01-11T09:44:35.68324Z"
    }
   },
   "outputs": [
    {
     "data": {
      "text/plain": [
       "Text(0.5, 0, 'price ')"
      ]
     },
     "execution_count": 612,
     "metadata": {},
     "output_type": "execute_result"
    }
   ],
   "source": [
    "combined_df.query('train == 1').price.hist()\n",
    "plt.title('The target variable distribution', fontdict={'fontsize': 14})\n",
    "plt.xlabel('price ')"
   ]
  },
  {
   "cell_type": "markdown",
   "metadata": {},
   "source": [
    "Распределение имеет тяжелый левый хвост,чтобы это исправить воспользуемся логорифмированием."
   ]
  },
  {
   "cell_type": "code",
   "execution_count": 613,
   "metadata": {
    "execution": {
     "iopub.execute_input": "2022-01-11T09:44:58.435678Z",
     "iopub.status.busy": "2022-01-11T09:44:58.434649Z",
     "iopub.status.idle": "2022-01-11T09:44:58.690151Z",
     "shell.execute_reply": "2022-01-11T09:44:58.688807Z",
     "shell.execute_reply.started": "2022-01-11T09:44:58.435632Z"
    }
   },
   "outputs": [
    {
     "data": {
      "text/plain": [
       "Text(0.5, 1.0, 'The log2 target variable distribution')"
      ]
     },
     "execution_count": 613,
     "metadata": {},
     "output_type": "execute_result"
    }
   ],
   "source": [
    "np.log2(combined_df.query('train == 1').price).hist()\n",
    "plt.title('The log2 target variable distribution', fontdict={'fontsize': 14})"
   ]
  },
  {
   "cell_type": "code",
   "execution_count": 614,
   "metadata": {
    "execution": {
     "iopub.execute_input": "2022-01-11T09:45:03.072416Z",
     "iopub.status.busy": "2022-01-11T09:45:03.071691Z",
     "iopub.status.idle": "2022-01-11T09:45:03.08131Z",
     "shell.execute_reply": "2022-01-11T09:45:03.080485Z",
     "shell.execute_reply.started": "2022-01-11T09:45:03.072359Z"
    }
   },
   "outputs": [],
   "source": [
    "# добавим новый признак\n",
    "combined_df['price_log2'] = np.log2(combined_df.price + 1)"
   ]
  },
  {
   "cell_type": "markdown",
   "metadata": {},
   "source": [
    "# Feature engineering"
   ]
  },
  {
   "cell_type": "markdown",
   "metadata": {},
   "source": [
    "Создадим новые признаки:\n",
    "\n",
    "- mileage_per_year: с помощью the productionDate и mileage columns получим информацию,сколько км проехал автомобиль за год;\n",
    "- rarity: был ли автомобиль произведен ранее 1960;\n",
    "- older_3y: старше ли автомобиль трёх лет;\n",
    "- older_5y: старше ли автомобиль пяти лет;"
   ]
  },
  {
   "cell_type": "code",
   "execution_count": 615,
   "metadata": {
    "execution": {
     "iopub.execute_input": "2022-01-11T09:45:10.813154Z",
     "iopub.status.busy": "2022-01-11T09:45:10.812689Z",
     "iopub.status.idle": "2022-01-11T09:45:10.950734Z",
     "shell.execute_reply": "2022-01-11T09:45:10.950063Z",
     "shell.execute_reply.started": "2022-01-11T09:45:10.813107Z"
    }
   },
   "outputs": [],
   "source": [
    "combined_df['mileage_per_year'] = combined_df.mileage / combined_df.age\n",
    "combined_df['rarity'] = combined_df.productionDate.apply(\n",
    "    lambda x: 1 if x < 1960 else 0)\n",
    "combined_df['older_3y'] = combined_df.age.apply(lambda x: 1 if x > 3 else 0)\n",
    "combined_df['older_5y'] = combined_df.age.apply(lambda x: 1 if x > 5 else 0)"
   ]
  },
  {
   "cell_type": "code",
   "execution_count": 616,
   "metadata": {
    "execution": {
     "iopub.execute_input": "2022-01-11T09:45:16.669485Z",
     "iopub.status.busy": "2022-01-11T09:45:16.668776Z",
     "iopub.status.idle": "2022-01-11T09:45:19.722317Z",
     "shell.execute_reply": "2022-01-11T09:45:19.721433Z",
     "shell.execute_reply.started": "2022-01-11T09:45:16.669424Z"
    }
   },
   "outputs": [
    {
     "data": {
      "text/html": [
       "<div>\n",
       "<style scoped>\n",
       "    .dataframe tbody tr th:only-of-type {\n",
       "        vertical-align: middle;\n",
       "    }\n",
       "\n",
       "    .dataframe tbody tr th {\n",
       "        vertical-align: top;\n",
       "    }\n",
       "\n",
       "    .dataframe thead th {\n",
       "        text-align: right;\n",
       "    }\n",
       "</style>\n",
       "<table border=\"1\" class=\"dataframe\">\n",
       "  <thead>\n",
       "    <tr style=\"text-align: right;\">\n",
       "      <th></th>\n",
       "      <th>bodyType</th>\n",
       "      <th>brand</th>\n",
       "      <th>color</th>\n",
       "      <th>engineDisplacement</th>\n",
       "      <th>enginePower</th>\n",
       "      <th>fuelType</th>\n",
       "      <th>mileage</th>\n",
       "      <th>model_name</th>\n",
       "      <th>name</th>\n",
       "      <th>numberOfDoors</th>\n",
       "      <th>productionDate</th>\n",
       "      <th>sell_id</th>\n",
       "      <th>vehicleTransmission</th>\n",
       "      <th>price</th>\n",
       "      <th>train</th>\n",
       "      <th>age</th>\n",
       "      <th>owners</th>\n",
       "      <th>transmission</th>\n",
       "      <th>price_log2</th>\n",
       "      <th>mileage_per_year</th>\n",
       "      <th>rarity</th>\n",
       "      <th>older_3y</th>\n",
       "      <th>older_5y</th>\n",
       "    </tr>\n",
       "  </thead>\n",
       "  <tbody>\n",
       "    <tr>\n",
       "      <th>97395</th>\n",
       "      <td>0</td>\n",
       "      <td>5</td>\n",
       "      <td>15</td>\n",
       "      <td>0.0</td>\n",
       "      <td>224.0</td>\n",
       "      <td>0</td>\n",
       "      <td>12000.0</td>\n",
       "      <td>334</td>\n",
       "      <td>Mercedes-Benz GLA 250 II (H247)</td>\n",
       "      <td>5.0</td>\n",
       "      <td>2021.0</td>\n",
       "      <td>0</td>\n",
       "      <td>1</td>\n",
       "      <td>3900000.0</td>\n",
       "      <td>1</td>\n",
       "      <td>0.0</td>\n",
       "      <td>1.0</td>\n",
       "      <td>2</td>\n",
       "      <td>21.895043</td>\n",
       "      <td>12000.0</td>\n",
       "      <td>0</td>\n",
       "      <td>0</td>\n",
       "      <td>0</td>\n",
       "    </tr>\n",
       "    <tr>\n",
       "      <th>97398</th>\n",
       "      <td>11</td>\n",
       "      <td>5</td>\n",
       "      <td>15</td>\n",
       "      <td>0.0</td>\n",
       "      <td>249.0</td>\n",
       "      <td>0</td>\n",
       "      <td>7000.0</td>\n",
       "      <td>680</td>\n",
       "      <td>Mercedes-Benz S-Класс 350 d Long 4MATIC VII (W...</td>\n",
       "      <td>4.0</td>\n",
       "      <td>2021.0</td>\n",
       "      <td>0</td>\n",
       "      <td>1</td>\n",
       "      <td>15340000.0</td>\n",
       "      <td>1</td>\n",
       "      <td>0.0</td>\n",
       "      <td>1.0</td>\n",
       "      <td>1</td>\n",
       "      <td>23.870795</td>\n",
       "      <td>7000.0</td>\n",
       "      <td>0</td>\n",
       "      <td>0</td>\n",
       "      <td>0</td>\n",
       "    </tr>\n",
       "    <tr>\n",
       "      <th>97400</th>\n",
       "      <td>6</td>\n",
       "      <td>8</td>\n",
       "      <td>1</td>\n",
       "      <td>0.0</td>\n",
       "      <td>110.0</td>\n",
       "      <td>0</td>\n",
       "      <td>5000.0</td>\n",
       "      <td>675</td>\n",
       "      <td>Skoda Rapid II</td>\n",
       "      <td>5.0</td>\n",
       "      <td>2021.0</td>\n",
       "      <td>0</td>\n",
       "      <td>1</td>\n",
       "      <td>1330000.0</td>\n",
       "      <td>1</td>\n",
       "      <td>0.0</td>\n",
       "      <td>2.0</td>\n",
       "      <td>2</td>\n",
       "      <td>20.342996</td>\n",
       "      <td>5000.0</td>\n",
       "      <td>0</td>\n",
       "      <td>0</td>\n",
       "      <td>0</td>\n",
       "    </tr>\n",
       "    <tr>\n",
       "      <th>97415</th>\n",
       "      <td>0</td>\n",
       "      <td>1</td>\n",
       "      <td>1</td>\n",
       "      <td>0.0</td>\n",
       "      <td>292.0</td>\n",
       "      <td>0</td>\n",
       "      <td>13000.0</td>\n",
       "      <td>888</td>\n",
       "      <td>BMW X3 30e xDrive III (G01)</td>\n",
       "      <td>5.0</td>\n",
       "      <td>2021.0</td>\n",
       "      <td>0</td>\n",
       "      <td>1</td>\n",
       "      <td>5690000.0</td>\n",
       "      <td>1</td>\n",
       "      <td>0.0</td>\n",
       "      <td>2.0</td>\n",
       "      <td>1</td>\n",
       "      <td>22.439997</td>\n",
       "      <td>13000.0</td>\n",
       "      <td>0</td>\n",
       "      <td>0</td>\n",
       "      <td>0</td>\n",
       "    </tr>\n",
       "    <tr>\n",
       "      <th>97420</th>\n",
       "      <td>0</td>\n",
       "      <td>1</td>\n",
       "      <td>15</td>\n",
       "      <td>0.0</td>\n",
       "      <td>184.0</td>\n",
       "      <td>0</td>\n",
       "      <td>8000.0</td>\n",
       "      <td>890</td>\n",
       "      <td>BMW X4 20i II (G02)</td>\n",
       "      <td>5.0</td>\n",
       "      <td>2021.0</td>\n",
       "      <td>0</td>\n",
       "      <td>1</td>\n",
       "      <td>5710000.0</td>\n",
       "      <td>1</td>\n",
       "      <td>0.0</td>\n",
       "      <td>1.0</td>\n",
       "      <td>1</td>\n",
       "      <td>22.445060</td>\n",
       "      <td>8000.0</td>\n",
       "      <td>0</td>\n",
       "      <td>0</td>\n",
       "      <td>0</td>\n",
       "    </tr>\n",
       "    <tr>\n",
       "      <th>...</th>\n",
       "      <td>...</td>\n",
       "      <td>...</td>\n",
       "      <td>...</td>\n",
       "      <td>...</td>\n",
       "      <td>...</td>\n",
       "      <td>...</td>\n",
       "      <td>...</td>\n",
       "      <td>...</td>\n",
       "      <td>...</td>\n",
       "      <td>...</td>\n",
       "      <td>...</td>\n",
       "      <td>...</td>\n",
       "      <td>...</td>\n",
       "      <td>...</td>\n",
       "      <td>...</td>\n",
       "      <td>...</td>\n",
       "      <td>...</td>\n",
       "      <td>...</td>\n",
       "      <td>...</td>\n",
       "      <td>...</td>\n",
       "      <td>...</td>\n",
       "      <td>...</td>\n",
       "      <td>...</td>\n",
       "    </tr>\n",
       "    <tr>\n",
       "      <th>112474</th>\n",
       "      <td>0</td>\n",
       "      <td>9</td>\n",
       "      <td>15</td>\n",
       "      <td>0.0</td>\n",
       "      <td>222.0</td>\n",
       "      <td>0</td>\n",
       "      <td>1000.0</td>\n",
       "      <td>855</td>\n",
       "      <td>Toyota Venza II</td>\n",
       "      <td>5.0</td>\n",
       "      <td>2021.0</td>\n",
       "      <td>0</td>\n",
       "      <td>1</td>\n",
       "      <td>5620000.0</td>\n",
       "      <td>1</td>\n",
       "      <td>0.0</td>\n",
       "      <td>1.0</td>\n",
       "      <td>1</td>\n",
       "      <td>22.422139</td>\n",
       "      <td>1000.0</td>\n",
       "      <td>0</td>\n",
       "      <td>0</td>\n",
       "      <td>0</td>\n",
       "    </tr>\n",
       "    <tr>\n",
       "      <th>112478</th>\n",
       "      <td>8</td>\n",
       "      <td>5</td>\n",
       "      <td>15</td>\n",
       "      <td>0.0</td>\n",
       "      <td>190.0</td>\n",
       "      <td>0</td>\n",
       "      <td>28000.0</td>\n",
       "      <td>823</td>\n",
       "      <td>Mercedes-Benz V-Класс 250 d длинный II</td>\n",
       "      <td>5.0</td>\n",
       "      <td>2021.0</td>\n",
       "      <td>0</td>\n",
       "      <td>1</td>\n",
       "      <td>9610000.0</td>\n",
       "      <td>1</td>\n",
       "      <td>0.0</td>\n",
       "      <td>1.0</td>\n",
       "      <td>3</td>\n",
       "      <td>23.196105</td>\n",
       "      <td>28000.0</td>\n",
       "      <td>0</td>\n",
       "      <td>0</td>\n",
       "      <td>0</td>\n",
       "    </tr>\n",
       "    <tr>\n",
       "      <th>112479</th>\n",
       "      <td>0</td>\n",
       "      <td>9</td>\n",
       "      <td>6</td>\n",
       "      <td>0.0</td>\n",
       "      <td>149.0</td>\n",
       "      <td>0</td>\n",
       "      <td>3000.0</td>\n",
       "      <td>648</td>\n",
       "      <td>Toyota RAV4 V (XA50)</td>\n",
       "      <td>5.0</td>\n",
       "      <td>2021.0</td>\n",
       "      <td>0</td>\n",
       "      <td>1</td>\n",
       "      <td>3730000.0</td>\n",
       "      <td>1</td>\n",
       "      <td>0.0</td>\n",
       "      <td>1.0</td>\n",
       "      <td>1</td>\n",
       "      <td>21.830745</td>\n",
       "      <td>3000.0</td>\n",
       "      <td>0</td>\n",
       "      <td>0</td>\n",
       "      <td>0</td>\n",
       "    </tr>\n",
       "    <tr>\n",
       "      <th>112490</th>\n",
       "      <td>0</td>\n",
       "      <td>9</td>\n",
       "      <td>15</td>\n",
       "      <td>0.0</td>\n",
       "      <td>166.0</td>\n",
       "      <td>0</td>\n",
       "      <td>6000.0</td>\n",
       "      <td>322</td>\n",
       "      <td>Toyota Fortuner II Рестайлинг</td>\n",
       "      <td>5.0</td>\n",
       "      <td>2021.0</td>\n",
       "      <td>0</td>\n",
       "      <td>1</td>\n",
       "      <td>4590000.0</td>\n",
       "      <td>1</td>\n",
       "      <td>0.0</td>\n",
       "      <td>1.0</td>\n",
       "      <td>1</td>\n",
       "      <td>22.130063</td>\n",
       "      <td>6000.0</td>\n",
       "      <td>0</td>\n",
       "      <td>0</td>\n",
       "      <td>0</td>\n",
       "    </tr>\n",
       "    <tr>\n",
       "      <th>112497</th>\n",
       "      <td>6</td>\n",
       "      <td>10</td>\n",
       "      <td>1</td>\n",
       "      <td>0.0</td>\n",
       "      <td>110.0</td>\n",
       "      <td>0</td>\n",
       "      <td>1000.0</td>\n",
       "      <td>605</td>\n",
       "      <td>Volkswagen Polo VI</td>\n",
       "      <td>5.0</td>\n",
       "      <td>2021.0</td>\n",
       "      <td>0</td>\n",
       "      <td>0</td>\n",
       "      <td>1810000.0</td>\n",
       "      <td>1</td>\n",
       "      <td>0.0</td>\n",
       "      <td>1.0</td>\n",
       "      <td>2</td>\n",
       "      <td>20.787559</td>\n",
       "      <td>1000.0</td>\n",
       "      <td>0</td>\n",
       "      <td>0</td>\n",
       "      <td>0</td>\n",
       "    </tr>\n",
       "  </tbody>\n",
       "</table>\n",
       "<p>922 rows × 23 columns</p>\n",
       "</div>"
      ],
      "text/plain": [
       "        bodyType  brand  color  engineDisplacement  enginePower  fuelType  \\\n",
       "97395          0      5     15                 0.0        224.0         0   \n",
       "97398         11      5     15                 0.0        249.0         0   \n",
       "97400          6      8      1                 0.0        110.0         0   \n",
       "97415          0      1      1                 0.0        292.0         0   \n",
       "97420          0      1     15                 0.0        184.0         0   \n",
       "...          ...    ...    ...                 ...          ...       ...   \n",
       "112474         0      9     15                 0.0        222.0         0   \n",
       "112478         8      5     15                 0.0        190.0         0   \n",
       "112479         0      9      6                 0.0        149.0         0   \n",
       "112490         0      9     15                 0.0        166.0         0   \n",
       "112497         6     10      1                 0.0        110.0         0   \n",
       "\n",
       "        mileage  model_name  \\\n",
       "97395   12000.0         334   \n",
       "97398    7000.0         680   \n",
       "97400    5000.0         675   \n",
       "97415   13000.0         888   \n",
       "97420    8000.0         890   \n",
       "...         ...         ...   \n",
       "112474   1000.0         855   \n",
       "112478  28000.0         823   \n",
       "112479   3000.0         648   \n",
       "112490   6000.0         322   \n",
       "112497   1000.0         605   \n",
       "\n",
       "                                                     name  numberOfDoors  \\\n",
       "97395                     Mercedes-Benz GLA 250 II (H247)            5.0   \n",
       "97398   Mercedes-Benz S-Класс 350 d Long 4MATIC VII (W...            4.0   \n",
       "97400                                      Skoda Rapid II            5.0   \n",
       "97415                         BMW X3 30e xDrive III (G01)            5.0   \n",
       "97420                                 BMW X4 20i II (G02)            5.0   \n",
       "...                                                   ...            ...   \n",
       "112474                                    Toyota Venza II            5.0   \n",
       "112478             Mercedes-Benz V-Класс 250 d длинный II            5.0   \n",
       "112479                               Toyota RAV4 V (XA50)            5.0   \n",
       "112490                      Toyota Fortuner II Рестайлинг            5.0   \n",
       "112497                                 Volkswagen Polo VI            5.0   \n",
       "\n",
       "        productionDate  sell_id  vehicleTransmission       price  train  age  \\\n",
       "97395           2021.0        0                    1   3900000.0      1  0.0   \n",
       "97398           2021.0        0                    1  15340000.0      1  0.0   \n",
       "97400           2021.0        0                    1   1330000.0      1  0.0   \n",
       "97415           2021.0        0                    1   5690000.0      1  0.0   \n",
       "97420           2021.0        0                    1   5710000.0      1  0.0   \n",
       "...                ...      ...                  ...         ...    ...  ...   \n",
       "112474          2021.0        0                    1   5620000.0      1  0.0   \n",
       "112478          2021.0        0                    1   9610000.0      1  0.0   \n",
       "112479          2021.0        0                    1   3730000.0      1  0.0   \n",
       "112490          2021.0        0                    1   4590000.0      1  0.0   \n",
       "112497          2021.0        0                    0   1810000.0      1  0.0   \n",
       "\n",
       "        owners  transmission   price_log2  mileage_per_year  rarity  older_3y  \\\n",
       "97395      1.0              2   21.895043           12000.0       0         0   \n",
       "97398      1.0              1   23.870795            7000.0       0         0   \n",
       "97400      2.0              2   20.342996            5000.0       0         0   \n",
       "97415      2.0              1   22.439997           13000.0       0         0   \n",
       "97420      1.0              1   22.445060            8000.0       0         0   \n",
       "...        ...            ...         ...               ...     ...       ...   \n",
       "112474     1.0              1   22.422139            1000.0       0         0   \n",
       "112478     1.0              3   23.196105           28000.0       0         0   \n",
       "112479     1.0              1   21.830745            3000.0       0         0   \n",
       "112490     1.0              1   22.130063            6000.0       0         0   \n",
       "112497     1.0              2   20.787559            1000.0       0         0   \n",
       "\n",
       "        older_5y  \n",
       "97395          0  \n",
       "97398          0  \n",
       "97400          0  \n",
       "97415          0  \n",
       "97420          0  \n",
       "...          ...  \n",
       "112474         0  \n",
       "112478         0  \n",
       "112479         0  \n",
       "112490         0  \n",
       "112497         0  \n",
       "\n",
       "[922 rows x 23 columns]"
      ]
     },
     "execution_count": 616,
     "metadata": {},
     "output_type": "execute_result"
    }
   ],
   "source": [
    "combined_df.mileage_per_year = combined_df.apply(\n",
    "    lambda x: x.mileage if x.age == 0 else x.mileage / x.age, axis=1)\n",
    "combined_df[combined_df.age == 0]"
   ]
  },
  {
   "cell_type": "code",
   "execution_count": 617,
   "metadata": {
    "execution": {
     "iopub.execute_input": "2022-01-11T09:45:31.867518Z",
     "iopub.status.busy": "2022-01-11T09:45:31.867025Z",
     "iopub.status.idle": "2022-01-11T09:45:32.125942Z",
     "shell.execute_reply": "2022-01-11T09:45:32.124892Z",
     "shell.execute_reply.started": "2022-01-11T09:45:31.867482Z"
    }
   },
   "outputs": [
    {
     "data": {
      "text/plain": [
       "Text(0.5, 1.0, 'mileage_per_year distribution')"
      ]
     },
     "execution_count": 617,
     "metadata": {},
     "output_type": "execute_result"
    }
   ],
   "source": [
    "combined_df.query('train == 1').mileage_per_year.hist(bins=10)\n",
    "plt.title('mileage_per_year distribution', fontdict={'fontsize': 14})"
   ]
  },
  {
   "cell_type": "markdown",
   "metadata": {},
   "source": [
    "Снова тяжелый хвост. Логорифмируем:"
   ]
  },
  {
   "cell_type": "code",
   "execution_count": 618,
   "metadata": {
    "execution": {
     "iopub.execute_input": "2022-01-11T09:45:50.797911Z",
     "iopub.status.busy": "2022-01-11T09:45:50.797594Z",
     "iopub.status.idle": "2022-01-11T09:45:51.087109Z",
     "shell.execute_reply": "2022-01-11T09:45:51.086267Z",
     "shell.execute_reply.started": "2022-01-11T09:45:50.797881Z"
    }
   },
   "outputs": [
    {
     "data": {
      "text/plain": [
       "Text(0.5, 1.0, 'The log2 mileage_per_year distribution')"
      ]
     },
     "execution_count": 618,
     "metadata": {},
     "output_type": "execute_result"
    }
   ],
   "source": [
    "np.log2(combined_df.query('train == 1').mileage_per_year+1).hist()\n",
    "plt.title('The log2 mileage_per_year distribution', fontdict={'fontsize': 14})"
   ]
  },
  {
   "cell_type": "code",
   "execution_count": 619,
   "metadata": {
    "execution": {
     "iopub.execute_input": "2022-01-11T09:45:54.828276Z",
     "iopub.status.busy": "2022-01-11T09:45:54.827997Z",
     "iopub.status.idle": "2022-01-11T09:45:54.835855Z",
     "shell.execute_reply": "2022-01-11T09:45:54.834973Z",
     "shell.execute_reply.started": "2022-01-11T09:45:54.828247Z"
    }
   },
   "outputs": [],
   "source": [
    "# добавим новый признак\n",
    "combined_df['mileage_per_year_log2'] = np.log2(\n",
    "    combined_df.mileage_per_year + 1)"
   ]
  },
  {
   "cell_type": "code",
   "execution_count": 620,
   "metadata": {
    "execution": {
     "iopub.execute_input": "2022-01-11T09:45:59.629087Z",
     "iopub.status.busy": "2022-01-11T09:45:59.628727Z",
     "iopub.status.idle": "2022-01-11T09:45:59.883736Z",
     "shell.execute_reply": "2022-01-11T09:45:59.88303Z",
     "shell.execute_reply.started": "2022-01-11T09:45:59.629042Z"
    }
   },
   "outputs": [
    {
     "data": {
      "text/plain": [
       "<AxesSubplot:title={'center':'The log2 mileage_per_year distribution'}, xlabel='price ', ylabel='price'>"
      ]
     },
     "execution_count": 620,
     "metadata": {},
     "output_type": "execute_result"
    }
   ],
   "source": [
    "combined_df.enginePower.hist(bins=10)"
   ]
  },
  {
   "cell_type": "code",
   "execution_count": 621,
   "metadata": {
    "execution": {
     "iopub.execute_input": "2022-01-11T09:46:05.593788Z",
     "iopub.status.busy": "2022-01-11T09:46:05.593437Z",
     "iopub.status.idle": "2022-01-11T09:46:05.600835Z",
     "shell.execute_reply": "2022-01-11T09:46:05.599695Z",
     "shell.execute_reply.started": "2022-01-11T09:46:05.593751Z"
    }
   },
   "outputs": [
    {
     "data": {
      "text/plain": [
       "Index(['bodyType', 'brand', 'color', 'engineDisplacement', 'enginePower',\n",
       "       'fuelType', 'mileage', 'model_name', 'name', 'numberOfDoors',\n",
       "       'productionDate', 'sell_id', 'vehicleTransmission', 'price', 'train',\n",
       "       'age', 'owners', 'transmission ', 'price_log2', 'mileage_per_year',\n",
       "       'rarity', 'older_3y', 'older_5y', 'mileage_per_year_log2'],\n",
       "      dtype='object')"
      ]
     },
     "execution_count": 621,
     "metadata": {},
     "output_type": "execute_result"
    }
   ],
   "source": [
    "combined_df.columns"
   ]
  },
  {
   "cell_type": "code",
   "execution_count": 622,
   "metadata": {
    "execution": {
     "iopub.execute_input": "2022-01-11T09:46:08.879742Z",
     "iopub.status.busy": "2022-01-11T09:46:08.879416Z",
     "iopub.status.idle": "2022-01-11T09:46:08.923858Z",
     "shell.execute_reply": "2022-01-11T09:46:08.923066Z",
     "shell.execute_reply.started": "2022-01-11T09:46:08.87971Z"
    }
   },
   "outputs": [
    {
     "data": {
      "text/html": [
       "<div>\n",
       "<style scoped>\n",
       "    .dataframe tbody tr th:only-of-type {\n",
       "        vertical-align: middle;\n",
       "    }\n",
       "\n",
       "    .dataframe tbody tr th {\n",
       "        vertical-align: top;\n",
       "    }\n",
       "\n",
       "    .dataframe thead th {\n",
       "        text-align: right;\n",
       "    }\n",
       "</style>\n",
       "<table border=\"1\" class=\"dataframe\">\n",
       "  <thead>\n",
       "    <tr style=\"text-align: right;\">\n",
       "      <th></th>\n",
       "      <th>bodyType</th>\n",
       "      <th>brand</th>\n",
       "      <th>color</th>\n",
       "      <th>engineDisplacement</th>\n",
       "      <th>enginePower</th>\n",
       "      <th>fuelType</th>\n",
       "      <th>mileage</th>\n",
       "      <th>model_name</th>\n",
       "      <th>name</th>\n",
       "      <th>numberOfDoors</th>\n",
       "      <th>productionDate</th>\n",
       "      <th>sell_id</th>\n",
       "      <th>vehicleTransmission</th>\n",
       "      <th>price</th>\n",
       "      <th>train</th>\n",
       "      <th>age</th>\n",
       "      <th>owners</th>\n",
       "      <th>transmission</th>\n",
       "      <th>price_log2</th>\n",
       "      <th>mileage_per_year</th>\n",
       "      <th>rarity</th>\n",
       "      <th>older_3y</th>\n",
       "      <th>older_5y</th>\n",
       "      <th>mileage_per_year_log2</th>\n",
       "    </tr>\n",
       "  </thead>\n",
       "  <tbody>\n",
       "    <tr>\n",
       "      <th>48861</th>\n",
       "      <td>0</td>\n",
       "      <td>4</td>\n",
       "      <td>15</td>\n",
       "      <td>4.7</td>\n",
       "      <td>234.0</td>\n",
       "      <td>1</td>\n",
       "      <td>376300.0</td>\n",
       "      <td>456</td>\n",
       "      <td>470 4.7 AT (234 л.с.) 4WD</td>\n",
       "      <td>5.0</td>\n",
       "      <td>2003.0</td>\n",
       "      <td>0</td>\n",
       "      <td>1</td>\n",
       "      <td>1200000.0</td>\n",
       "      <td>1</td>\n",
       "      <td>18.0</td>\n",
       "      <td>3.0</td>\n",
       "      <td>1</td>\n",
       "      <td>20.194604</td>\n",
       "      <td>20905.555556</td>\n",
       "      <td>0</td>\n",
       "      <td>1</td>\n",
       "      <td>1</td>\n",
       "      <td>14.351668</td>\n",
       "    </tr>\n",
       "    <tr>\n",
       "      <th>31840</th>\n",
       "      <td>0</td>\n",
       "      <td>5</td>\n",
       "      <td>15</td>\n",
       "      <td>3.0</td>\n",
       "      <td>224.0</td>\n",
       "      <td>0</td>\n",
       "      <td>136000.0</td>\n",
       "      <td>362</td>\n",
       "      <td>350 3.0d AT (224 л.с.) 4WD</td>\n",
       "      <td>5.0</td>\n",
       "      <td>2010.0</td>\n",
       "      <td>1092204994</td>\n",
       "      <td>1</td>\n",
       "      <td>0.0</td>\n",
       "      <td>0</td>\n",
       "      <td>11.0</td>\n",
       "      <td>2.0</td>\n",
       "      <td>1</td>\n",
       "      <td>0.000000</td>\n",
       "      <td>12363.636364</td>\n",
       "      <td>0</td>\n",
       "      <td>1</td>\n",
       "      <td>1</td>\n",
       "      <td>13.593932</td>\n",
       "    </tr>\n",
       "  </tbody>\n",
       "</table>\n",
       "</div>"
      ],
      "text/plain": [
       "       bodyType  brand  color  engineDisplacement  enginePower  fuelType  \\\n",
       "48861         0      4     15                 4.7        234.0         1   \n",
       "31840         0      5     15                 3.0        224.0         0   \n",
       "\n",
       "        mileage  model_name                        name  numberOfDoors  \\\n",
       "48861  376300.0         456   470 4.7 AT (234 л.с.) 4WD            5.0   \n",
       "31840  136000.0         362  350 3.0d AT (224 л.с.) 4WD            5.0   \n",
       "\n",
       "       productionDate     sell_id  vehicleTransmission      price  train  \\\n",
       "48861          2003.0           0                    1  1200000.0      1   \n",
       "31840          2010.0  1092204994                    1        0.0      0   \n",
       "\n",
       "        age  owners  transmission   price_log2  mileage_per_year  rarity  \\\n",
       "48861  18.0     3.0              1   20.194604      20905.555556       0   \n",
       "31840  11.0     2.0              1    0.000000      12363.636364       0   \n",
       "\n",
       "       older_3y  older_5y  mileage_per_year_log2  \n",
       "48861         1         1              14.351668  \n",
       "31840         1         1              13.593932  "
      ]
     },
     "execution_count": 622,
     "metadata": {},
     "output_type": "execute_result"
    }
   ],
   "source": [
    "temp1 = combined_df.copy()\n",
    "temp1.sample(2)"
   ]
  },
  {
   "cell_type": "markdown",
   "metadata": {},
   "source": [
    "# Построение моделей ML"
   ]
  },
  {
   "cell_type": "code",
   "execution_count": 623,
   "metadata": {
    "execution": {
     "iopub.execute_input": "2022-01-11T09:46:22.481975Z",
     "iopub.status.busy": "2022-01-11T09:46:22.481494Z",
     "iopub.status.idle": "2022-01-11T09:46:22.543275Z",
     "shell.execute_reply": "2022-01-11T09:46:22.54256Z",
     "shell.execute_reply.started": "2022-01-11T09:46:22.48194Z"
    }
   },
   "outputs": [],
   "source": [
    "X = combined_df.query('train == 1').drop(\n",
    "    ['price', 'train', 'name', 'price_log2', 'mileage_per_year'], axis=1)\n",
    "\n",
    "y = combined_df.query('train == 1').price\n",
    "X_train, X_test, y_train, y_test = train_test_split(\n",
    "    X, y, test_size=VAL_SIZE, shuffle=True, random_state=RANDOM_SEED)"
   ]
  },
  {
   "cell_type": "code",
   "execution_count": 624,
   "metadata": {
    "execution": {
     "iopub.execute_input": "2022-01-11T09:46:57.194637Z",
     "iopub.status.busy": "2022-01-11T09:46:57.194003Z",
     "iopub.status.idle": "2022-01-11T09:46:57.25627Z",
     "shell.execute_reply": "2022-01-11T09:46:57.252691Z",
     "shell.execute_reply.started": "2022-01-11T09:46:57.194578Z"
    }
   },
   "outputs": [
    {
     "name": "stdout",
     "output_type": "stream",
     "text": [
      "The accuracy of the naive model using MAPE metrics is : 91.09%.\n"
     ]
    }
   ],
   "source": [
    "lr = LinearRegression().fit(X_train, y_train)\n",
    "y_pred = (lr.predict(X_test))\n",
    "\n",
    "print(\n",
    "    f\"The accuracy of the naive model using MAPE metrics is : {(mape(y_test, y_pred))*100:0.2f}%.\")"
   ]
  },
  {
   "cell_type": "markdown",
   "metadata": {},
   "source": [
    "Работа с данными привела к улучшению результата модели (MAPE 91.09%), однако на практике ее применение не несёт особой пользы. Построим другие модели"
   ]
  },
  {
   "cell_type": "markdown",
   "metadata": {},
   "source": [
    "### RandomForestRegressor"
   ]
  },
  {
   "cell_type": "code",
   "execution_count": 625,
   "metadata": {
    "execution": {
     "iopub.execute_input": "2022-01-11T09:47:17.19152Z",
     "iopub.status.busy": "2022-01-11T09:47:17.191111Z",
     "iopub.status.idle": "2022-01-11T09:47:44.506737Z",
     "shell.execute_reply": "2022-01-11T09:47:44.505834Z",
     "shell.execute_reply.started": "2022-01-11T09:47:17.191475Z"
    }
   },
   "outputs": [
    {
     "name": "stderr",
     "output_type": "stream",
     "text": [
      "[Parallel(n_jobs=-1)]: Using backend ThreadingBackend with 12 concurrent workers.\n",
      "[Parallel(n_jobs=-1)]: Done  26 tasks      | elapsed:    1.3s\n",
      "[Parallel(n_jobs=-1)]: Done 100 out of 100 | elapsed:    4.1s finished\n",
      "[Parallel(n_jobs=12)]: Using backend ThreadingBackend with 12 concurrent workers.\n",
      "[Parallel(n_jobs=12)]: Done  26 tasks      | elapsed:    0.0s\n",
      "[Parallel(n_jobs=12)]: Done 100 out of 100 | elapsed:    0.0s finished\n"
     ]
    },
    {
     "name": "stdout",
     "output_type": "stream",
     "text": [
      "The MAPE mertics of the Random Forest model using MAPE metrics: 15.60%.\n"
     ]
    },
    {
     "name": "stderr",
     "output_type": "stream",
     "text": [
      "[Parallel(n_jobs=-1)]: Using backend ThreadingBackend with 12 concurrent workers.\n",
      "[Parallel(n_jobs=-1)]: Done  26 tasks      | elapsed:    1.2s\n"
     ]
    },
    {
     "name": "stdout",
     "output_type": "stream",
     "text": [
      "The MAPE mertic for the Random Forest model is : 14.20%.\n"
     ]
    },
    {
     "name": "stderr",
     "output_type": "stream",
     "text": [
      "[Parallel(n_jobs=-1)]: Done 100 out of 100 | elapsed:    3.8s finished\n",
      "[Parallel(n_jobs=12)]: Using backend ThreadingBackend with 12 concurrent workers.\n",
      "[Parallel(n_jobs=12)]: Done  26 tasks      | elapsed:    0.0s\n",
      "[Parallel(n_jobs=12)]: Done 100 out of 100 | elapsed:    0.0s finished\n"
     ]
    }
   ],
   "source": [
    "rf = RandomForestRegressor(random_state=RANDOM_SEED, n_jobs=-1, verbose=1)\n",
    "rf.fit(X_train, y_train)\n",
    "predict_rf = rf.predict(X_test)\n",
    "\n",
    "print(\n",
    "    f\"The MAPE mertics of the Random Forest model using MAPE metrics: {(mape(y_test, predict_rf) * 100):0.2f}%.\")\n",
    "\n",
    "# with log-transformation of the target variable\n",
    "rf_log = RandomForestRegressor(random_state=RANDOM_SEED, n_jobs=-1, verbose=1)\n",
    "rf_log.fit(X_train, np.log(y_train))\n",
    "predict_rf_log = np.exp(rf_log.predict(X_test))\n",
    "\n",
    "print(\n",
    "    f\"The MAPE mertic for the Random Forest model is : {(mape(y_test, predict_rf_log) * 100):0.2f}%.\")"
   ]
  },
  {
   "cell_type": "markdown",
   "metadata": {},
   "source": [
    "Результат MAPE 14.20%"
   ]
  },
  {
   "cell_type": "markdown",
   "metadata": {},
   "source": [
    "### ExtraTreesRegressor"
   ]
  },
  {
   "cell_type": "code",
   "execution_count": 626,
   "metadata": {},
   "outputs": [],
   "source": [
    "X = combined_df.query('train == 1').drop(\n",
    "    ['price', 'train', 'name', 'price_log2', 'mileage_per_year'], axis=1)\n",
    "y = combined_df.query('train == 1').price\n",
    "X_train, X_test, y_train, y_test = train_test_split(\n",
    "    X, y, test_size=VAL_SIZE, shuffle=True, random_state=RANDOM_SEED)"
   ]
  },
  {
   "cell_type": "code",
   "execution_count": 627,
   "metadata": {},
   "outputs": [
    {
     "name": "stderr",
     "output_type": "stream",
     "text": [
      "[Parallel(n_jobs=-1)]: Using backend ThreadingBackend with 12 concurrent workers.\n",
      "[Parallel(n_jobs=-1)]: Done  26 tasks      | elapsed:    0.8s\n",
      "[Parallel(n_jobs=-1)]: Done 100 out of 100 | elapsed:    2.6s finished\n",
      "[Parallel(n_jobs=12)]: Using backend ThreadingBackend with 12 concurrent workers.\n",
      "[Parallel(n_jobs=12)]: Done  26 tasks      | elapsed:    0.0s\n",
      "[Parallel(n_jobs=12)]: Done 100 out of 100 | elapsed:    0.0s finished\n",
      "[Parallel(n_jobs=-1)]: Using backend ThreadingBackend with 12 concurrent workers.\n"
     ]
    },
    {
     "name": "stdout",
     "output_type": "stream",
     "text": [
      "0.23522151932937024\n"
     ]
    },
    {
     "name": "stderr",
     "output_type": "stream",
     "text": [
      "[Parallel(n_jobs=-1)]: Done  26 tasks      | elapsed:    0.8s\n",
      "[Parallel(n_jobs=-1)]: Done 100 out of 100 | elapsed:    2.6s finished\n",
      "[Parallel(n_jobs=12)]: Using backend ThreadingBackend with 12 concurrent workers.\n",
      "[Parallel(n_jobs=12)]: Done  26 tasks      | elapsed:    0.0s\n",
      "[Parallel(n_jobs=12)]: Done 100 out of 100 | elapsed:    0.0s finished\n",
      "[Parallel(n_jobs=-1)]: Using backend ThreadingBackend with 12 concurrent workers.\n"
     ]
    },
    {
     "name": "stdout",
     "output_type": "stream",
     "text": [
      "0.22432219222206354\n"
     ]
    },
    {
     "name": "stderr",
     "output_type": "stream",
     "text": [
      "[Parallel(n_jobs=-1)]: Done  26 tasks      | elapsed:    0.8s\n",
      "[Parallel(n_jobs=-1)]: Done 100 out of 100 | elapsed:    2.5s finished\n",
      "[Parallel(n_jobs=12)]: Using backend ThreadingBackend with 12 concurrent workers.\n",
      "[Parallel(n_jobs=12)]: Done  26 tasks      | elapsed:    0.0s\n",
      "[Parallel(n_jobs=12)]: Done 100 out of 100 | elapsed:    0.0s finished\n",
      "[Parallel(n_jobs=-1)]: Using backend ThreadingBackend with 12 concurrent workers.\n"
     ]
    },
    {
     "name": "stdout",
     "output_type": "stream",
     "text": [
      "0.21979568507388886\n"
     ]
    },
    {
     "name": "stderr",
     "output_type": "stream",
     "text": [
      "[Parallel(n_jobs=-1)]: Done  26 tasks      | elapsed:    0.8s\n"
     ]
    },
    {
     "name": "stdout",
     "output_type": "stream",
     "text": [
      "0.22746392840899593\n",
      "The MAPE mertic for the default ExtraTreesRegressor model using 4-fold CV is: 22.67%.\n"
     ]
    },
    {
     "name": "stderr",
     "output_type": "stream",
     "text": [
      "[Parallel(n_jobs=-1)]: Done 100 out of 100 | elapsed:    2.5s finished\n",
      "[Parallel(n_jobs=12)]: Using backend ThreadingBackend with 12 concurrent workers.\n",
      "[Parallel(n_jobs=12)]: Done  26 tasks      | elapsed:    0.0s\n",
      "[Parallel(n_jobs=12)]: Done 100 out of 100 | elapsed:    0.0s finished\n"
     ]
    }
   ],
   "source": [
    "X1 = np.array(X)\n",
    "y1 = np.array(y)\n",
    "\n",
    "etr_log = ExtraTreesRegressor(random_state=RANDOM_SEED, n_jobs=-1, verbose=1)\n",
    "\n",
    "skf = KFold(n_splits=4)\n",
    "etr_log_mape_values = []\n",
    "\n",
    "for train_index, test_index in skf.split(X1, y1):\n",
    "    X_train, X_test = X1[train_index], X1[test_index]\n",
    "    y_train, y_test = y1[train_index], y1[test_index]\n",
    "\n",
    "    etr_log.fit(X_train, np.log(y_train))\n",
    "    y_pred = np.exp(etr_log.predict(X_test))\n",
    "\n",
    "    etr_log_mape_value = mape(y_test, y_pred)\n",
    "    etr_log_mape_values.append(etr_log_mape_value)\n",
    "    print(etr_log_mape_value)\n",
    "\n",
    "print(\n",
    "    f\"The MAPE mertic for the default ExtraTreesRegressor model using 4-fold CV is: {(np.mean(etr_log_mape_values) * 100):0.2f}%.\")"
   ]
  },
  {
   "cell_type": "markdown",
   "metadata": {},
   "source": [
    "В данном случае результат MAPE 22.67%"
   ]
  },
  {
   "cell_type": "markdown",
   "metadata": {},
   "source": [
    "### XGBoostRegressor"
   ]
  },
  {
   "cell_type": "code",
   "execution_count": 628,
   "metadata": {},
   "outputs": [
    {
     "name": "stdout",
     "output_type": "stream",
     "text": [
      "0.2617275655558588\n",
      "0.23335829934430205\n",
      "0.2065703396125253\n",
      "0.188326516987709\n",
      "The MAPE mertic for the XGBRegressor model using 4-fold CV: 22.25%.\n"
     ]
    }
   ],
   "source": [
    "X1 = np.array(X)\n",
    "y1 = np.array(y)\n",
    "\n",
    "xgb_log = xgb.XGBRegressor(max_depth=10,\n",
    "                           n_estimators=1000,\n",
    "                           random_state=RANDOM_SEED,\n",
    "                           n_jobs=-1)\n",
    "skf = KFold(n_splits=4)\n",
    "xgb_log_mape_values = []\n",
    "\n",
    "for train_index, test_index in skf.split(X1, y1):\n",
    "    X_train, X_test = X1[train_index], X1[test_index]\n",
    "    y_train, y_test = y1[train_index], y1[test_index]\n",
    "\n",
    "    xgb_log.fit(X_train, np.log(y_train))\n",
    "    y_pred = np.exp(xgb_log.predict(X_test))\n",
    "\n",
    "    xgb_log_mape_value = mape(y_test, y_pred)\n",
    "    xgb_log_mape_values.append(xgb_log_mape_value)\n",
    "    print(xgb_log_mape_value)\n",
    "\n",
    "print(\n",
    "    f\"The MAPE mertic for the XGBRegressor model using 4-fold CV: {(np.mean(xgb_log_mape_values) * 100):0.2f}%.\")"
   ]
  },
  {
   "cell_type": "markdown",
   "metadata": {},
   "source": [
    "Здесь метрика MAPE 22.25%"
   ]
  },
  {
   "cell_type": "markdown",
   "metadata": {},
   "source": [
    "### StackingRegressor"
   ]
  },
  {
   "cell_type": "code",
   "execution_count": 629,
   "metadata": {
    "execution": {
     "iopub.execute_input": "2022-01-11T09:55:23.563332Z",
     "iopub.status.busy": "2022-01-11T09:55:23.562959Z",
     "iopub.status.idle": "2022-01-11T10:01:25.792524Z",
     "shell.execute_reply": "2022-01-11T10:01:25.791425Z",
     "shell.execute_reply.started": "2022-01-11T09:55:23.563293Z"
    }
   },
   "outputs": [
    {
     "name": "stderr",
     "output_type": "stream",
     "text": [
      "[Parallel(n_jobs=-1)]: Using backend LokyBackend with 12 concurrent workers.\n",
      "[Parallel(n_jobs=-1)]: Done  26 tasks      | elapsed:    2.8s\n",
      "[Parallel(n_jobs=-1)]: Done 100 out of 100 | elapsed:    5.3s finished\n",
      "[Parallel(n_jobs=-1)]: Using backend LokyBackend with 12 concurrent workers.\n",
      "[Parallel(n_jobs=-1)]: Done  26 tasks      | elapsed:    1.0s\n",
      "[Parallel(n_jobs=-1)]: Done 100 out of 100 | elapsed:    2.8s finished\n",
      "[Parallel(n_jobs=12)]: Using backend ThreadingBackend with 12 concurrent workers.\n",
      "[Parallel(n_jobs=12)]: Done  26 tasks      | elapsed:    0.0s\n",
      "[Parallel(n_jobs=12)]: Done 100 out of 100 | elapsed:    0.0s finished\n",
      "[Parallel(n_jobs=-1)]: Using backend LokyBackend with 12 concurrent workers.\n",
      "[Parallel(n_jobs=-1)]: Done  26 tasks      | elapsed:    0.8s\n",
      "[Parallel(n_jobs=-1)]: Done 100 out of 100 | elapsed:    3.0s finished\n",
      "[Parallel(n_jobs=12)]: Using backend ThreadingBackend with 12 concurrent workers.\n",
      "[Parallel(n_jobs=12)]: Done  26 tasks      | elapsed:    0.0s\n",
      "[Parallel(n_jobs=12)]: Done 100 out of 100 | elapsed:    0.0s finished\n",
      "[Parallel(n_jobs=-1)]: Using backend LokyBackend with 12 concurrent workers.\n",
      "[Parallel(n_jobs=-1)]: Done  26 tasks      | elapsed:    0.9s\n",
      "[Parallel(n_jobs=-1)]: Done 100 out of 100 | elapsed:    2.8s finished\n",
      "[Parallel(n_jobs=12)]: Using backend ThreadingBackend with 12 concurrent workers.\n",
      "[Parallel(n_jobs=12)]: Done  26 tasks      | elapsed:    0.0s\n",
      "[Parallel(n_jobs=12)]: Done 100 out of 100 | elapsed:    0.0s finished\n",
      "[Parallel(n_jobs=-1)]: Using backend LokyBackend with 12 concurrent workers.\n",
      "[Parallel(n_jobs=-1)]: Done  26 tasks      | elapsed:    0.8s\n",
      "[Parallel(n_jobs=-1)]: Done 100 out of 100 | elapsed:    2.7s finished\n",
      "[Parallel(n_jobs=12)]: Using backend ThreadingBackend with 12 concurrent workers.\n",
      "[Parallel(n_jobs=12)]: Done  26 tasks      | elapsed:    0.0s\n",
      "[Parallel(n_jobs=12)]: Done 100 out of 100 | elapsed:    0.0s finished\n",
      "[Parallel(n_jobs=-1)]: Using backend LokyBackend with 12 concurrent workers.\n",
      "[Parallel(n_jobs=-1)]: Done  26 tasks      | elapsed:    0.7s\n",
      "[Parallel(n_jobs=-1)]: Done 100 out of 100 | elapsed:    2.5s finished\n",
      "[Parallel(n_jobs=12)]: Using backend ThreadingBackend with 12 concurrent workers.\n",
      "[Parallel(n_jobs=12)]: Done  26 tasks      | elapsed:    0.0s\n",
      "[Parallel(n_jobs=12)]: Done 100 out of 100 | elapsed:    0.0s finished\n",
      "[Parallel(n_jobs=12)]: Using backend ThreadingBackend with 12 concurrent workers.\n",
      "[Parallel(n_jobs=12)]: Done  26 tasks      | elapsed:    0.0s\n",
      "[Parallel(n_jobs=12)]: Done 100 out of 100 | elapsed:    0.0s finished\n"
     ]
    },
    {
     "name": "stdout",
     "output_type": "stream",
     "text": [
      "The MAPE mertic for the default StackingRegressor model: 19.17%.\n"
     ]
    }
   ],
   "source": [
    "estimators = [\n",
    "    ('etr', ExtraTreesRegressor(random_state=RANDOM_SEED, n_jobs=-1, verbose=1)),\n",
    "    ('xgb', xgb.XGBRegressor(objective='reg:squarederror', colsample_bytree=0.5, learning_rate=0.05,\n",
    "                             max_depth=12, alpha=1, n_jobs=-1, n_estimators=1000, random_state=RANDOM_SEED))]\n",
    "\n",
    "sr_log = StackingRegressor(estimators=estimators,\n",
    "                           final_estimator=LinearRegression())\n",
    "\n",
    "sr_log.fit(X_train, np.log(y_train))\n",
    "\n",
    "y_pred = np.exp(sr_log.predict(X_test))\n",
    "\n",
    "print(\n",
    "    f\"The MAPE mertic for the default StackingRegressor model: {(mape(y_test, y_pred) * 100):0.2f}%.\")"
   ]
  },
  {
   "cell_type": "markdown",
   "metadata": {},
   "source": [
    "MAPE 19.17%"
   ]
  },
  {
   "cell_type": "markdown",
   "metadata": {},
   "source": [
    "# Выводы по моделям:\n",
    "\n",
    "Лучший результат метрики MAPE показала модель RandomForestRegressor(14.20%), а худший - ExtraTreesRegressor с результатом 22.67%. Средние результаты у моделей XGBoostRegressor и StackingRegressor (22.25% и 19.17% соответственно). Предположительно, высокий показатель метрики у RandomForestRegressor стал результатом переобучения модели. Поэтому в качестве модели для final submission был выбран стэкинг."
   ]
  },
  {
   "cell_type": "markdown",
   "metadata": {
    "papermill": {
     "duration": 0.085876,
     "end_time": "2020-10-26T12:48:12.734207",
     "exception": false,
     "start_time": "2020-10-26T12:48:12.648331",
     "status": "completed"
    },
    "tags": []
   },
   "source": [
    "# Submission"
   ]
  },
  {
   "cell_type": "code",
   "execution_count": 636,
   "metadata": {
    "execution": {
     "iopub.execute_input": "2022-01-11T10:02:06.601625Z",
     "iopub.status.busy": "2022-01-11T10:02:06.601205Z",
     "iopub.status.idle": "2022-01-11T10:02:06.624567Z",
     "shell.execute_reply": "2022-01-11T10:02:06.623335Z",
     "shell.execute_reply.started": "2022-01-11T10:02:06.601578Z"
    }
   },
   "outputs": [],
   "source": [
    "X_kag = combined_df.query('train == 0').drop(\n",
    "    ['price', 'train', 'name', 'price_log2', 'mileage_per_year'], axis=1)"
   ]
  },
  {
   "cell_type": "code",
   "execution_count": 637,
   "metadata": {},
   "outputs": [
    {
     "name": "stdout",
     "output_type": "stream",
     "text": [
      "<class 'pandas.core.frame.DataFrame'>\n",
      "Int64Index: 34686 entries, 0 to 34685\n",
      "Data columns (total 19 columns):\n",
      " #   Column                 Non-Null Count  Dtype  \n",
      "---  ------                 --------------  -----  \n",
      " 0   bodyType               34686 non-null  int8   \n",
      " 1   brand                  34686 non-null  int8   \n",
      " 2   color                  34686 non-null  int8   \n",
      " 3   engineDisplacement     34686 non-null  float64\n",
      " 4   enginePower            34686 non-null  float64\n",
      " 5   fuelType               34686 non-null  int64  \n",
      " 6   mileage                34686 non-null  float64\n",
      " 7   model_name             34686 non-null  int16  \n",
      " 8   numberOfDoors          34686 non-null  float64\n",
      " 9   productionDate         34686 non-null  float64\n",
      " 10  sell_id                34686 non-null  int64  \n",
      " 11  vehicleTransmission    34686 non-null  int64  \n",
      " 12  age                    34686 non-null  float64\n",
      " 13  owners                 34686 non-null  float64\n",
      " 14  transmission           34686 non-null  int64  \n",
      " 15  rarity                 34686 non-null  int64  \n",
      " 16  older_3y               34686 non-null  int64  \n",
      " 17  older_5y               34686 non-null  int64  \n",
      " 18  mileage_per_year_log2  34686 non-null  float64\n",
      "dtypes: float64(8), int16(1), int64(7), int8(3)\n",
      "memory usage: 4.4 MB\n"
     ]
    }
   ],
   "source": [
    "X_kag.info()"
   ]
  },
  {
   "cell_type": "code",
   "execution_count": 638,
   "metadata": {},
   "outputs": [],
   "source": [
    "X_kag.enginePower = X_kag.enginePower.apply(\n",
    "    transf_engineDisplacement_to_float)"
   ]
  },
  {
   "cell_type": "code",
   "execution_count": 640,
   "metadata": {
    "execution": {
     "iopub.execute_input": "2022-01-11T10:02:15.083365Z",
     "iopub.status.busy": "2022-01-11T10:02:15.082037Z",
     "iopub.status.idle": "2022-01-11T10:02:17.228435Z",
     "shell.execute_reply": "2022-01-11T10:02:17.227684Z",
     "shell.execute_reply.started": "2022-01-11T10:02:15.083283Z"
    }
   },
   "outputs": [
    {
     "name": "stderr",
     "output_type": "stream",
     "text": [
      "[Parallel(n_jobs=12)]: Using backend ThreadingBackend with 12 concurrent workers.\n",
      "[Parallel(n_jobs=12)]: Done  26 tasks      | elapsed:    0.0s\n",
      "[Parallel(n_jobs=12)]: Done 100 out of 100 | elapsed:    0.1s finished\n"
     ]
    },
    {
     "data": {
      "text/html": [
       "<div>\n",
       "<style scoped>\n",
       "    .dataframe tbody tr th:only-of-type {\n",
       "        vertical-align: middle;\n",
       "    }\n",
       "\n",
       "    .dataframe tbody tr th {\n",
       "        vertical-align: top;\n",
       "    }\n",
       "\n",
       "    .dataframe thead th {\n",
       "        text-align: right;\n",
       "    }\n",
       "</style>\n",
       "<table border=\"1\" class=\"dataframe\">\n",
       "  <thead>\n",
       "    <tr style=\"text-align: right;\">\n",
       "      <th></th>\n",
       "      <th>sell_id</th>\n",
       "      <th>price</th>\n",
       "    </tr>\n",
       "  </thead>\n",
       "  <tbody>\n",
       "    <tr>\n",
       "      <th>0</th>\n",
       "      <td>1100575026</td>\n",
       "      <td>4.705177e+05</td>\n",
       "    </tr>\n",
       "    <tr>\n",
       "      <th>1</th>\n",
       "      <td>1100549428</td>\n",
       "      <td>6.537377e+05</td>\n",
       "    </tr>\n",
       "    <tr>\n",
       "      <th>2</th>\n",
       "      <td>1100658222</td>\n",
       "      <td>5.457857e+05</td>\n",
       "    </tr>\n",
       "    <tr>\n",
       "      <th>3</th>\n",
       "      <td>1100937408</td>\n",
       "      <td>4.745403e+05</td>\n",
       "    </tr>\n",
       "    <tr>\n",
       "      <th>4</th>\n",
       "      <td>1101037972</td>\n",
       "      <td>4.801561e+05</td>\n",
       "    </tr>\n",
       "    <tr>\n",
       "      <th>5</th>\n",
       "      <td>1100912634</td>\n",
       "      <td>4.365127e+05</td>\n",
       "    </tr>\n",
       "    <tr>\n",
       "      <th>6</th>\n",
       "      <td>1101228730</td>\n",
       "      <td>3.964162e+05</td>\n",
       "    </tr>\n",
       "    <tr>\n",
       "      <th>7</th>\n",
       "      <td>1100165896</td>\n",
       "      <td>3.178476e+05</td>\n",
       "    </tr>\n",
       "    <tr>\n",
       "      <th>8</th>\n",
       "      <td>1100768262</td>\n",
       "      <td>1.006403e+06</td>\n",
       "    </tr>\n",
       "    <tr>\n",
       "      <th>9</th>\n",
       "      <td>1101218501</td>\n",
       "      <td>5.029558e+05</td>\n",
       "    </tr>\n",
       "  </tbody>\n",
       "</table>\n",
       "</div>"
      ],
      "text/plain": [
       "      sell_id         price\n",
       "0  1100575026  4.705177e+05\n",
       "1  1100549428  6.537377e+05\n",
       "2  1100658222  5.457857e+05\n",
       "3  1100937408  4.745403e+05\n",
       "4  1101037972  4.801561e+05\n",
       "5  1100912634  4.365127e+05\n",
       "6  1101228730  3.964162e+05\n",
       "7  1100165896  3.178476e+05\n",
       "8  1100768262  1.006403e+06\n",
       "9  1101218501  5.029558e+05"
      ]
     },
     "execution_count": 640,
     "metadata": {},
     "output_type": "execute_result"
    }
   ],
   "source": [
    "predict_submission = np.exp(sr_log.predict(X_kag))\n",
    "sample_submission['price'] = predict_submission\n",
    "sample_submission.to_csv(f'submission_final.csv', index=False)\n",
    "sample_submission.head(10)"
   ]
  },
  {
   "cell_type": "code",
   "execution_count": null,
   "metadata": {},
   "outputs": [],
   "source": []
  }
 ],
 "metadata": {
  "kernelspec": {
   "display_name": "Python 3",
   "language": "python",
   "name": "python3"
  },
  "language_info": {
   "codemirror_mode": {
    "name": "ipython",
    "version": 3
   },
   "file_extension": ".py",
   "mimetype": "text/x-python",
   "name": "python",
   "nbconvert_exporter": "python",
   "pygments_lexer": "ipython3",
   "version": "3.8.5"
  }
 },
 "nbformat": 4,
 "nbformat_minor": 4
}
